{
  "nbformat": 4,
  "nbformat_minor": 0,
  "metadata": {
    "orig_nbformat": 2,
    "colab": {
      "name": "training.ipynb",
      "provenance": []
    },
    "kernelspec": {
      "name": "python3",
      "display_name": "Python 3"
    }
  },
  "cells": [
    {
      "cell_type": "markdown",
      "metadata": {
        "id": "6geHzXZ67cXj"
      },
      "source": [
        "## 4. Training"
      ]
    },
    {
      "cell_type": "markdown",
      "metadata": {
        "id": "faokFFT9FS47"
      },
      "source": [
        "In this part of notebook we will try to train the model using feature extracted dataframe and make model evaluation"
      ]
    },
    {
      "cell_type": "markdown",
      "metadata": {
        "id": "h40s2Xu6Fvv4"
      },
      "source": [
        "### Setup Prerequisite"
      ]
    },
    {
      "cell_type": "code",
      "metadata": {
        "colab": {
          "base_uri": "https://localhost:8080/"
        },
        "id": "1GKcHtxR9BXm",
        "outputId": "48e5e676-4172-4ee9-f75a-50e1184035de"
      },
      "source": [
        "!pip install pyspark"
      ],
      "execution_count": 1,
      "outputs": [
        {
          "output_type": "stream",
          "text": [
            "Requirement already satisfied: pyspark in /usr/local/lib/python3.7/dist-packages (3.1.1)\n",
            "Requirement already satisfied: py4j==0.10.9 in /usr/local/lib/python3.7/dist-packages (from pyspark) (0.10.9)\n"
          ],
          "name": "stdout"
        }
      ]
    },
    {
      "cell_type": "code",
      "metadata": {
        "colab": {
          "base_uri": "https://localhost:8080/"
        },
        "id": "gcM8P6Qf9KuW",
        "outputId": "bffbbd61-6880-4811-9a7d-5b172de3e672"
      },
      "source": [
        "from google.colab import drive\n",
        "drive.mount('/content/drive')"
      ],
      "execution_count": 2,
      "outputs": [
        {
          "output_type": "stream",
          "text": [
            "Drive already mounted at /content/drive; to attempt to forcibly remount, call drive.mount(\"/content/drive\", force_remount=True).\n"
          ],
          "name": "stdout"
        }
      ]
    },
    {
      "cell_type": "markdown",
      "metadata": {
        "id": "7tpxRRrfGL3u"
      },
      "source": [
        "### Import Needed Library, Initialize Spark and Load Dataframe"
      ]
    },
    {
      "cell_type": "code",
      "metadata": {
        "id": "PENBvBwp9QDX"
      },
      "source": [
        "from pyspark.sql import SparkSession\n",
        "import pyspark.sql.functions as F\n",
        "import pyspark.sql.types as T\n",
        "\n",
        "from pyspark.ml.classification import GBTClassifier\n",
        "from pyspark.ml.feature import VectorAssembler\n",
        "from pyspark.ml.evaluation import BinaryClassificationEvaluator\n",
        "from pyspark.ml import Pipeline\n",
        "from pyspark.ml.tuning import TrainValidationSplit, ParamGridBuilder\n",
        "\n",
        "from sklearn.metrics import accuracy_score, precision_score, recall_score, f1_score, roc_auc_score, confusion_matrix\n",
        "import pandas as pd\n",
        "import seaborn as sns"
      ],
      "execution_count": 3,
      "outputs": []
    },
    {
      "cell_type": "code",
      "metadata": {
        "id": "qUguiUJd-xFX"
      },
      "source": [
        "spark = SparkSession.builder.appName('sparkify-train').getOrCreate()"
      ],
      "execution_count": 4,
      "outputs": []
    },
    {
      "cell_type": "code",
      "metadata": {
        "colab": {
          "base_uri": "https://localhost:8080/"
        },
        "id": "XuIpWq-z_xm_",
        "outputId": "ed0b9cb9-0f4c-44ba-ebe7-0f4614592090"
      },
      "source": [
        "# load data and change is_churn column into label column\n",
        "\n",
        "isOnColab = True # CHANGE THIS VARIABLE IF RUNNING ON DATAPROC\n",
        "\n",
        "path = '/content/drive/MyDrive/datasets/dsnd-sparkify/ml_df.parquet' if isOnColab else 'gs://udacity-dsnd/ml_df.parquet'\n",
        "df = spark.read.parquet(path)\n",
        "df = df.withColumn('label', F.when(F.col(\"is_churn\"), 1).otherwise(0))\n",
        "df.show(5)"
      ],
      "execution_count": 5,
      "outputs": [
        {
          "output_type": "stream",
          "text": [
            "+-------+-------------------+--------+----------+-------------+------------------+----------+-----------+---------+------------------+----------+-----+------+-----+-----+-------+-------+------------+-------------+----------+------------+-----+\n",
            "| userId|              up_ts|is_churn|song_count|subs_duration|         song_rate|n_playlist|thumbs_down|thumbs_up|      avg_sess_len|sess_count| ipad|iphone|linux|macos|windows|n_error|n_friend_add|n_cancel_page|n_unq_song|n_unq_artist|label|\n",
            "+-------+-------------------+--------+----------+-------------+------------------+----------+-----------+---------+------------------+----------+-----+------+-----+-----+-------+-------+------------+-------------+----------+------------+-----+\n",
            "|1071843|2018-11-08 13:16:59|   false|      1190|           22| 54.09090909090909|        39|          6|       51|27020.272727272728|        11|false| false|false| true|  false|      1|          32|            0|      1104|         902|    0|\n",
            "|1120784|2018-10-11 14:16:28|   false|      1502|           50|             30.04|        45|         17|      122|14162.807692307691|        26|false| false|false|false|   true|      2|          24|            0|      1357|        1042|    0|\n",
            "|1128522|2018-11-13 17:46:22|    true|       203|            2|             101.5|         9|          6|       12|17188.666666666668|         3|false| false|false| true|  false|      0|           4|            0|       198|         190|    1|\n",
            "|1130061|2018-10-11 20:04:50|   false|        96|           50|              1.92|         4|          4|        3|           11930.5|         2|false| false|false| true|  false|      0|           2|            1|        96|          92|    0|\n",
            "|1135039|2018-10-04 11:31:06|   false|       643|           57|11.280701754385966|        29|          4|       49|22156.285714285714|         7|false| false|false|false|   true|      2|          12|            0|       611|         513|    0|\n",
            "+-------+-------------------+--------+----------+-------------+------------------+----------+-----------+---------+------------------+----------+-----+------+-----+-----+-------+-------+------------+-------------+----------+------------+-----+\n",
            "only showing top 5 rows\n",
            "\n"
          ],
          "name": "stdout"
        }
      ]
    },
    {
      "cell_type": "markdown",
      "metadata": {
        "id": "ylNDE12FGkVa"
      },
      "source": [
        "### Vectorize Features and Select Only Needed Column"
      ]
    },
    {
      "cell_type": "code",
      "metadata": {
        "id": "5EfHC4lrrGTZ"
      },
      "source": [
        "# features columns\n",
        "feature_cols = df.columns[3:-1]\n",
        "\n",
        "assembler = VectorAssembler(inputCols=feature_cols, outputCol=\"features\")\n",
        "df = assembler.transform(df)\n",
        "\n",
        "# take only features and label column\n",
        "df = df.select([\"features\", \"label\"])"
      ],
      "execution_count": 6,
      "outputs": []
    },
    {
      "cell_type": "markdown",
      "metadata": {
        "id": "D_O9EqlSHUuy"
      },
      "source": [
        "### Split Dataframe for Training and Testing"
      ]
    },
    {
      "cell_type": "code",
      "metadata": {
        "id": "d5FA-3RtNBDH"
      },
      "source": [
        "train_df, test_df = df.randomSplit([0.9,0.1], seed=42)"
      ],
      "execution_count": 7,
      "outputs": []
    },
    {
      "cell_type": "code",
      "metadata": {
        "id": "pIDXeXPi98-C",
        "colab": {
          "base_uri": "https://localhost:8080/"
        },
        "outputId": "76055e1c-c8c7-4f21-c20d-65775feab0e8"
      },
      "source": [
        "print(\"train\")\n",
        "train_df.groupby(\"label\").count().show()\n",
        "\n",
        "print(\"test\")\n",
        "test_df.groupby(\"label\").count().show()"
      ],
      "execution_count": 8,
      "outputs": [
        {
          "output_type": "stream",
          "text": [
            "train\n",
            "+-----+-----+\n",
            "|label|count|\n",
            "+-----+-----+\n",
            "|    1| 4470|\n",
            "|    0| 9148|\n",
            "+-----+-----+\n",
            "\n",
            "test\n",
            "+-----+-----+\n",
            "|label|count|\n",
            "+-----+-----+\n",
            "|    1|  480|\n",
            "|    0| 1037|\n",
            "+-----+-----+\n",
            "\n"
          ],
          "name": "stdout"
        }
      ]
    },
    {
      "cell_type": "markdown",
      "metadata": {
        "id": "E_aLTZ5BHqIw"
      },
      "source": [
        "We have around 1:2 ratio between 1 and 0 label. It shows that we have balanced train and test data split"
      ]
    },
    {
      "cell_type": "markdown",
      "metadata": {
        "id": "NLmhv25MH7kb"
      },
      "source": [
        "### Build Grid Search, Train Model and Predict Test Data"
      ]
    },
    {
      "cell_type": "code",
      "metadata": {
        "id": "wTv5ivs0DeFY"
      },
      "source": [
        "# gradient boosted tree algorithm\n",
        "gbt = GBTClassifier()\n",
        "\n",
        "# Grid search parameter\n",
        "gbt_grid = ParamGridBuilder() \\\n",
        "    .addGrid(gbt.maxDepth, [5, 6, 7]) \\\n",
        "    .addGrid(gbt.maxIter, [15, 20, 25]) \\\n",
        "    .build()\n",
        "\n",
        "# train validation split to search through all grid\n",
        "gbt_tvs = TrainValidationSplit(estimator=gbt,\n",
        "                            estimatorParamMaps=gbt_grid,\n",
        "                            evaluator=BinaryClassificationEvaluator(),\n",
        "                            trainRatio=0.75,\n",
        "                            seed=42)"
      ],
      "execution_count": 9,
      "outputs": []
    },
    {
      "cell_type": "code",
      "metadata": {
        "id": "DHuzEdiboihn"
      },
      "source": [
        "# train model\n",
        "gbt_model = gbt_tvs.fit(train_df)"
      ],
      "execution_count": 10,
      "outputs": []
    },
    {
      "cell_type": "code",
      "metadata": {
        "id": "GbMGwAhoOQly",
        "colab": {
          "base_uri": "https://localhost:8080/"
        },
        "outputId": "262af0a6-c0f4-4848-89c5-f27388ac20a8"
      },
      "source": [
        "gbt_model.bestModel"
      ],
      "execution_count": 11,
      "outputs": [
        {
          "output_type": "execute_result",
          "data": {
            "text/plain": [
              "GBTClassificationModel: uid = GBTClassifier_40cbb10e604e, numTrees=25, numClasses=2, numFeatures=18"
            ]
          },
          "metadata": {
            "tags": []
          },
          "execution_count": 11
        }
      ]
    },
    {
      "cell_type": "code",
      "metadata": {
        "id": "dVOr7nfjfkxi",
        "colab": {
          "base_uri": "https://localhost:8080/"
        },
        "outputId": "5cf2508f-dee6-48e4-a4a7-d918b284240c"
      },
      "source": [
        "gbt_model.bestModel.featureImportances"
      ],
      "execution_count": 12,
      "outputs": [
        {
          "output_type": "execute_result",
          "data": {
            "text/plain": [
              "SparseVector(18, {0: 0.0236, 1: 0.2645, 2: 0.1197, 3: 0.04, 4: 0.0677, 5: 0.0785, 6: 0.0783, 7: 0.0874, 8: 0.0033, 9: 0.0021, 10: 0.01, 11: 0.006, 12: 0.0043, 13: 0.0186, 14: 0.054, 15: 0.1096, 16: 0.0126, 17: 0.0199})"
            ]
          },
          "metadata": {
            "tags": []
          },
          "execution_count": 12
        }
      ]
    },
    {
      "cell_type": "markdown",
      "metadata": {
        "id": "NKUp1fhoIfMh"
      },
      "source": [
        "As seen above, the most important feature in gradient boost model are number 1 (subscription duration) with value 0.3445, number 2 (songs heard per day of subscription) with value 0.1394, number 7 (sessions count) with value 0.1744 and number 15 (cancel confirmation visit)"
      ]
    },
    {
      "cell_type": "code",
      "metadata": {
        "id": "Lw21yapEuc9F"
      },
      "source": [
        "# predict on test dataframe\n",
        "preds_df = gbt_model.transform(test_df)"
      ],
      "execution_count": 13,
      "outputs": []
    },
    {
      "cell_type": "markdown",
      "metadata": {
        "id": "IRdGkgzlJot6"
      },
      "source": [
        "### Evaluate model"
      ]
    },
    {
      "cell_type": "code",
      "metadata": {
        "id": "O0jRiyXdE501"
      },
      "source": [
        "def evaluate(df, label_col='label', pred_col='prediction'):\n",
        "    '''\n",
        "    INPUT:\n",
        "    df - spark dataframe\n",
        "    label_col - name of label column\n",
        "    pred_col - name of prediction column\n",
        "\n",
        "    OUTPUT:\n",
        "    res - pandas dataframe of metrics\n",
        "    '''\n",
        "\n",
        "    temp_df = df.select([label_col, pred_col]).toPandas()\n",
        "    \n",
        "    return pd.DataFrame.from_dict({\n",
        "        \"accuracy\" : [accuracy_score(temp_df[label_col], temp_df[pred_col])],\n",
        "        \"precision\" : [precision_score(temp_df[label_col], temp_df[pred_col])],\n",
        "        \"recall\" : [recall_score(temp_df[label_col], temp_df[pred_col])],\n",
        "        \"f1\" : [f1_score(temp_df[label_col], temp_df[pred_col])],\n",
        "        \"roc_auc\" : [roc_auc_score(temp_df[label_col], temp_df[pred_col])],\n",
        "    })"
      ],
      "execution_count": 14,
      "outputs": []
    },
    {
      "cell_type": "code",
      "metadata": {
        "colab": {
          "base_uri": "https://localhost:8080/",
          "height": 79
        },
        "id": "n9XhLF4LAQj3",
        "outputId": "dfc1be4b-21d4-4eab-ff79-0f79e06d89ad"
      },
      "source": [
        "# metrics result\n",
        "evaluate(preds_df)"
      ],
      "execution_count": 15,
      "outputs": [
        {
          "output_type": "execute_result",
          "data": {
            "text/html": [
              "<div>\n",
              "<style scoped>\n",
              "    .dataframe tbody tr th:only-of-type {\n",
              "        vertical-align: middle;\n",
              "    }\n",
              "\n",
              "    .dataframe tbody tr th {\n",
              "        vertical-align: top;\n",
              "    }\n",
              "\n",
              "    .dataframe thead th {\n",
              "        text-align: right;\n",
              "    }\n",
              "</style>\n",
              "<table border=\"1\" class=\"dataframe\">\n",
              "  <thead>\n",
              "    <tr style=\"text-align: right;\">\n",
              "      <th></th>\n",
              "      <th>accuracy</th>\n",
              "      <th>precision</th>\n",
              "      <th>recall</th>\n",
              "      <th>f1</th>\n",
              "      <th>roc_auc</th>\n",
              "    </tr>\n",
              "  </thead>\n",
              "  <tbody>\n",
              "    <tr>\n",
              "      <th>0</th>\n",
              "      <td>0.77851</td>\n",
              "      <td>0.65</td>\n",
              "      <td>0.65</td>\n",
              "      <td>0.65</td>\n",
              "      <td>0.743997</td>\n",
              "    </tr>\n",
              "  </tbody>\n",
              "</table>\n",
              "</div>"
            ],
            "text/plain": [
              "   accuracy  precision  recall    f1   roc_auc\n",
              "0   0.77851       0.65    0.65  0.65  0.743997"
            ]
          },
          "metadata": {
            "tags": []
          },
          "execution_count": 15
        }
      ]
    },
    {
      "cell_type": "code",
      "metadata": {
        "colab": {
          "base_uri": "https://localhost:8080/",
          "height": 265
        },
        "id": "YrBEolvJKJ61",
        "outputId": "083d2a67-203b-42f7-a36e-b7d7cdccd491"
      },
      "source": [
        "# confusion matrix\n",
        "c_mat = confusion_matrix(preds_df.select(\"label\").toPandas(),\n",
        "                preds_df.select(\"prediction\").toPandas())\n",
        "\n",
        "ax = sns.heatmap(c_mat, annot=True, fmt=\"d\", cmap=\"YlGnBu\")"
      ],
      "execution_count": 16,
      "outputs": [
        {
          "output_type": "display_data",
          "data": {
            "image/png": "[encoded data removed]",
            "text/plain": [
              "<Figure size 432x288 with 2 Axes>"
            ]
          },
          "metadata": {
            "tags": [],
            "needs_background": "light"
          }
        }
      ]
    },
    {
      "cell_type": "markdown",
      "metadata": {
        "id": "K6Kxtg8xMlbe"
      },
      "source": [
        "With metrics shown above, the result is good enough to make churn prediction"
      ]
    },
    {
      "cell_type": "markdown",
      "metadata": {
        "id": "jLIXsG4eMTEp"
      },
      "source": [
        "### Train and Evaluate Model with Weighted Dataset"
      ]
    },
    {
      "cell_type": "code",
      "metadata": {
        "id": "pvBRJxXIMfho",
        "outputId": "4b356c6d-2353-4779-dd96-a96eeee052a5",
        "colab": {
          "base_uri": "https://localhost:8080/"
        }
      },
      "source": [
        "trainw_df = train_df.withColumn(\"weight\", F.when(F.col(\"label\") == 1, 1).otherwise(0.7))\n",
        "trainw_df.show(5)"
      ],
      "execution_count": 17,
      "outputs": [
        {
          "output_type": "stream",
          "text": [
            "+--------------------+-----+------+\n",
            "|            features|label|weight|\n",
            "+--------------------+-----+------+\n",
            "|(18,[0,1,2,3,4,6,...|    0|   0.7|\n",
            "|(18,[0,1,2,3,4,6,...|    0|   0.7|\n",
            "|(18,[0,1,2,3,4,6,...|    0|   0.7|\n",
            "|(18,[0,1,2,3,4,6,...|    0|   0.7|\n",
            "|(18,[0,1,2,3,4,6,...|    0|   0.7|\n",
            "+--------------------+-----+------+\n",
            "only showing top 5 rows\n",
            "\n"
          ],
          "name": "stdout"
        }
      ]
    },
    {
      "cell_type": "code",
      "metadata": {
        "id": "CQTarT_BMn8h"
      },
      "source": [
        "# gradient boosted tree algorithm\n",
        "gbtw = GBTClassifier().setWeightCol(\"weight\")\n",
        "\n",
        "# train validation split to search through all grid\n",
        "gbtw_tvs = TrainValidationSplit(estimator=gbtw,\n",
        "                            estimatorParamMaps=gbt_grid,\n",
        "                            evaluator=BinaryClassificationEvaluator().setWeightCol(\"weight\"),\n",
        "                            trainRatio=0.75,\n",
        "                            seed=42)"
      ],
      "execution_count": 18,
      "outputs": []
    },
    {
      "cell_type": "code",
      "metadata": {
        "id": "zjSIa8NkNL9k"
      },
      "source": [
        "gbtw_model = gbtw_tvs.fit(trainw_df)"
      ],
      "execution_count": 19,
      "outputs": []
    },
    {
      "cell_type": "code",
      "metadata": {
        "id": "4KWYTtIpNkTC",
        "outputId": "100d7306-3043-480e-f1cc-f3c222acdccc",
        "colab": {
          "base_uri": "https://localhost:8080/"
        }
      },
      "source": [
        "gbtw_model.bestModel"
      ],
      "execution_count": 20,
      "outputs": [
        {
          "output_type": "execute_result",
          "data": {
            "text/plain": [
              "GBTClassificationModel: uid = GBTClassifier_9513161e1f7b, numTrees=20, numClasses=2, numFeatures=18"
            ]
          },
          "metadata": {
            "tags": []
          },
          "execution_count": 20
        }
      ]
    },
    {
      "cell_type": "code",
      "metadata": {
        "id": "RFC7vkYFN6_h",
        "outputId": "2a7b77a5-2b63-49db-d825-984b2b34bd52",
        "colab": {
          "base_uri": "https://localhost:8080/"
        }
      },
      "source": [
        "gbtw_model.bestModel.featureImportances"
      ],
      "execution_count": 21,
      "outputs": [
        {
          "output_type": "execute_result",
          "data": {
            "text/plain": [
              "SparseVector(18, {0: 0.0045, 1: 0.368, 2: 0.1857, 3: 0.0058, 4: 0.0317, 5: 0.0386, 6: 0.0849, 7: 0.1224, 8: 0.0022, 9: 0.0009, 10: 0.0038, 11: 0.0001, 12: 0.0014, 13: 0.0039, 14: 0.0114, 15: 0.1271, 16: 0.0048, 17: 0.0028})"
            ]
          },
          "metadata": {
            "tags": []
          },
          "execution_count": 21
        }
      ]
    },
    {
      "cell_type": "code",
      "metadata": {
        "id": "KJisshFMNyZH"
      },
      "source": [
        "predsw_df = gbtw_model.transform(test_df)"
      ],
      "execution_count": 25,
      "outputs": []
    },
    {
      "cell_type": "code",
      "metadata": {
        "id": "TDtqh2CdOH2n",
        "outputId": "ccdba7ed-9950-4f46-9223-0237ad73da68",
        "colab": {
          "base_uri": "https://localhost:8080/",
          "height": 79
        }
      },
      "source": [
        "evaluate(predsw_df)"
      ],
      "execution_count": 26,
      "outputs": [
        {
          "output_type": "execute_result",
          "data": {
            "text/html": [
              "<div>\n",
              "<style scoped>\n",
              "    .dataframe tbody tr th:only-of-type {\n",
              "        vertical-align: middle;\n",
              "    }\n",
              "\n",
              "    .dataframe tbody tr th {\n",
              "        vertical-align: top;\n",
              "    }\n",
              "\n",
              "    .dataframe thead th {\n",
              "        text-align: right;\n",
              "    }\n",
              "</style>\n",
              "<table border=\"1\" class=\"dataframe\">\n",
              "  <thead>\n",
              "    <tr style=\"text-align: right;\">\n",
              "      <th></th>\n",
              "      <th>accuracy</th>\n",
              "      <th>precision</th>\n",
              "      <th>recall</th>\n",
              "      <th>f1</th>\n",
              "      <th>roc_auc</th>\n",
              "    </tr>\n",
              "  </thead>\n",
              "  <tbody>\n",
              "    <tr>\n",
              "      <th>0</th>\n",
              "      <td>0.794331</td>\n",
              "      <td>0.651079</td>\n",
              "      <td>0.754167</td>\n",
              "      <td>0.698842</td>\n",
              "      <td>0.783544</td>\n",
              "    </tr>\n",
              "  </tbody>\n",
              "</table>\n",
              "</div>"
            ],
            "text/plain": [
              "   accuracy  precision    recall        f1   roc_auc\n",
              "0  0.794331   0.651079  0.754167  0.698842  0.783544"
            ]
          },
          "metadata": {
            "tags": []
          },
          "execution_count": 26
        }
      ]
    },
    {
      "cell_type": "code",
      "metadata": {
        "id": "X8z2Wfm8OMSP",
        "outputId": "928b23db-f840-4c4d-95f2-3a223ba72f7e",
        "colab": {
          "base_uri": "https://localhost:8080/",
          "height": 265
        }
      },
      "source": [
        "# confusion matrix\n",
        "cw_mat = confusion_matrix(predsw_df.select(\"label\").toPandas(),\n",
        "                predsw_df.select(\"prediction\").toPandas())\n",
        "\n",
        "ax = sns.heatmap(cw_mat, annot=True, fmt=\"d\", cmap=\"YlGnBu\")"
      ],
      "execution_count": 27,
      "outputs": [
        {
          "output_type": "display_data",
          "data": {
            "image/png": "[encoded data removed]",
            "text/plain": [
              "<Figure size 432x288 with 2 Axes>"
            ]
          },
          "metadata": {
            "tags": [],
            "needs_background": "light"
          }
        }
      ]
    }
  ]
}