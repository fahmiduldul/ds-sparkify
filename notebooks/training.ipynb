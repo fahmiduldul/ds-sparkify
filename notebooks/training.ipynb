{
  "nbformat": 4,
  "nbformat_minor": 0,
  "metadata": {
    "orig_nbformat": 2,
    "colab": {
      "name": "training.ipynb",
      "provenance": []
    },
    "kernelspec": {
      "name": "python3",
      "display_name": "Python 3"
    }
  },
  "cells": [
    {
      "cell_type": "code",
      "metadata": {
        "colab": {
          "base_uri": "https://localhost:8080/"
        },
        "id": "1GKcHtxR9BXm",
        "outputId": "0096d552-8620-413a-e812-feb3f7654a47"
      },
      "source": [
        "!pip install pyspark"
      ],
      "execution_count": 1,
      "outputs": [
        {
          "output_type": "stream",
          "text": [
            "Requirement already satisfied: pyspark in /usr/local/lib/python3.7/dist-packages (3.1.1)\n",
            "Requirement already satisfied: py4j==0.10.9 in /usr/local/lib/python3.7/dist-packages (from pyspark) (0.10.9)\n"
          ],
          "name": "stdout"
        }
      ]
    },
    {
      "cell_type": "code",
      "metadata": {
        "colab": {
          "base_uri": "https://localhost:8080/"
        },
        "id": "gcM8P6Qf9KuW",
        "outputId": "19ca0c13-1ed2-482f-c09b-65d80ace2ace"
      },
      "source": [
        "from google.colab import drive\r\n",
        "drive.mount('/content/drive')"
      ],
      "execution_count": 2,
      "outputs": [
        {
          "output_type": "stream",
          "text": [
            "Drive already mounted at /content/drive; to attempt to forcibly remount, call drive.mount(\"/content/drive\", force_remount=True).\n"
          ],
          "name": "stdout"
        }
      ]
    },
    {
      "cell_type": "code",
      "metadata": {
        "id": "PENBvBwp9QDX"
      },
      "source": [
        "from pyspark.sql import SparkSession\r\n",
        "import pyspark.sql.functions as F\r\n",
        "import pyspark.sql.types as T\r\n",
        "\r\n",
        "from pyspark.ml.classification import GBTClassifier\r\n",
        "from pyspark.ml.feature import VectorAssembler\r\n",
        "from pyspark.ml.evaluation import BinaryClassificationEvaluator\r\n",
        "from pyspark.ml import Pipeline\r\n",
        "from pyspark.ml.tuning import TrainValidationSplit, ParamGridBuilder"
      ],
      "execution_count": 3,
      "outputs": []
    },
    {
      "cell_type": "code",
      "metadata": {
        "id": "qUguiUJd-xFX"
      },
      "source": [
        "spark = SparkSession.builder.appName('sparkify-train').getOrCreate()"
      ],
      "execution_count": 4,
      "outputs": []
    },
    {
      "cell_type": "code",
      "metadata": {
        "colab": {
          "base_uri": "https://localhost:8080/"
        },
        "id": "XuIpWq-z_xm_",
        "outputId": "b5444a28-8bf9-4606-a691-ba860c5f74ab"
      },
      "source": [
        "# load data and change is_churn column into label column\r\n",
        "\r\n",
        "isOnColab = True # CHANGE THIS VARIABLE IF RUNNING ON DATAPROC\r\n",
        "\r\n",
        "path = '/content/drive/MyDrive/datasets/dsnd-sparkify/ml_df.parquet' if isOnColab else 'gs://udacity-dsnd/ml_df.parquet'\r\n",
        "df = spark.read.parquet('/content/drive/MyDrive/datasets/dsnd-sparkify/ml_df.parquet')\r\n",
        "df = df.withColumn('label', F.when(F.col(\"is_churn\"), 1).otherwise(0))\r\n",
        "df.show(5)"
      ],
      "execution_count": 5,
      "outputs": [
        {
          "output_type": "stream",
          "text": [
            "+-------+-------------------+--------+----------+-------------+------------------+----------+-----------+---------+------------------+----------+-----+------+-----+-----+-------+-----+-----+-----+-----+-----+-----+-----+-----+-----+-----------+-----+-----+-----+-----+-----+-----+-----+-----+--------+--------+-----+-----+--------+-----+-----+-----+-----+-----+-----+-----+-----+-----+-----+-----+-----+-----+-----+-----+-----+-----+-----+-----+-----+-----+-----+-----+-----+-----+-----+-----+-----+-----+-----+-----+-----+-----+-----+-----+-----+-----+-----+--------+-----+--------+-----+-----+-----+-----+-----+-----+-----+-----------+-----+-----+-----+-----+-----+-----+-----+--------+-----+-----+-----+-----+-----+-----+-----+-----+-----+-----+-----+-----+-----+-----+--------+-----+-----+-----+-----+-----+\n",
            "| userId|              up_ts|is_churn|song_count|subs_duration|         song_rate|n_playlist|thumbs_down|thumbs_up|      avg_sess_len|sess_count| ipad|iphone|linux|macos|windows|   AK|   AL|   AR|AR-MO|AR-OK|   AZ|   CA|   CO|   CT|DC-VA-MD-WV|   DE|   FL|   GA|GA-AL|GA-SC|   HI|   IA|IA-IL|IA-IL-MO|IA-NE-SD|   ID|   IL|IL-IN-WI|IL-MO|   IN|IN-KY|IN-MI|   KS|   KY|KY-IL|KY-IN|   LA|   MA|MA-CT|MA-NH|   MD|MD-DE|MD-WV|   ME|   MI|MI-WI|   MN|MN-WI|   MO|MO-IL|MO-KS|   MS|MS-LA|   MT|   NC|NC-SC|   ND|ND-MN|   NE|NE-IA|   NH|NH-VT|   NJ|   NM|   NV|   NY|NY-NJ-PA|   OH|OH-KY-IN|OH-PA|   OK|   OR|OR-ID|OR-WA|   PA|PA-NJ|PA-NJ-DE-MD|RI-MA|   SC|SC-NC|   SD|   TN|TN-GA|TN-KY|TN-MS-AR|TN-VA|   TX|TX-AR|   UT|UT-ID|   VA|VA-NC|VA-WV|   VT|   WA|   WI|WI-MI|WI-MN|   WV|WV-KY-OH|WV-OH|WV-VA|   WY|WY-ID|label|\n",
            "+-------+-------------------+--------+----------+-------------+------------------+----------+-----------+---------+------------------+----------+-----+------+-----+-----+-------+-----+-----+-----+-----+-----+-----+-----+-----+-----+-----------+-----+-----+-----+-----+-----+-----+-----+-----+--------+--------+-----+-----+--------+-----+-----+-----+-----+-----+-----+-----+-----+-----+-----+-----+-----+-----+-----+-----+-----+-----+-----+-----+-----+-----+-----+-----+-----+-----+-----+-----+-----+-----+-----+-----+-----+-----+-----+-----+-----+-----+-----+--------+-----+--------+-----+-----+-----+-----+-----+-----+-----+-----------+-----+-----+-----+-----+-----+-----+-----+--------+-----+-----+-----+-----+-----+-----+-----+-----+-----+-----+-----+-----+-----+-----+--------+-----+-----+-----+-----+-----+\n",
            "|1071843|2018-11-08 13:16:59|   false|      1190|           22| 54.09090909090909|        39|          6|       51|27020.272727272728|        11|false| false|false| true|  false|false|false|false|false|false|false|false|false|false|      false|false|false| true|false|false|false|false|false|   false|   false|false|false|   false|false|false|false|false|false|false|false|false|false|false|false|false|false|false|false|false|false|false|false|false|false|false|false|false|false|false|false|false|false|false|false|false|false|false|false|false|false|false|   false|false|   false|false|false|false|false|false|false|false|      false|false|false|false|false|false|false|false|   false|false|false|false|false|false|false|false|false|false|false|false|false|false|false|   false|false|false|false|false|    0|\n",
            "|1120784|2018-10-11 14:16:28|   false|      1502|           50|             30.04|        45|         17|      122|14162.807692307691|        26|false| false|false|false|   true|false|false|false|false|false|false|false|false|false|      false|false|false|false|false|false|false|false|false|   false|   false|false|false|   false|false|false|false|false|false|false|false|false|false|false|false|false|false|false|false|false|false|false|false| true|false|false|false|false|false|false|false|false|false|false|false|false|false|false|false|false|false|false|   false|false|   false|false|false|false|false|false|false|false|      false|false|false|false|false|false|false|false|   false|false|false|false|false|false|false|false|false|false|false|false|false|false|false|   false|false|false|false|false|    0|\n",
            "|1128522|2018-11-13 17:46:22|    true|       203|            2|             101.5|         9|          6|       12|17188.666666666668|         3|false| false|false| true|  false|false|false|false|false|false|false|false|false|false|      false|false|false|false|false|false|false|false|false|   false|   false|false|false|   false|false|false|false|false|false|false|false|false|false|false|false|false|false|false|false|false|false|false|false|false|false|false|false|false|false|false|false|false|false|false|false|false|false|false|false|false|false|false|    true|false|   false|false|false|false|false|false|false|false|      false|false|false|false|false|false|false|false|   false|false|false|false|false|false|false|false|false|false|false|false|false|false|false|   false|false|false|false|false|    1|\n",
            "|1130061|2018-10-11 20:04:50|   false|        96|           50|              1.92|         4|          4|        3|           11930.5|         2|false| false|false| true|  false|false|false|false|false|false|false|false|false|false|      false|false|false|false|false|false|false|false|false|   false|   false|false|false|   false|false|false|false|false|false|false|false|false|false|false|false| true|false|false|false|false|false|false|false|false|false|false|false|false|false|false|false|false|false|false|false|false|false|false|false|false|false|false|   false|false|   false|false|false|false|false|false|false|false|      false|false|false|false|false|false|false|false|   false|false|false|false|false|false|false|false|false|false|false|false|false|false|false|   false|false|false|false|false|    0|\n",
            "|1135039|2018-10-04 11:31:06|   false|       643|           57|11.280701754385966|        29|          4|       49|22156.285714285714|         7|false| false|false|false|   true|false|false|false|false|false|false|false|false|false|      false|false|false|false|false|false|false|false|false|   false|   false|false|false|   false|false|false|false|false|false|false|false|false|false|false|false|false|false|false|false|false|false|false|false|false|false|false|false|false|false|false|false|false|false|false|false|false|false|false|false| true|false|false|   false|false|   false|false|false|false|false|false|false|false|      false|false|false|false|false|false|false|false|   false|false|false|false|false|false|false|false|false|false|false|false|false|false|false|   false|false|false|false|false|    0|\n",
            "+-------+-------------------+--------+----------+-------------+------------------+----------+-----------+---------+------------------+----------+-----+------+-----+-----+-------+-----+-----+-----+-----+-----+-----+-----+-----+-----+-----------+-----+-----+-----+-----+-----+-----+-----+-----+--------+--------+-----+-----+--------+-----+-----+-----+-----+-----+-----+-----+-----+-----+-----+-----+-----+-----+-----+-----+-----+-----+-----+-----+-----+-----+-----+-----+-----+-----+-----+-----+-----+-----+-----+-----+-----+-----+-----+-----+-----+-----+-----+--------+-----+--------+-----+-----+-----+-----+-----+-----+-----+-----------+-----+-----+-----+-----+-----+-----+-----+--------+-----+-----+-----+-----+-----+-----+-----+-----+-----+-----+-----+-----+-----+-----+--------+-----+-----+-----+-----+-----+\n",
            "only showing top 5 rows\n",
            "\n"
          ],
          "name": "stdout"
        }
      ]
    },
    {
      "cell_type": "code",
      "metadata": {
        "id": "5EfHC4lrrGTZ"
      },
      "source": [
        "# features columns without state one-hot encoding\r\n",
        "featureCols_1 = [\"song_count\", \"subs_duration\", \"song_rate\", \"n_playlist\", \"thumbs_down\",\r\n",
        "               \"thumbs_up\", \"avg_sess_len\", \"sess_count\", \"ipad\", \"iphone\", \"linux\",\r\n",
        "               \"macos\", \"windows\"]\r\n",
        "\r\n",
        "# features column with state one-hot encoding\r\n",
        "featureCols_2 = df.columns[3:-1]\r\n",
        "\r\n",
        "assembler_1 = VectorAssembler(inputCols=featureCols_1, outputCol=\"features_1\")\r\n",
        "assembler_2 = VectorAssembler(inputCols=featureCols_2, outputCol=\"features_2\")\r\n",
        "\r\n",
        "df = assembler_1.transform(df)\r\n",
        "df = assembler_2.transform(df)\r\n",
        "df = df.select([\"features_1\", \"features_2\", \"label\"])"
      ],
      "execution_count": 6,
      "outputs": []
    },
    {
      "cell_type": "code",
      "metadata": {
        "id": "d5FA-3RtNBDH"
      },
      "source": [
        "train_df, test_df = df.randomSplit([0.9,0.1])"
      ],
      "execution_count": 14,
      "outputs": []
    },
    {
      "cell_type": "code",
      "metadata": {
        "id": "wTv5ivs0DeFY"
      },
      "source": [
        "gbt = GBTClassifier()\r\n",
        "\r\n",
        "paramGrid = ParamGridBuilder() \\\r\n",
        "    .addGrid(gbt.maxDepth, [4,8,12]) \\\r\n",
        "    .addGrid(gbt.maxIter, [5,10,15]) \\\r\n",
        "    .addGrid(gbt.featuresCol, [\"features_1\", \"features_2\"]) \\\r\n",
        "    .build()\r\n",
        "\r\n",
        "tvs = TrainValidationSplit(estimator=gbt,\r\n",
        "                           estimatorParamMaps=paramGrid,\r\n",
        "                           evaluator=BinaryClassificationEvaluator(),\r\n",
        "                           trainRatio=0.75)"
      ],
      "execution_count": 13,
      "outputs": []
    },
    {
      "cell_type": "code",
      "metadata": {
        "id": "DHuzEdiboihn"
      },
      "source": [
        "# train model\r\n",
        "model1 = tvs.fit(train_df)"
      ],
      "execution_count": null,
      "outputs": []
    },
    {
      "cell_type": "code",
      "metadata": {
        "id": "Lw21yapEuc9F"
      },
      "source": [
        "# predict on test dataframe\r\n",
        "preds_df = model1.transform(test_df)"
      ],
      "execution_count": 9,
      "outputs": []
    },
    {
      "cell_type": "code",
      "metadata": {
        "colab": {
          "base_uri": "https://localhost:8080/"
        },
        "id": "v4uygQB69h9j",
        "outputId": "0a942e9d-cee2-4550-f1cf-73feb1618dd2"
      },
      "source": [
        "# show prediction result\r\n",
        "preds_df.select([\"label\", \"probability\", \"prediction\"]).take(20)"
      ],
      "execution_count": 16,
      "outputs": [
        {
          "output_type": "execute_result",
          "data": {
            "text/plain": [
              "[Row(label=0, probability=DenseVector([0.9602, 0.0398]), prediction=0.0),\n",
              " Row(label=0, probability=DenseVector([0.9697, 0.0303]), prediction=0.0),\n",
              " Row(label=1, probability=DenseVector([0.7274, 0.2726]), prediction=0.0),\n",
              " Row(label=0, probability=DenseVector([0.969, 0.031]), prediction=0.0),\n",
              " Row(label=0, probability=DenseVector([0.9688, 0.0312]), prediction=0.0),\n",
              " Row(label=0, probability=DenseVector([0.969, 0.031]), prediction=0.0),\n",
              " Row(label=1, probability=DenseVector([0.7938, 0.2062]), prediction=0.0),\n",
              " Row(label=1, probability=DenseVector([0.1537, 0.8463]), prediction=1.0),\n",
              " Row(label=0, probability=DenseVector([0.9445, 0.0555]), prediction=0.0),\n",
              " Row(label=0, probability=DenseVector([0.9684, 0.0316]), prediction=0.0),\n",
              " Row(label=0, probability=DenseVector([0.969, 0.031]), prediction=0.0),\n",
              " Row(label=1, probability=DenseVector([0.5419, 0.4581]), prediction=0.0),\n",
              " Row(label=1, probability=DenseVector([0.1585, 0.8415]), prediction=1.0),\n",
              " Row(label=0, probability=DenseVector([0.9754, 0.0246]), prediction=0.0),\n",
              " Row(label=0, probability=DenseVector([0.8944, 0.1056]), prediction=0.0),\n",
              " Row(label=1, probability=DenseVector([0.0783, 0.9217]), prediction=1.0),\n",
              " Row(label=0, probability=DenseVector([0.9702, 0.0298]), prediction=0.0),\n",
              " Row(label=0, probability=DenseVector([0.9172, 0.0828]), prediction=0.0),\n",
              " Row(label=0, probability=DenseVector([0.9267, 0.0733]), prediction=0.0),\n",
              " Row(label=0, probability=DenseVector([0.9692, 0.0308]), prediction=0.0)]"
            ]
          },
          "metadata": {
            "tags": []
          },
          "execution_count": 16
        }
      ]
    },
    {
      "cell_type": "code",
      "metadata": {
        "colab": {
          "base_uri": "https://localhost:8080/"
        },
        "id": "-RWGxY-QvmBO",
        "outputId": "98aac016-2843-4f2c-83f9-f3d52ca5abda"
      },
      "source": [
        "# evaluation\r\n",
        "binary_evaluator = BinaryClassificationEvaluator(rawPredictionCol='rawPrediction',\r\n",
        "                                                labelCol='label', metricName='areaUnderPR')\r\n",
        "res = binary_evaluator.evaluate(preds_df)\r\n",
        "res"
      ],
      "execution_count": 11,
      "outputs": [
        {
          "output_type": "execute_result",
          "data": {
            "text/plain": [
              "0.6102168316953208"
            ]
          },
          "metadata": {
            "tags": []
          },
          "execution_count": 11
        }
      ]
    }
  ]
}