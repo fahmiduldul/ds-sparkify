{
  "nbformat": 4,
  "nbformat_minor": 0,
  "metadata": {
    "orig_nbformat": 2,
    "colab": {
      "name": "training.ipynb",
      "provenance": []
    },
    "kernelspec": {
      "name": "python3",
      "display_name": "Python 3"
    }
  },
  "cells": [
    {
      "cell_type": "code",
      "metadata": {
        "colab": {
          "base_uri": "https://localhost:8080/"
        },
        "id": "1GKcHtxR9BXm",
        "outputId": "3dc8219c-68fc-48a2-cada-9d40b67ac49c"
      },
      "source": [
        "!pip install pyspark"
      ],
      "execution_count": 1,
      "outputs": [
        {
          "output_type": "stream",
          "text": [
            "Collecting pyspark\n",
            "\u001b[?25l  Downloading https://files.pythonhosted.org/packages/45/b0/9d6860891ab14a39d4bddf80ba26ce51c2f9dc4805e5c6978ac0472c120a/pyspark-3.1.1.tar.gz (212.3MB)\n",
            "\u001b[K     |████████████████████████████████| 212.3MB 74kB/s \n",
            "\u001b[?25hCollecting py4j==0.10.9\n",
            "\u001b[?25l  Downloading https://files.pythonhosted.org/packages/9e/b6/6a4fb90cd235dc8e265a6a2067f2a2c99f0d91787f06aca4bcf7c23f3f80/py4j-0.10.9-py2.py3-none-any.whl (198kB)\n",
            "\u001b[K     |████████████████████████████████| 204kB 20.6MB/s \n",
            "\u001b[?25hBuilding wheels for collected packages: pyspark\n",
            "  Building wheel for pyspark (setup.py) ... \u001b[?25l\u001b[?25hdone\n",
            "  Created wheel for pyspark: filename=pyspark-3.1.1-py2.py3-none-any.whl size=212767604 sha256=011f4f2f6f5f72557d10cf89b78fb9f198fec0dcd25e60a66cb3575cf56881d4\n",
            "  Stored in directory: /root/.cache/pip/wheels/0b/90/c0/01de724414ef122bd05f056541fb6a0ecf47c7ca655f8b3c0f\n",
            "Successfully built pyspark\n",
            "Installing collected packages: py4j, pyspark\n",
            "Successfully installed py4j-0.10.9 pyspark-3.1.1\n"
          ],
          "name": "stdout"
        }
      ]
    },
    {
      "cell_type": "code",
      "metadata": {
        "colab": {
          "base_uri": "https://localhost:8080/"
        },
        "id": "gcM8P6Qf9KuW",
        "outputId": "b104d423-6110-4a13-8a15-3a5b4bc12e3a"
      },
      "source": [
        "from google.colab import drive\r\n",
        "drive.mount('/content/drive')"
      ],
      "execution_count": 2,
      "outputs": [
        {
          "output_type": "stream",
          "text": [
            "Mounted at /content/drive\n"
          ],
          "name": "stdout"
        }
      ]
    },
    {
      "cell_type": "code",
      "metadata": {
        "id": "PENBvBwp9QDX"
      },
      "source": [
        "from pyspark.sql import SparkSession\r\n",
        "import pyspark.sql.functions as F\r\n",
        "import pyspark.sql.types as T\r\n",
        "\r\n",
        "from pyspark.ml.classification import GBTClassifier\r\n",
        "from pyspark.ml.feature import VectorAssembler\r\n",
        "from pyspark.ml.evaluation import BinaryClassificationEvaluator\r\n",
        "from pyspark.ml import Pipeline\r\n",
        "from pyspark.ml.tuning import TrainValidationSplit, ParamGridBuilder"
      ],
      "execution_count": 3,
      "outputs": []
    },
    {
      "cell_type": "code",
      "metadata": {
        "id": "qUguiUJd-xFX"
      },
      "source": [
        "spark = SparkSession.builder.appName('sparkify-train').getOrCreate()"
      ],
      "execution_count": 4,
      "outputs": []
    },
    {
      "cell_type": "code",
      "metadata": {
        "colab": {
          "base_uri": "https://localhost:8080/"
        },
        "id": "XuIpWq-z_xm_",
        "outputId": "8733d7dc-3c03-4ef4-8ee4-17272e183bc7"
      },
      "source": [
        "# load data and change is_churn column into label column\r\n",
        "\r\n",
        "isOnColab = True # CHANGE THIS VARIABLE IF RUNNING ON DATAPROC\r\n",
        "\r\n",
        "path = '/content/drive/MyDrive/datasets/dsnd-sparkify/ml_df.parquet' if isOnColab else 'gs://udacity-dsnd/ml_df.parquet'\r\n",
        "df = spark.read.parquet(path)\r\n",
        "df = df.withColumn('label', F.when(F.col(\"is_churn\"), 1).otherwise(0))\r\n",
        "df.show(5)"
      ],
      "execution_count": 5,
      "outputs": [
        {
          "output_type": "stream",
          "text": [
            "+-------+-------------------+--------+----------+-------------+------------------+----------+-----------+---------+------------------+----------+-----+------+-----+-----+-------+-----+-----+-----+-----+-----+-----+-----+-----+-----+-----------+-----+-----+-----+-----+-----+-----+-----+-----+--------+--------+-----+-----+--------+-----+-----+-----+-----+-----+-----+-----+-----+-----+-----+-----+-----+-----+-----+-----+-----+-----+-----+-----+-----+-----+-----+-----+-----+-----+-----+-----+-----+-----+-----+-----+-----+-----+-----+-----+-----+-----+-----+--------+-----+--------+-----+-----+-----+-----+-----+-----+-----+-----------+-----+-----+-----+-----+-----+-----+-----+--------+-----+-----+-----+-----+-----+-----+-----+-----+-----+-----+-----+-----+-----+-----+--------+-----+-----+-----+-----+-----+\n",
            "| userId|              up_ts|is_churn|song_count|subs_duration|         song_rate|n_playlist|thumbs_down|thumbs_up|      avg_sess_len|sess_count| ipad|iphone|linux|macos|windows|   AK|   AL|   AR|AR-MO|AR-OK|   AZ|   CA|   CO|   CT|DC-VA-MD-WV|   DE|   FL|   GA|GA-AL|GA-SC|   HI|   IA|IA-IL|IA-IL-MO|IA-NE-SD|   ID|   IL|IL-IN-WI|IL-MO|   IN|IN-KY|IN-MI|   KS|   KY|KY-IL|KY-IN|   LA|   MA|MA-CT|MA-NH|   MD|MD-DE|MD-WV|   ME|   MI|MI-WI|   MN|MN-WI|   MO|MO-IL|MO-KS|   MS|MS-LA|   MT|   NC|NC-SC|   ND|ND-MN|   NE|NE-IA|   NH|NH-VT|   NJ|   NM|   NV|   NY|NY-NJ-PA|   OH|OH-KY-IN|OH-PA|   OK|   OR|OR-ID|OR-WA|   PA|PA-NJ|PA-NJ-DE-MD|RI-MA|   SC|SC-NC|   SD|   TN|TN-GA|TN-KY|TN-MS-AR|TN-VA|   TX|TX-AR|   UT|UT-ID|   VA|VA-NC|VA-WV|   VT|   WA|   WI|WI-MI|WI-MN|   WV|WV-KY-OH|WV-OH|WV-VA|   WY|WY-ID|label|\n",
            "+-------+-------------------+--------+----------+-------------+------------------+----------+-----------+---------+------------------+----------+-----+------+-----+-----+-------+-----+-----+-----+-----+-----+-----+-----+-----+-----+-----------+-----+-----+-----+-----+-----+-----+-----+-----+--------+--------+-----+-----+--------+-----+-----+-----+-----+-----+-----+-----+-----+-----+-----+-----+-----+-----+-----+-----+-----+-----+-----+-----+-----+-----+-----+-----+-----+-----+-----+-----+-----+-----+-----+-----+-----+-----+-----+-----+-----+-----+-----+--------+-----+--------+-----+-----+-----+-----+-----+-----+-----+-----------+-----+-----+-----+-----+-----+-----+-----+--------+-----+-----+-----+-----+-----+-----+-----+-----+-----+-----+-----+-----+-----+-----+--------+-----+-----+-----+-----+-----+\n",
            "|1071843|2018-11-08 13:16:59|   false|      1190|           22| 54.09090909090909|        39|          6|       51|27020.272727272728|        11|false| false|false| true|  false|false|false|false|false|false|false|false|false|false|      false|false|false| true|false|false|false|false|false|   false|   false|false|false|   false|false|false|false|false|false|false|false|false|false|false|false|false|false|false|false|false|false|false|false|false|false|false|false|false|false|false|false|false|false|false|false|false|false|false|false|false|false|false|   false|false|   false|false|false|false|false|false|false|false|      false|false|false|false|false|false|false|false|   false|false|false|false|false|false|false|false|false|false|false|false|false|false|false|   false|false|false|false|false|    0|\n",
            "|1120784|2018-10-11 14:16:28|   false|      1502|           50|             30.04|        45|         17|      122|14162.807692307691|        26|false| false|false|false|   true|false|false|false|false|false|false|false|false|false|      false|false|false|false|false|false|false|false|false|   false|   false|false|false|   false|false|false|false|false|false|false|false|false|false|false|false|false|false|false|false|false|false|false|false| true|false|false|false|false|false|false|false|false|false|false|false|false|false|false|false|false|false|false|   false|false|   false|false|false|false|false|false|false|false|      false|false|false|false|false|false|false|false|   false|false|false|false|false|false|false|false|false|false|false|false|false|false|false|   false|false|false|false|false|    0|\n",
            "|1128522|2018-11-13 17:46:22|    true|       203|            2|             101.5|         9|          6|       12|17188.666666666668|         3|false| false|false| true|  false|false|false|false|false|false|false|false|false|false|      false|false|false|false|false|false|false|false|false|   false|   false|false|false|   false|false|false|false|false|false|false|false|false|false|false|false|false|false|false|false|false|false|false|false|false|false|false|false|false|false|false|false|false|false|false|false|false|false|false|false|false|false|false|    true|false|   false|false|false|false|false|false|false|false|      false|false|false|false|false|false|false|false|   false|false|false|false|false|false|false|false|false|false|false|false|false|false|false|   false|false|false|false|false|    1|\n",
            "|1130061|2018-10-11 20:04:50|   false|        96|           50|              1.92|         4|          4|        3|           11930.5|         2|false| false|false| true|  false|false|false|false|false|false|false|false|false|false|      false|false|false|false|false|false|false|false|false|   false|   false|false|false|   false|false|false|false|false|false|false|false|false|false|false|false| true|false|false|false|false|false|false|false|false|false|false|false|false|false|false|false|false|false|false|false|false|false|false|false|false|false|false|   false|false|   false|false|false|false|false|false|false|false|      false|false|false|false|false|false|false|false|   false|false|false|false|false|false|false|false|false|false|false|false|false|false|false|   false|false|false|false|false|    0|\n",
            "|1135039|2018-10-04 11:31:06|   false|       643|           57|11.280701754385966|        29|          4|       49|22156.285714285714|         7|false| false|false|false|   true|false|false|false|false|false|false|false|false|false|      false|false|false|false|false|false|false|false|false|   false|   false|false|false|   false|false|false|false|false|false|false|false|false|false|false|false|false|false|false|false|false|false|false|false|false|false|false|false|false|false|false|false|false|false|false|false|false|false|false|false| true|false|false|   false|false|   false|false|false|false|false|false|false|false|      false|false|false|false|false|false|false|false|   false|false|false|false|false|false|false|false|false|false|false|false|false|false|false|   false|false|false|false|false|    0|\n",
            "+-------+-------------------+--------+----------+-------------+------------------+----------+-----------+---------+------------------+----------+-----+------+-----+-----+-------+-----+-----+-----+-----+-----+-----+-----+-----+-----+-----------+-----+-----+-----+-----+-----+-----+-----+-----+--------+--------+-----+-----+--------+-----+-----+-----+-----+-----+-----+-----+-----+-----+-----+-----+-----+-----+-----+-----+-----+-----+-----+-----+-----+-----+-----+-----+-----+-----+-----+-----+-----+-----+-----+-----+-----+-----+-----+-----+-----+-----+-----+--------+-----+--------+-----+-----+-----+-----+-----+-----+-----+-----------+-----+-----+-----+-----+-----+-----+-----+--------+-----+-----+-----+-----+-----+-----+-----+-----+-----+-----+-----+-----+-----+-----+--------+-----+-----+-----+-----+-----+\n",
            "only showing top 5 rows\n",
            "\n"
          ],
          "name": "stdout"
        }
      ]
    },
    {
      "cell_type": "code",
      "metadata": {
        "id": "5EfHC4lrrGTZ"
      },
      "source": [
        "# features columns without state one-hot encoding\r\n",
        "featureCols_1 = [\"song_count\", \"subs_duration\", \"song_rate\", \"n_playlist\", \"thumbs_down\",\r\n",
        "               \"thumbs_up\", \"avg_sess_len\", \"sess_count\", \"ipad\", \"iphone\", \"linux\",\r\n",
        "               \"macos\", \"windows\"]\r\n",
        "\r\n",
        "# features column with state one-hot encoding\r\n",
        "featureCols_2 = df.columns[3:-1]\r\n",
        "\r\n",
        "assembler_1 = VectorAssembler(inputCols=featureCols_1, outputCol=\"features_1\")\r\n",
        "assembler_2 = VectorAssembler(inputCols=featureCols_2, outputCol=\"features_2\")\r\n",
        "\r\n",
        "df = assembler_1.transform(df)\r\n",
        "df = assembler_2.transform(df)\r\n",
        "df = df.select([\"features_1\", \"features_2\", \"label\"])"
      ],
      "execution_count": 6,
      "outputs": []
    },
    {
      "cell_type": "code",
      "metadata": {
        "id": "d5FA-3RtNBDH"
      },
      "source": [
        "train_df, test_df = df.randomSplit([0.9,0.1])"
      ],
      "execution_count": 7,
      "outputs": []
    },
    {
      "cell_type": "code",
      "metadata": {
        "id": "wTv5ivs0DeFY"
      },
      "source": [
        "gbt = GBTClassifier()\r\n",
        "\r\n",
        "paramGrid = ParamGridBuilder() \\\r\n",
        "    .addGrid(gbt.maxDepth, [4, 5, 6]) \\\r\n",
        "    .addGrid(gbt.maxIter, [10, 15, 20]) \\\r\n",
        "    .addGrid(gbt.featuresCol, [\"features_1\"]) \\\r\n",
        "    .build()\r\n",
        "    # .addGrid(gbt.featuresCol, [\"features_1\", \"features_2\"]) \\\r\n",
        "\r\n",
        "tvs = TrainValidationSplit(estimator=gbt,\r\n",
        "                           estimatorParamMaps=paramGrid,\r\n",
        "                           evaluator=BinaryClassificationEvaluator(),\r\n",
        "                           trainRatio=0.75,\r\n",
        "                           seed=42)"
      ],
      "execution_count": 8,
      "outputs": []
    },
    {
      "cell_type": "code",
      "metadata": {
        "id": "DHuzEdiboihn"
      },
      "source": [
        "# train model\r\n",
        "model1 = tvs.fit(train_df)"
      ],
      "execution_count": 9,
      "outputs": []
    },
    {
      "cell_type": "code",
      "metadata": {
        "id": "GbMGwAhoOQly",
        "outputId": "7ba68b0f-fdf5-4f34-da9a-0796812790f5",
        "colab": {
          "base_uri": "https://localhost:8080/"
        }
      },
      "source": [
        "print(model1.bestModel)"
      ],
      "execution_count": 12,
      "outputs": [
        {
          "output_type": "stream",
          "text": [
            "GBTClassificationModel: uid = GBTClassifier_42f86e405200, numTrees=20, numClasses=2, numFeatures=13\n"
          ],
          "name": "stdout"
        }
      ]
    },
    {
      "cell_type": "code",
      "metadata": {
        "id": "Lw21yapEuc9F"
      },
      "source": [
        "# predict on test dataframe\r\n",
        "preds_df = model1.transform(test_df)"
      ],
      "execution_count": 13,
      "outputs": []
    },
    {
      "cell_type": "code",
      "metadata": {
        "id": "ocWt0oeAfB8-"
      },
      "source": [
        "model1.save('/content/drive/MyDrive/datasets/dsnd-sparkify/sparkify_model_4')"
      ],
      "execution_count": 11,
      "outputs": []
    },
    {
      "cell_type": "code",
      "metadata": {
        "id": "dVOr7nfjfkxi",
        "outputId": "a7696c06-fb72-43c3-f345-33a57b87ba1e",
        "colab": {
          "base_uri": "https://localhost:8080/"
        }
      },
      "source": [
        "model1.bestModel.featureImportances"
      ],
      "execution_count": 14,
      "outputs": [
        {
          "output_type": "execute_result",
          "data": {
            "text/plain": [
              "SparseVector(13, {0: 0.0271, 1: 0.4081, 2: 0.1499, 3: 0.0297, 4: 0.0543, 5: 0.0678, 6: 0.0657, 7: 0.1757, 8: 0.0042, 9: 0.0027, 10: 0.0072, 11: 0.0075, 12: 0.0})"
            ]
          },
          "metadata": {
            "tags": []
          },
          "execution_count": 14
        }
      ]
    },
    {
      "cell_type": "code",
      "metadata": {
        "colab": {
          "base_uri": "https://localhost:8080/"
        },
        "id": "v4uygQB69h9j",
        "outputId": "0c74178e-f87b-4e61-b5bc-a8e19b7bf0da"
      },
      "source": [
        "# show prediction result\r\n",
        "preds_df.select([\"label\", \"probability\", \"prediction\"]).take(20)"
      ],
      "execution_count": 15,
      "outputs": [
        {
          "output_type": "execute_result",
          "data": {
            "text/plain": [
              "[Row(label=0, probability=DenseVector([0.9375, 0.0625]), prediction=0.0),\n",
              " Row(label=0, probability=DenseVector([0.9468, 0.0532]), prediction=0.0),\n",
              " Row(label=0, probability=DenseVector([0.9612, 0.0388]), prediction=0.0),\n",
              " Row(label=1, probability=DenseVector([0.235, 0.765]), prediction=1.0),\n",
              " Row(label=0, probability=DenseVector([0.8399, 0.1601]), prediction=0.0),\n",
              " Row(label=0, probability=DenseVector([0.9538, 0.0462]), prediction=0.0),\n",
              " Row(label=0, probability=DenseVector([0.9465, 0.0535]), prediction=0.0),\n",
              " Row(label=0, probability=DenseVector([0.9473, 0.0527]), prediction=0.0),\n",
              " Row(label=0, probability=DenseVector([0.5693, 0.4307]), prediction=0.0),\n",
              " Row(label=0, probability=DenseVector([0.8739, 0.1261]), prediction=0.0),\n",
              " Row(label=1, probability=DenseVector([0.3657, 0.6343]), prediction=1.0),\n",
              " Row(label=0, probability=DenseVector([0.9445, 0.0555]), prediction=0.0),\n",
              " Row(label=1, probability=DenseVector([0.5407, 0.4593]), prediction=0.0),\n",
              " Row(label=0, probability=DenseVector([0.9468, 0.0532]), prediction=0.0),\n",
              " Row(label=1, probability=DenseVector([0.248, 0.752]), prediction=1.0),\n",
              " Row(label=0, probability=DenseVector([0.9468, 0.0532]), prediction=0.0),\n",
              " Row(label=0, probability=DenseVector([0.9585, 0.0415]), prediction=0.0),\n",
              " Row(label=0, probability=DenseVector([0.9589, 0.0411]), prediction=0.0),\n",
              " Row(label=1, probability=DenseVector([0.2791, 0.7209]), prediction=1.0),\n",
              " Row(label=0, probability=DenseVector([0.7483, 0.2517]), prediction=0.0)]"
            ]
          },
          "metadata": {
            "tags": []
          },
          "execution_count": 15
        }
      ]
    },
    {
      "cell_type": "code",
      "metadata": {
        "colab": {
          "base_uri": "https://localhost:8080/"
        },
        "id": "-RWGxY-QvmBO",
        "outputId": "f7780a63-8632-45ad-b479-f984405d24fd"
      },
      "source": [
        "# evaluation\r\n",
        "binary_evaluator = BinaryClassificationEvaluator(rawPredictionCol='rawPrediction',\r\n",
        "                                                labelCol='label')\r\n",
        "res = binary_evaluator.evaluate(preds_df)\r\n",
        "res"
      ],
      "execution_count": 16,
      "outputs": [
        {
          "output_type": "execute_result",
          "data": {
            "text/plain": [
              "0.8445504886773773"
            ]
          },
          "metadata": {
            "tags": []
          },
          "execution_count": 16
        }
      ]
    }
  ]
}