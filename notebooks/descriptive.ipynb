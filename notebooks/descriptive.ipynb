{
  "nbformat": 4,
  "nbformat_minor": 0,
  "metadata": {
    "orig_nbformat": 2,
    "colab": {
      "name": "descriptive.ipynb",
      "provenance": []
    },
    "kernelspec": {
      "name": "python3",
      "display_name": "Python 3"
    }
  },
  "cells": [
    {
      "cell_type": "code",
      "metadata": {
        "id": "5Czee5liVVwC",
        "outputId": "a6409f51-8a6f-4cdb-8d86-b566a233bb12",
        "colab": {
          "base_uri": "https://localhost:8080/"
        }
      },
      "source": [
        "!pip install pyspark"
      ],
      "execution_count": 1,
      "outputs": [
        {
          "output_type": "stream",
          "text": [
            "Collecting pyspark\n",
            "\u001b[?25l  Downloading https://files.pythonhosted.org/packages/45/b0/9d6860891ab14a39d4bddf80ba26ce51c2f9dc4805e5c6978ac0472c120a/pyspark-3.1.1.tar.gz (212.3MB)\n",
            "\u001b[K     |████████████████████████████████| 212.3MB 64kB/s \n",
            "\u001b[?25hCollecting py4j==0.10.9\n",
            "\u001b[?25l  Downloading https://files.pythonhosted.org/packages/9e/b6/6a4fb90cd235dc8e265a6a2067f2a2c99f0d91787f06aca4bcf7c23f3f80/py4j-0.10.9-py2.py3-none-any.whl (198kB)\n",
            "\u001b[K     |████████████████████████████████| 204kB 19.2MB/s \n",
            "\u001b[?25hBuilding wheels for collected packages: pyspark\n",
            "  Building wheel for pyspark (setup.py) ... \u001b[?25l\u001b[?25hdone\n",
            "  Created wheel for pyspark: filename=pyspark-3.1.1-py2.py3-none-any.whl size=212767604 sha256=333a61a2872d003d9fa59019b2c156af4a8653c1cb2e220b9b8a60cc128aa676\n",
            "  Stored in directory: /root/.cache/pip/wheels/0b/90/c0/01de724414ef122bd05f056541fb6a0ecf47c7ca655f8b3c0f\n",
            "Successfully built pyspark\n",
            "Installing collected packages: py4j, pyspark\n",
            "Successfully installed py4j-0.10.9 pyspark-3.1.1\n"
          ],
          "name": "stdout"
        }
      ]
    },
    {
      "cell_type": "code",
      "metadata": {
        "id": "cVf8yuh3VVwK",
        "outputId": "9d385318-4aa5-40ed-9fef-33582edbacaa",
        "colab": {
          "base_uri": "https://localhost:8080/"
        }
      },
      "source": [
        "from google.colab import drive\n",
        "drive.mount('/content/drive')"
      ],
      "execution_count": 2,
      "outputs": [
        {
          "output_type": "stream",
          "text": [
            "Mounted at /content/drive\n"
          ],
          "name": "stdout"
        }
      ]
    },
    {
      "cell_type": "code",
      "metadata": {
        "id": "uEZDNdxsVVwM"
      },
      "source": [
        "from pyspark.sql import SparkSession\n",
        "import pyspark.sql.functions as F\n",
        "import pyspark.sql.types as T"
      ],
      "execution_count": 3,
      "outputs": []
    },
    {
      "cell_type": "code",
      "metadata": {
        "id": "oSREc3xZWB4x"
      },
      "source": [
        "spark = SparkSession.builder.appName(\"sparkify\").getOrCreate()"
      ],
      "execution_count": 5,
      "outputs": []
    },
    {
      "cell_type": "code",
      "metadata": {
        "id": "RoquwyplVrD2"
      },
      "source": [
        "# load data\r\n",
        "isOnColab = True # CHANGE THIS VARIABLE IF RUNNING ON DATAPROC\r\n",
        "\r\n",
        "path = '/content/drive/MyDrive/datasets/dsnd-sparkify/event_labeled.parquet' if isOnColab else 'gs://udacity-dsnd/event_labeled.parquet'\r\n",
        "df = spark.read.parquet(path)\r\n",
        "path = '/content/drive/MyDrive/datasets/dsnd-sparkify/ml_df.parquet' if isOnColab else 'gs://udacity-dsnd/ml_df.parquet'\r\n",
        "ml_df = spark.read.parquet(path)\r\n"
      ],
      "execution_count": 33,
      "outputs": []
    },
    {
      "cell_type": "code",
      "metadata": {
        "id": "IMpAJ8oZawJd",
        "outputId": "88d408d0-a95d-4093-8ff8-cb34179f8c1e",
        "colab": {
          "base_uri": "https://localhost:8080/"
        }
      },
      "source": [
        "ml_df.show(5)"
      ],
      "execution_count": 34,
      "outputs": [
        {
          "output_type": "stream",
          "text": [
            "+-------+-------------------+--------+----------+-------------+------------------+----------+-----------+---------+------------------+----------+-----+------+-----+-----+-------+-----+-----+-----+-----+-----+-----+-----+-----+-----+-----------+-----+-----+-----+-----+-----+-----+-----+-----+--------+--------+-----+-----+--------+-----+-----+-----+-----+-----+-----+-----+-----+-----+-----+-----+-----+-----+-----+-----+-----+-----+-----+-----+-----+-----+-----+-----+-----+-----+-----+-----+-----+-----+-----+-----+-----+-----+-----+-----+-----+-----+-----+--------+-----+--------+-----+-----+-----+-----+-----+-----+-----+-----------+-----+-----+-----+-----+-----+-----+-----+--------+-----+-----+-----+-----+-----+-----+-----+-----+-----+-----+-----+-----+-----+-----+--------+-----+-----+-----+-----+\n",
            "| userId|              up_ts|is_churn|song_count|subs_duration|         song_rate|n_playlist|thumbs_down|thumbs_up|      avg_sess_len|sess_count| ipad|iphone|linux|macos|windows|   AK|   AL|   AR|AR-MO|AR-OK|   AZ|   CA|   CO|   CT|DC-VA-MD-WV|   DE|   FL|   GA|GA-AL|GA-SC|   HI|   IA|IA-IL|IA-IL-MO|IA-NE-SD|   ID|   IL|IL-IN-WI|IL-MO|   IN|IN-KY|IN-MI|   KS|   KY|KY-IL|KY-IN|   LA|   MA|MA-CT|MA-NH|   MD|MD-DE|MD-WV|   ME|   MI|MI-WI|   MN|MN-WI|   MO|MO-IL|MO-KS|   MS|MS-LA|   MT|   NC|NC-SC|   ND|ND-MN|   NE|NE-IA|   NH|NH-VT|   NJ|   NM|   NV|   NY|NY-NJ-PA|   OH|OH-KY-IN|OH-PA|   OK|   OR|OR-ID|OR-WA|   PA|PA-NJ|PA-NJ-DE-MD|RI-MA|   SC|SC-NC|   SD|   TN|TN-GA|TN-KY|TN-MS-AR|TN-VA|   TX|TX-AR|   UT|UT-ID|   VA|VA-NC|VA-WV|   VT|   WA|   WI|WI-MI|WI-MN|   WV|WV-KY-OH|WV-OH|WV-VA|   WY|WY-ID|\n",
            "+-------+-------------------+--------+----------+-------------+------------------+----------+-----------+---------+------------------+----------+-----+------+-----+-----+-------+-----+-----+-----+-----+-----+-----+-----+-----+-----+-----------+-----+-----+-----+-----+-----+-----+-----+-----+--------+--------+-----+-----+--------+-----+-----+-----+-----+-----+-----+-----+-----+-----+-----+-----+-----+-----+-----+-----+-----+-----+-----+-----+-----+-----+-----+-----+-----+-----+-----+-----+-----+-----+-----+-----+-----+-----+-----+-----+-----+-----+-----+--------+-----+--------+-----+-----+-----+-----+-----+-----+-----+-----------+-----+-----+-----+-----+-----+-----+-----+--------+-----+-----+-----+-----+-----+-----+-----+-----+-----+-----+-----+-----+-----+-----+--------+-----+-----+-----+-----+\n",
            "|1071843|2018-11-08 13:16:59|   false|      1190|           22| 54.09090909090909|        39|          6|       51|27020.272727272728|        11|false| false|false| true|  false|false|false|false|false|false|false|false|false|false|      false|false|false| true|false|false|false|false|false|   false|   false|false|false|   false|false|false|false|false|false|false|false|false|false|false|false|false|false|false|false|false|false|false|false|false|false|false|false|false|false|false|false|false|false|false|false|false|false|false|false|false|false|false|   false|false|   false|false|false|false|false|false|false|false|      false|false|false|false|false|false|false|false|   false|false|false|false|false|false|false|false|false|false|false|false|false|false|false|   false|false|false|false|false|\n",
            "|1120784|2018-10-11 14:16:28|   false|      1502|           50|             30.04|        45|         17|      122|14162.807692307691|        26|false| false|false|false|   true|false|false|false|false|false|false|false|false|false|      false|false|false|false|false|false|false|false|false|   false|   false|false|false|   false|false|false|false|false|false|false|false|false|false|false|false|false|false|false|false|false|false|false|false| true|false|false|false|false|false|false|false|false|false|false|false|false|false|false|false|false|false|false|   false|false|   false|false|false|false|false|false|false|false|      false|false|false|false|false|false|false|false|   false|false|false|false|false|false|false|false|false|false|false|false|false|false|false|   false|false|false|false|false|\n",
            "|1128522|2018-11-13 17:46:22|    true|       203|            2|             101.5|         9|          6|       12|17188.666666666668|         3|false| false|false| true|  false|false|false|false|false|false|false|false|false|false|      false|false|false|false|false|false|false|false|false|   false|   false|false|false|   false|false|false|false|false|false|false|false|false|false|false|false|false|false|false|false|false|false|false|false|false|false|false|false|false|false|false|false|false|false|false|false|false|false|false|false|false|false|false|    true|false|   false|false|false|false|false|false|false|false|      false|false|false|false|false|false|false|false|   false|false|false|false|false|false|false|false|false|false|false|false|false|false|false|   false|false|false|false|false|\n",
            "|1130061|2018-10-11 20:04:50|   false|        96|           50|              1.92|         4|          4|        3|           11930.5|         2|false| false|false| true|  false|false|false|false|false|false|false|false|false|false|      false|false|false|false|false|false|false|false|false|   false|   false|false|false|   false|false|false|false|false|false|false|false|false|false|false|false| true|false|false|false|false|false|false|false|false|false|false|false|false|false|false|false|false|false|false|false|false|false|false|false|false|false|false|   false|false|   false|false|false|false|false|false|false|false|      false|false|false|false|false|false|false|false|   false|false|false|false|false|false|false|false|false|false|false|false|false|false|false|   false|false|false|false|false|\n",
            "|1135039|2018-10-04 11:31:06|   false|       643|           57|11.280701754385966|        29|          4|       49|22156.285714285714|         7|false| false|false|false|   true|false|false|false|false|false|false|false|false|false|      false|false|false|false|false|false|false|false|false|   false|   false|false|false|   false|false|false|false|false|false|false|false|false|false|false|false|false|false|false|false|false|false|false|false|false|false|false|false|false|false|false|false|false|false|false|false|false|false|false|false| true|false|false|   false|false|   false|false|false|false|false|false|false|false|      false|false|false|false|false|false|false|false|   false|false|false|false|false|false|false|false|false|false|false|false|false|false|false|   false|false|false|false|false|\n",
            "+-------+-------------------+--------+----------+-------------+------------------+----------+-----------+---------+------------------+----------+-----+------+-----+-----+-------+-----+-----+-----+-----+-----+-----+-----+-----+-----+-----------+-----+-----+-----+-----+-----+-----+-----+-----+--------+--------+-----+-----+--------+-----+-----+-----+-----+-----+-----+-----+-----+-----+-----+-----+-----+-----+-----+-----+-----+-----+-----+-----+-----+-----+-----+-----+-----+-----+-----+-----+-----+-----+-----+-----+-----+-----+-----+-----+-----+-----+-----+--------+-----+--------+-----+-----+-----+-----+-----+-----+-----+-----------+-----+-----+-----+-----+-----+-----+-----+--------+-----+-----+-----+-----+-----+-----+-----+-----+-----+-----+-----+-----+-----+-----+--------+-----+-----+-----+-----+\n",
            "only showing top 5 rows\n",
            "\n"
          ],
          "name": "stdout"
        }
      ]
    },
    {
      "cell_type": "code",
      "metadata": {
        "id": "FCKW5PZ8bTvX",
        "outputId": "05514c41-a3bb-4cbc-b79e-bd6ef253b555",
        "colab": {
          "base_uri": "https://localhost:8080/",
          "height": 479
        }
      },
      "source": [
        "df.groupby(\"artist\").agg(F.count(\"artist\")).sort(F.col(\"count(artist)\"), ascending=False).limit(10) \\\r\n",
        "    .toPandas().plot.bar(x=\"artist\", y=\"count(artist)\")"
      ],
      "execution_count": 17,
      "outputs": [
        {
          "output_type": "execute_result",
          "data": {
            "text/plain": [
              "<matplotlib.axes._subplots.AxesSubplot at 0x7f0aa3aa7250>"
            ]
          },
          "metadata": {
            "tags": []
          },
          "execution_count": 17
        },
        {
          "output_type": "stream",
          "text": [
            "/usr/local/lib/python3.7/dist-packages/matplotlib/backends/backend_agg.py:214: RuntimeWarning: Glyph 131 missing from current font.\n",
            "  font.set_text(s, 0.0, flags=flags)\n",
            "/usr/local/lib/python3.7/dist-packages/matplotlib/backends/backend_agg.py:183: RuntimeWarning: Glyph 131 missing from current font.\n",
            "  font.set_text(s, 0, flags=flags)\n"
          ],
          "name": "stderr"
        },
        {
          "output_type": "display_data",
          "data": {
            "image/png": "[encoded data removed]",
            "text/plain": [
              "<Figure size 432x288 with 1 Axes>"
            ]
          },
          "metadata": {
            "tags": [],
            "needs_background": "light"
          }
        }
      ]
    },
    {
      "cell_type": "code",
      "metadata": {
        "id": "T4PvD22mc0bQ",
        "outputId": "8873d779-4d24-4071-f709-847b7dd5cd8f",
        "colab": {
          "base_uri": "https://localhost:8080/",
          "height": 625
        }
      },
      "source": [
        "df.groupby(\"song\").agg(F.count(\"song\")).sort(F.col(\"count(song)\"), ascending=False).limit(10) \\\r\n",
        "    .toPandas().plot.bar(x=\"song\", y=\"count(song)\")"
      ],
      "execution_count": 18,
      "outputs": [
        {
          "output_type": "execute_result",
          "data": {
            "text/plain": [
              "<matplotlib.axes._subplots.AxesSubplot at 0x7f0aa4086f50>"
            ]
          },
          "metadata": {
            "tags": []
          },
          "execution_count": 18
        },
        {
          "output_type": "display_data",
          "data": {
            "image/png": "[encoded data removed]",
            "text/plain": [
              "<Figure size 432x288 with 1 Axes>"
            ]
          },
          "metadata": {
            "tags": [],
            "needs_background": "light"
          }
        }
      ]
    },
    {
      "cell_type": "code",
      "metadata": {
        "id": "hgPW4k_xdxYq",
        "outputId": "b7a17911-ca4f-48b9-b929-24a1cc1bcd81",
        "colab": {
          "base_uri": "https://localhost:8080/"
        }
      },
      "source": [
        "df.groupby(\"gender\").agg(F.count(\"gender\")).show()"
      ],
      "execution_count": 22,
      "outputs": [
        {
          "output_type": "stream",
          "text": [
            "+------+-------------+\n",
            "|gender|count(gender)|\n",
            "+------+-------------+\n",
            "|     F|     12181158|\n",
            "|  null|            0|\n",
            "|     M|     13299562|\n",
            "+------+-------------+\n",
            "\n"
          ],
          "name": "stdout"
        }
      ]
    },
    {
      "cell_type": "code",
      "metadata": {
        "id": "DzoJCqdWdKoz",
        "outputId": "d3f37aaa-ed7d-4c85-9816-f82038307eaa",
        "colab": {
          "base_uri": "https://localhost:8080/",
          "height": 265
        }
      },
      "source": [
        "df.groupby(\"gender\").agg(F.count(\"gender\")) \\\r\n",
        "    .toPandas().groupby(\"gender\").sum().plot.pie(y=\"count(gender)\")"
      ],
      "execution_count": 24,
      "outputs": [
        {
          "output_type": "execute_result",
          "data": {
            "text/plain": [
              "<matplotlib.axes._subplots.AxesSubplot at 0x7f0aa52f4b10>"
            ]
          },
          "metadata": {
            "tags": []
          },
          "execution_count": 24
        },
        {
          "output_type": "display_data",
          "data": {
            "image/png": "[encoded data removed]",
            "text/plain": [
              "<Figure size 432x288 with 1 Axes>"
            ]
          },
          "metadata": {
            "tags": []
          }
        }
      ]
    },
    {
      "cell_type": "code",
      "metadata": {
        "id": "bNqBbt2yfoLc",
        "outputId": "90888330-ea5b-440d-d81f-4ee944c44689",
        "colab": {
          "base_uri": "https://localhost:8080/"
        }
      },
      "source": [
        "ml_df.groupby(\"userId\").agg(F.max('ipad'), F.max('iphone'), F.max('macos'), F.max('windows'), F.max('linux')) \\\r\n",
        "    .unpivot()"
      ],
      "execution_count": 36,
      "outputs": [
        {
          "output_type": "stream",
          "text": [
            "+-------+---------+-----------+----------+------------+----------+\n",
            "| userId|max(ipad)|max(iphone)|max(macos)|max(windows)|max(linux)|\n",
            "+-------+---------+-----------+----------+------------+----------+\n",
            "|1567623|    false|      false|     false|        true|     false|\n",
            "|1114507|    false|      false|     false|        true|     false|\n",
            "|1797408|    false|      false|     false|       false|      true|\n",
            "|1338783|    false|      false|      true|       false|     false|\n",
            "|1633577|    false|      false|      true|       false|     false|\n",
            "|1994878|    false|      false|      true|       false|     false|\n",
            "|1440693|    false|      false|     false|        true|     false|\n",
            "|1030587|    false|      false|     false|        true|     false|\n",
            "|1500901|    false|      false|     false|        true|     false|\n",
            "|1796854|    false|      false|     false|        true|     false|\n",
            "|1380035|    false|      false|      true|       false|     false|\n",
            "|1133196|    false|      false|     false|        true|     false|\n",
            "|1358765|    false|      false|      true|       false|     false|\n",
            "|1000280|    false|      false|     false|        true|     false|\n",
            "|1803077|    false|      false|     false|        true|     false|\n",
            "|1083324|    false|       true|     false|       false|     false|\n",
            "|1619792|    false|      false|     false|        true|     false|\n",
            "|1271218|    false|      false|     false|        true|     false|\n",
            "|1311711|    false|      false|     false|        true|     false|\n",
            "|1384823|    false|      false|     false|        true|     false|\n",
            "+-------+---------+-----------+----------+------------+----------+\n",
            "only showing top 20 rows\n",
            "\n"
          ],
          "name": "stdout"
        }
      ]
    }
  ]
}