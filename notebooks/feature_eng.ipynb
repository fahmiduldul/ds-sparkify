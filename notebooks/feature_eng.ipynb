{
  "nbformat": 4,
  "nbformat_minor": 0,
  "metadata": {
    "kernelspec": {
      "display_name": "Python 3",
      "language": "python",
      "name": "python3"
    },
    "language_info": {
      "codemirror_mode": {
        "name": "ipython",
        "version": 3
      },
      "file_extension": ".py",
      "mimetype": "text/x-python",
      "name": "python",
      "nbconvert_exporter": "python",
      "pygments_lexer": "ipython3",
      "version": "3.8.8"
    },
    "colab": {
      "name": "feature_eng.ipynb",
      "provenance": []
    }
  },
  "cells": [
    {
      "cell_type": "code",
      "metadata": {
        "colab": {
          "base_uri": "https://localhost:8080/"
        },
        "id": "tnMpp_lsyLv-",
        "outputId": "323e3052-6773-408e-ceee-dc9d4e00b838"
      },
      "source": [
        "!pip install pyspark"
      ],
      "execution_count": 3,
      "outputs": [
        {
          "output_type": "stream",
          "text": [
            "Collecting pyspark\n",
            "\u001b[?25l  Downloading https://files.pythonhosted.org/packages/45/b0/9d6860891ab14a39d4bddf80ba26ce51c2f9dc4805e5c6978ac0472c120a/pyspark-3.1.1.tar.gz (212.3MB)\n",
            "\u001b[K     |████████████████████████████████| 212.3MB 63kB/s \n",
            "\u001b[?25hCollecting py4j==0.10.9\n",
            "\u001b[?25l  Downloading https://files.pythonhosted.org/packages/9e/b6/6a4fb90cd235dc8e265a6a2067f2a2c99f0d91787f06aca4bcf7c23f3f80/py4j-0.10.9-py2.py3-none-any.whl (198kB)\n",
            "\u001b[K     |████████████████████████████████| 204kB 18.9MB/s \n",
            "\u001b[?25hBuilding wheels for collected packages: pyspark\n",
            "  Building wheel for pyspark (setup.py) ... \u001b[?25l\u001b[?25hdone\n",
            "  Created wheel for pyspark: filename=pyspark-3.1.1-py2.py3-none-any.whl size=212767604 sha256=d32eeae9e1bdc355d11032f584d687e6e77dba48fb93e07c4070ba1a1d0b2f1c\n",
            "  Stored in directory: /root/.cache/pip/wheels/0b/90/c0/01de724414ef122bd05f056541fb6a0ecf47c7ca655f8b3c0f\n",
            "Successfully built pyspark\n",
            "Installing collected packages: py4j, pyspark\n",
            "Successfully installed py4j-0.10.9 pyspark-3.1.1\n"
          ],
          "name": "stdout"
        }
      ]
    },
    {
      "cell_type": "code",
      "metadata": {
        "colab": {
          "base_uri": "https://localhost:8080/"
        },
        "id": "aeKTM2Z2yOpX",
        "outputId": "5a52b1d8-078f-4244-da56-1497b1139c69"
      },
      "source": [
        "from google.colab import drive\r\n",
        "drive.mount('/content/drive')"
      ],
      "execution_count": 4,
      "outputs": [
        {
          "output_type": "stream",
          "text": [
            "Mounted at /content/drive\n"
          ],
          "name": "stdout"
        }
      ]
    },
    {
      "cell_type": "code",
      "metadata": {
        "id": "4WdL_IhUyD5y"
      },
      "source": [
        "from pyspark.sql import SparkSession\n",
        "import pyspark.sql.functions as F\n",
        "import pyspark.sql.types as T"
      ],
      "execution_count": 5,
      "outputs": []
    },
    {
      "cell_type": "code",
      "metadata": {
        "id": "6s9TVbfzyD59"
      },
      "source": [
        "spark = SparkSession.builder.appName('sparkify') \\\n",
        "    .config('spark.driver.maxResultSize', '3g') \\\n",
        "    .getOrCreate()"
      ],
      "execution_count": 6,
      "outputs": []
    },
    {
      "cell_type": "code",
      "metadata": {
        "colab": {
          "base_uri": "https://localhost:8080/"
        },
        "id": "n_VrHOvlyD5-",
        "outputId": "225982d3-574c-4c39-af05-86b17949251c"
      },
      "source": [
        "df = spark.read.parquet(\"/content/drive/MyDrive/datasets/dsnd-sparkify/event_labeled.parquet\")\n",
        "df = df.drop('userIdTemp')\n",
        "df.printSchema()"
      ],
      "execution_count": 7,
      "outputs": [
        {
          "output_type": "stream",
          "text": [
            "root\n",
            " |-- userId: string (nullable = true)\n",
            " |-- up_ts: timestamp (nullable = true)\n",
            " |-- down_ts: string (nullable = true)\n",
            " |-- isChurn: boolean (nullable = true)\n",
            " |-- artist: string (nullable = true)\n",
            " |-- auth: string (nullable = true)\n",
            " |-- firstName: string (nullable = true)\n",
            " |-- gender: string (nullable = true)\n",
            " |-- itemInSession: long (nullable = true)\n",
            " |-- lastName: string (nullable = true)\n",
            " |-- length: double (nullable = true)\n",
            " |-- level: string (nullable = true)\n",
            " |-- location: string (nullable = true)\n",
            " |-- method: string (nullable = true)\n",
            " |-- page: string (nullable = true)\n",
            " |-- registration: long (nullable = true)\n",
            " |-- sessionId: long (nullable = true)\n",
            " |-- song: string (nullable = true)\n",
            " |-- status: long (nullable = true)\n",
            " |-- userAgent: string (nullable = true)\n",
            " |-- ts: timestamp (nullable = true)\n",
            "\n"
          ],
          "name": "stdout"
        }
      ]
    },
    {
      "cell_type": "code",
      "metadata": {
        "id": "e83sWn9dyD6A"
      },
      "source": [
        "def change_colname_join_df(join_df, suffix='_temp'):\n",
        "    '''\n",
        "    INPUT:\n",
        "    join_df - dataframe on the right side of join\n",
        "    suffix - added string on each column name\n",
        "    '''\n",
        "    temp_df = join_df\n",
        "    for col_name in join_df.columns:\n",
        "        temp_df = temp_df.withColumnRenamed(col_name, col_name + suffix)\n",
        "    \n",
        "    return temp_df"
      ],
      "execution_count": 8,
      "outputs": []
    },
    {
      "cell_type": "code",
      "metadata": {
        "colab": {
          "base_uri": "https://localhost:8080/"
        },
        "id": "Iv_yZM1WyD6A",
        "outputId": "e4c7cfe7-1f3f-43ef-bd87-ac1db9e9646e"
      },
      "source": [
        "# number of song heard in one subscription\n",
        "n_song = df.filter(df.page == \"NextSong\").groupBy([\"userId\", \"up_ts\", \"down_ts\", \"isChurn\"]).count()\n",
        "n_song.show(5)"
      ],
      "execution_count": 9,
      "outputs": [
        {
          "output_type": "stream",
          "text": [
            "+-------+-------------------+-------------------+-------+-----+\n",
            "| userId|              up_ts|            down_ts|isChurn|count|\n",
            "+-------+-------------------+-------------------+-------+-----+\n",
            "|1111091|2018-11-27 17:43:31|2099-12-31 00:00:00|  false|   90|\n",
            "|1161080|2018-10-26 19:14:14|2018-11-23 21:55:06|   true|  648|\n",
            "|1291366|2018-10-01 04:22:41|2099-12-31 00:00:00|  false| 4114|\n",
            "|1335330|2018-11-26 15:00:33|2099-12-31 00:00:00|  false|    3|\n",
            "|1721316|2018-10-11 17:19:44|2099-12-31 00:00:00|  false|  218|\n",
            "+-------+-------------------+-------------------+-------+-----+\n",
            "only showing top 5 rows\n",
            "\n"
          ],
          "name": "stdout"
        }
      ]
    },
    {
      "cell_type": "code",
      "metadata": {
        "colab": {
          "base_uri": "https://localhost:8080/"
        },
        "id": "G8ZDfVYvyD6B",
        "outputId": "67675c5e-0b29-43ba-96e0-9b69a22339a9"
      },
      "source": [
        "# number of day in subscription\n",
        "maxdate_df = df.select(\"ts\").agg(F.max(df.ts))\n",
        "\n",
        "datediff_df = df.select([\"userId\", \"up_ts\", \"down_ts\", \"isChurn\"]).dropDuplicates() \\\n",
        "    .join(maxdate_df, ~df.userId.isNull(), how='left') \\\n",
        "    .withColumn(\"datediff\", \n",
        "        F.datediff(F.when(F.col(\"isChurn\"), F.col(\"down_ts\")).otherwise(F.col(\"max(ts)\").cast(T.TimestampType())), df.up_ts)) \\\n",
        "    .drop(\"max(ts)\")\n",
        "\n",
        "datediff_df.show(5)"
      ],
      "execution_count": 11,
      "outputs": [
        {
          "output_type": "stream",
          "text": [
            "+-------+-------------------+-------------------+-------+--------+\n",
            "| userId|              up_ts|            down_ts|isChurn|datediff|\n",
            "+-------+-------------------+-------------------+-------+--------+\n",
            "|1111091|2018-11-27 17:43:31|2099-12-31 00:00:00|  false|       3|\n",
            "|1161080|2018-10-26 19:14:14|2018-11-23 21:55:06|   true|      28|\n",
            "|1291366|2018-10-01 04:22:41|2099-12-31 00:00:00|  false|      60|\n",
            "|1335330|2018-11-26 15:00:33|2099-12-31 00:00:00|  false|       4|\n",
            "|1721316|2018-10-11 17:19:44|2099-12-31 00:00:00|  false|      50|\n",
            "+-------+-------------------+-------------------+-------+--------+\n",
            "only showing top 5 rows\n",
            "\n"
          ],
          "name": "stdout"
        }
      ]
    },
    {
      "cell_type": "code",
      "metadata": {
        "colab": {
          "base_uri": "https://localhost:8080/"
        },
        "id": "Kg-A_r85yD6B",
        "outputId": "91b3472b-36cd-4e35-9077-ef70dac6269e"
      },
      "source": [
        "# number of song played per day\n",
        "jdf = change_colname_join_df(datediff_df)\n",
        "song_rate = df.filter(df.page == 'NextSong').groupBy([\"userId\", \"up_ts\", \"down_ts\", \"isChurn\"]).count() \\\n",
        "    .withColumnRenamed(\"count\", \"song_count\") \\\n",
        "    .join(jdf, (df.up_ts == jdf.up_ts_temp) & (df.userId == jdf.userId_temp)) \\\n",
        "    .drop(\"userId_temp\", \"up_ts_temp\", \"down_ts_temp\", \"isChurn_temp\") \\\n",
        "    .withColumn(\"song_rate\", F.col(\"song_count\") / F.when(F.col(\"datediff_temp\") == 0, 1).otherwise(F.col(\"datediff_temp\")))\n",
        "\n",
        "song_rate.show(5)"
      ],
      "execution_count": 12,
      "outputs": [
        {
          "output_type": "stream",
          "text": [
            "+-------+-------------------+-------------------+-------+----------+-------------+------------------+\n",
            "| userId|              up_ts|            down_ts|isChurn|song_count|datediff_temp|         song_rate|\n",
            "+-------+-------------------+-------------------+-------+----------+-------------+------------------+\n",
            "|1049289|2018-10-02 02:15:05|2099-12-31 00:00:00|  false|      1951|           59|33.067796610169495|\n",
            "|1804721|2018-10-02 04:15:22|2099-12-31 00:00:00|  false|       957|           59|16.220338983050848|\n",
            "|1455101|2018-10-02 23:28:08|2018-10-26 19:06:03|   true|      1536|           24|              64.0|\n",
            "|1548612|2018-10-03 11:39:40|2018-11-27 18:27:03|   true|       619|           55|11.254545454545454|\n",
            "|1379264|2018-10-03 13:45:24|2018-11-10 13:02:22|   true|      1858|           38| 48.89473684210526|\n",
            "+-------+-------------------+-------------------+-------+----------+-------------+------------------+\n",
            "only showing top 5 rows\n",
            "\n"
          ],
          "name": "stdout"
        }
      ]
    },
    {
      "cell_type": "code",
      "metadata": {
        "id": "EQuvZiOoyD6C",
        "outputId": "93925d69-01ed-4b74-ac46-9cfd03413503"
      },
      "source": [
        "# number of songs added to playlist\n",
        "df.select([\"userId\", \"up_ts\", \"down_ts\", \"isChurn\", \"page\"]).filter(df.page ==\"Add to Playlist\") \\\n",
        "    .groupBy([\"userId\", \"up_ts\", \"down_ts\", \"isChurn\"]) \\\n",
        "    .agg(F.count(F.col(\"page\"))) \\\n",
        "    .show(5)"
      ],
      "execution_count": null,
      "outputs": [
        {
          "output_type": "stream",
          "text": [
            "+-------+-------------------+-------------------+-------+-----------+\n",
            "| userId|              up_ts|            down_ts|isChurn|count(page)|\n",
            "+-------+-------------------+-------------------+-------+-----------+\n",
            "|1111091|2018-11-27 17:43:31|2099-12-31 00:00:00|  false|          2|\n",
            "|1161080|2018-10-26 19:14:14|2018-11-23 21:55:06|   true|         12|\n",
            "|1291366|2018-10-01 04:22:41|2099-12-31 00:00:00|  false|        113|\n",
            "|1721316|2018-10-11 17:19:44|2099-12-31 00:00:00|  false|          9|\n",
            "|1293361|2018-11-16 21:48:35|2018-11-21 15:29:13|   true|          8|\n",
            "+-------+-------------------+-------------------+-------+-----------+\n",
            "only showing top 5 rows\n",
            "\n"
          ],
          "name": "stdout"
        }
      ]
    },
    {
      "cell_type": "code",
      "metadata": {
        "colab": {
          "base_uri": "https://localhost:8080/"
        },
        "id": "ie4bOYakyD6C",
        "outputId": "3f119dc8-b4b7-4b68-89fa-860334c9af9d"
      },
      "source": [
        "# STILL A BIG PROBLEM\n",
        "#number of thumbs up and down\n",
        "df.select([\"userId\", \"up_ts\", \"down_ts\", \"isChurn\", \"page\"]).filter(df.page.isin([\"Thumbs Up\", \"Thumbs Down\"])) \\\n",
        "    .groupby([\"userId\", \"up_ts\", \"down_ts\", \"isChurn\"]) \\\n",
        "    .agg(\n",
        "        # F.count(F.when(df.page == \"Thumbs Up\", True).otherwise(False)),\n",
        "        F.count(F.when(df.page == \"Thumbs Down\", True).otherwise(False))\n",
        "        ) \\\n",
        "    .show(5)"
      ],
      "execution_count": 28,
      "outputs": [
        {
          "output_type": "stream",
          "text": [
            "+-------+-------------------+-------------------+-------+--------------------------------------------------------------+\n",
            "| userId|              up_ts|            down_ts|isChurn|count(CASE WHEN (page = Thumbs Down) THEN true ELSE false END)|\n",
            "+-------+-------------------+-------------------+-------+--------------------------------------------------------------+\n",
            "|1111091|2018-11-27 17:43:31|2099-12-31 00:00:00|  false|                                                             4|\n",
            "|1161080|2018-10-26 19:14:14|2018-11-23 21:55:06|   true|                                                            32|\n",
            "|1291366|2018-10-01 04:22:41|2099-12-31 00:00:00|  false|                                                           266|\n",
            "|1721316|2018-10-11 17:19:44|2099-12-31 00:00:00|  false|                                                            16|\n",
            "|1293361|2018-11-16 21:48:35|2018-11-21 15:29:13|   true|                                                            26|\n",
            "+-------+-------------------+-------------------+-------+--------------------------------------------------------------+\n",
            "only showing top 5 rows\n",
            "\n"
          ],
          "name": "stdout"
        }
      ]
    },
    {
      "cell_type": "code",
      "metadata": {
        "colab": {
          "base_uri": "https://localhost:8080/"
        },
        "id": "nvJgRr4ZzdC8",
        "outputId": "b7e7922b-c8e6-41ec-9c29-c1f2fc8bf09c"
      },
      "source": [
        "# average session length and number of session\r\n",
        "df.groupBy([\"userId\", \"up_ts\", \"sessionId\"]) \\\r\n",
        "    .agg(\r\n",
        "        F.min(df.ts).cast(T.LongType()).alias(\"min\"),\r\n",
        "        F.max(df.ts).cast(T.LongType()).alias(\"max\")\r\n",
        "    ) \\\r\n",
        "    .withColumn(\"diff\", (F.col(\"max\") - F.col(\"min\"))) \\\r\n",
        "    .groupBy([\"userId\", \"up_ts\"]) \\\r\n",
        "    .agg(F.avg(F.col(\"diff\")), F.count(F.col(\"sessionId\"))) \\\r\n",
        "    .show()"
      ],
      "execution_count": 48,
      "outputs": [
        {
          "output_type": "stream",
          "text": [
            "+-------+-------------------+------------------+----------------+\n",
            "| userId|              up_ts|         avg(diff)|count(sessionId)|\n",
            "+-------+-------------------+------------------+----------------+\n",
            "|1914133|2018-10-09 11:11:55|           22340.0|              12|\n",
            "|1071843|2018-11-08 13:16:59|27020.272727272728|              11|\n",
            "|1582360|2018-10-04 15:48:38|19012.117647058825|              34|\n",
            "|1576394|2018-10-03 07:51:46| 19205.60606060606|              33|\n",
            "|1957517|2018-10-11 04:46:39|          28964.75|              12|\n",
            "|1738642|2018-10-23 16:00:35|16186.714285714286|               7|\n",
            "|1968237|2018-10-27 11:19:26|           34908.8|               5|\n",
            "|1480286|2018-10-05 08:08:07| 25844.91304347826|              23|\n",
            "|1236500|2018-10-02 22:56:35|13711.457142857143|              35|\n",
            "|1212815|2018-11-02 08:43:06|        36214.8125|              16|\n",
            "|1450388|2018-10-29 10:57:02|           16987.0|               1|\n",
            "|1166697|2018-10-14 22:06:54|           34100.5|               6|\n",
            "|1740364|2018-10-08 15:04:47|          16163.72|              25|\n",
            "|1279782|2018-10-16 21:25:27|           25872.0|              20|\n",
            "|1703878|2018-10-16 03:05:36| 25313.14285714286|               7|\n",
            "|1568402|2018-10-18 14:26:47|           15489.6|              10|\n",
            "|1952752|2018-11-09 21:44:40|18859.733333333334|              15|\n",
            "|1120784|2018-10-11 14:16:28|14162.807692307691|              26|\n",
            "|1567623|2018-10-23 00:49:50|           22099.3|              10|\n",
            "|1554972|2018-11-19 21:16:01|17016.571428571428|               7|\n",
            "+-------+-------------------+------------------+----------------+\n",
            "only showing top 20 rows\n",
            "\n"
          ],
          "name": "stdout"
        }
      ]
    },
    {
      "cell_type": "code",
      "metadata": {
        "colab": {
          "base_uri": "https://localhost:8080/"
        },
        "id": "WZHp0-nRIpQP",
        "outputId": "53c75031-9941-4930-9c3f-ca5ed4bd8192"
      },
      "source": [
        "#device\r\n",
        "df.select([\"userId\", \"up_ts\", \"userAgent\"]).withColumn(\"platform\",\r\n",
        "    F.when(df.userAgent.contains(\"Macintosh\"), \"macos\") \\\r\n",
        "    .when(df.userAgent.contains(\"Windows\"), \"windows\") \\\r\n",
        "    .when(df.userAgent.contains(\"iPad\"), \"ipad\") \\\r\n",
        "    .when(df.userAgent.contains(\"iPhone\"), \"iphone\") \\\r\n",
        "    .when(df.userAgent.contains(\"Linux\"), \"linux\") \\\r\n",
        "    ).show()"
      ],
      "execution_count": 71,
      "outputs": [
        {
          "output_type": "stream",
          "text": [
            "+-------+-------------------+--------------------+--------+\n",
            "| userId|              up_ts|           userAgent|platform|\n",
            "+-------+-------------------+--------------------+--------+\n",
            "|1006381|2018-10-30 03:31:46|\"Mozilla/5.0 (Mac...|   macos|\n",
            "|1006381|2018-10-30 03:31:46|\"Mozilla/5.0 (Mac...|   macos|\n",
            "|1006381|2018-10-30 03:31:46|\"Mozilla/5.0 (Mac...|   macos|\n",
            "|1006381|2018-10-30 03:31:46|\"Mozilla/5.0 (Mac...|   macos|\n",
            "|1006381|2018-10-30 03:31:46|\"Mozilla/5.0 (Mac...|   macos|\n",
            "|1006381|2018-10-30 03:31:46|\"Mozilla/5.0 (Mac...|   macos|\n",
            "|1006381|2018-10-30 03:31:46|\"Mozilla/5.0 (Mac...|   macos|\n",
            "|1006381|2018-10-30 03:31:46|\"Mozilla/5.0 (Mac...|   macos|\n",
            "|1006381|2018-10-30 03:31:46|\"Mozilla/5.0 (Mac...|   macos|\n",
            "|1006381|2018-10-30 03:31:46|\"Mozilla/5.0 (Mac...|   macos|\n",
            "|1006381|2018-10-30 03:31:46|\"Mozilla/5.0 (Mac...|   macos|\n",
            "|1006381|2018-10-30 03:31:46|\"Mozilla/5.0 (Mac...|   macos|\n",
            "|1006381|2018-10-30 03:31:46|\"Mozilla/5.0 (Mac...|   macos|\n",
            "|1006381|2018-10-30 03:31:46|\"Mozilla/5.0 (Mac...|   macos|\n",
            "|1006381|2018-10-30 03:31:46|\"Mozilla/5.0 (Mac...|   macos|\n",
            "|1006381|2018-10-30 03:31:46|\"Mozilla/5.0 (Mac...|   macos|\n",
            "|1006381|2018-10-30 03:31:46|\"Mozilla/5.0 (Mac...|   macos|\n",
            "|1006381|2018-10-30 03:31:46|\"Mozilla/5.0 (Mac...|   macos|\n",
            "|1006381|2018-10-30 03:31:46|\"Mozilla/5.0 (Mac...|   macos|\n",
            "|1006381|2018-10-30 03:31:46|\"Mozilla/5.0 (Mac...|   macos|\n",
            "+-------+-------------------+--------------------+--------+\n",
            "only showing top 20 rows\n",
            "\n"
          ],
          "name": "stdout"
        }
      ]
    },
    {
      "cell_type": "code",
      "metadata": {
        "colab": {
          "base_uri": "https://localhost:8080/"
        },
        "id": "4HkhmtZWCVe7",
        "outputId": "602464e4-97b0-4130-b93b-40240cb12ce1"
      },
      "source": [
        "#state\r\n",
        "df.select(\"location\").withColumn(\"test\", F.split(df.location, ', ')[1]).show()"
      ],
      "execution_count": 74,
      "outputs": [
        {
          "output_type": "stream",
          "text": [
            "+--------------------+----+\n",
            "|            location|test|\n",
            "+--------------------+----+\n",
            "|Los Angeles-Long ...|  CA|\n",
            "|Los Angeles-Long ...|  CA|\n",
            "|Los Angeles-Long ...|  CA|\n",
            "|Los Angeles-Long ...|  CA|\n",
            "|Los Angeles-Long ...|  CA|\n",
            "|Los Angeles-Long ...|  CA|\n",
            "|Los Angeles-Long ...|  CA|\n",
            "|Los Angeles-Long ...|  CA|\n",
            "|Los Angeles-Long ...|  CA|\n",
            "|Los Angeles-Long ...|  CA|\n",
            "|Los Angeles-Long ...|  CA|\n",
            "|Los Angeles-Long ...|  CA|\n",
            "|Los Angeles-Long ...|  CA|\n",
            "|Los Angeles-Long ...|  CA|\n",
            "|Los Angeles-Long ...|  CA|\n",
            "|Los Angeles-Long ...|  CA|\n",
            "|Los Angeles-Long ...|  CA|\n",
            "|Los Angeles-Long ...|  CA|\n",
            "|Los Angeles-Long ...|  CA|\n",
            "|Los Angeles-Long ...|  CA|\n",
            "+--------------------+----+\n",
            "only showing top 20 rows\n",
            "\n"
          ],
          "name": "stdout"
        }
      ]
    }
  ]
}