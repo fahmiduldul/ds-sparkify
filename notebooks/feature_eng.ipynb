{
 "cells": [
  {
   "cell_type": "code",
   "execution_count": 1,
   "metadata": {},
   "outputs": [],
   "source": [
    "from pyspark.sql import SparkSession\n",
    "import pyspark.sql.functions as F\n",
    "import pyspark.sql.types as T"
   ]
  },
  {
   "cell_type": "code",
   "execution_count": 2,
   "metadata": {},
   "outputs": [],
   "source": [
    "spark = SparkSession.builder.appName('sparkify') \\\n",
    "    .config('spark.driver.maxResultSize', '3g') \\\n",
    "    .getOrCreate()"
   ]
  },
  {
   "cell_type": "code",
   "execution_count": 3,
   "metadata": {},
   "outputs": [
    {
     "name": "stdout",
     "output_type": "stream",
     "text": [
      "root\n",
      " |-- userId: string (nullable = true)\n",
      " |-- up_ts: timestamp (nullable = true)\n",
      " |-- down_ts: string (nullable = true)\n",
      " |-- isChurn: boolean (nullable = true)\n",
      " |-- artist: string (nullable = true)\n",
      " |-- auth: string (nullable = true)\n",
      " |-- firstName: string (nullable = true)\n",
      " |-- gender: string (nullable = true)\n",
      " |-- itemInSession: long (nullable = true)\n",
      " |-- lastName: string (nullable = true)\n",
      " |-- length: double (nullable = true)\n",
      " |-- level: string (nullable = true)\n",
      " |-- location: string (nullable = true)\n",
      " |-- method: string (nullable = true)\n",
      " |-- page: string (nullable = true)\n",
      " |-- registration: long (nullable = true)\n",
      " |-- sessionId: long (nullable = true)\n",
      " |-- song: string (nullable = true)\n",
      " |-- status: long (nullable = true)\n",
      " |-- userAgent: string (nullable = true)\n",
      " |-- ts: timestamp (nullable = true)\n",
      "\n"
     ]
    }
   ],
   "source": [
    "df = spark.read.parquet(\"gs://udacity-dsnd/event_labeled.parquet\")\n",
    "df = df.drop('userIdTemp')\n",
    "df.printSchema()"
   ]
  },
  {
   "cell_type": "code",
   "execution_count": 5,
   "metadata": {},
   "outputs": [],
   "source": [
    "def change_colname_join_df(join_df, suffix='_temp'):\n",
    "    temp_df = join_df\n",
    "    for col_name in join_df.columns:\n",
    "        temp_df = temp_df.withColumnRenamed(col_name, col_name + suffix)\n",
    "    \n",
    "    return temp_df"
   ]
  },
  {
   "cell_type": "code",
   "execution_count": 4,
   "metadata": {},
   "outputs": [
    {
     "name": "stdout",
     "output_type": "stream",
     "text": [
      "+-------+-------------------+-------------------+-------+-----+\n",
      "| userId|              up_ts|            down_ts|isChurn|count|\n",
      "+-------+-------------------+-------------------+-------+-----+\n",
      "|1481390|2018-11-12 14:13:37|2099-12-31 00:00:00|  false|  232|\n",
      "|1221594|2018-11-24 21:57:34|2099-12-31 00:00:00|  false|  597|\n",
      "|1630000|2018-10-09 17:04:56|2099-12-31 00:00:00|  false| 1408|\n",
      "|1801448|2018-10-25 01:28:00|2099-12-31 00:00:00|  false|  460|\n",
      "|1084874|2018-11-13 07:36:32|2099-12-31 00:00:00|  false|  596|\n",
      "+-------+-------------------+-------------------+-------+-----+\n",
      "only showing top 5 rows\n",
      "\n"
     ]
    }
   ],
   "source": [
    "# number of song heard in one subscription\n",
    "n_song = df.filter(df.page == \"NextSong\").groupBy([\"userId\", \"up_ts\", \"down_ts\", \"isChurn\"]).count()\n",
    "n_song.show(5)"
   ]
  },
  {
   "cell_type": "code",
   "execution_count": 6,
   "metadata": {},
   "outputs": [
    {
     "name": "stdout",
     "output_type": "stream",
     "text": [
      "+-------+-------------------+-------------------+-------+--------+\n",
      "| userId|              up_ts|            down_ts|isChurn|datediff|\n",
      "+-------+-------------------+-------------------+-------+--------+\n",
      "|1481390|2018-11-12 14:13:37|2099-12-31 00:00:00|  false|      18|\n",
      "|1221594|2018-11-24 21:57:34|2099-12-31 00:00:00|  false|       6|\n",
      "|1630000|2018-10-09 17:04:56|2099-12-31 00:00:00|  false|      52|\n",
      "|1801448|2018-10-25 01:28:00|2099-12-31 00:00:00|  false|      36|\n",
      "|1084874|2018-11-13 07:36:32|2099-12-31 00:00:00|  false|      17|\n",
      "+-------+-------------------+-------------------+-------+--------+\n",
      "only showing top 5 rows\n",
      "\n"
     ]
    }
   ],
   "source": [
    "# number of day in subscription\n",
    "maxdate_df = df.select(\"ts\").agg(F.max(df.ts))\n",
    "\n",
    "datediff_df = df.select([\"userId\", \"up_ts\", \"down_ts\", \"isChurn\"]).dropDuplicates() \\\n",
    "    .join(maxdate_df, ~df.userId.isNull(), how='left') \\\n",
    "    .withColumn(\"datediff\", \n",
    "        F.datediff(F.when(F.col(\"isChurn\"), F.col(\"down_ts\")).otherwise(F.col(\"max(ts)\").cast(T.TimestampType())), df.up_ts)) \\\n",
    "    .drop(\"max(ts)\") \\\n",
    "\n",
    "datediff_df.show(5)"
   ]
  },
  {
   "cell_type": "code",
   "execution_count": 9,
   "metadata": {},
   "outputs": [
    {
     "name": "stdout",
     "output_type": "stream",
     "text": [
      "+-------+-------------------+-------------------+-------+----------+-------------+------------------+\n",
      "| userId|              up_ts|            down_ts|isChurn|song_count|datediff_temp|         song_rate|\n",
      "+-------+-------------------+-------------------+-------+----------+-------------+------------------+\n",
      "|1111091|2018-11-27 17:43:31|2099-12-31 00:00:00|  false|        90|            3|              30.0|\n",
      "|1161080|2018-10-26 19:14:14|2018-11-23 21:55:06|   true|       648|           28|23.142857142857142|\n",
      "|1291366|2018-10-01 04:22:41|2099-12-31 00:00:00|  false|      4114|           60| 68.56666666666666|\n",
      "|1335330|2018-11-26 15:00:33|2099-12-31 00:00:00|  false|         3|            4|              0.75|\n",
      "|1721316|2018-10-11 17:19:44|2099-12-31 00:00:00|  false|       218|           50|              4.36|\n",
      "+-------+-------------------+-------------------+-------+----------+-------------+------------------+\n",
      "only showing top 5 rows\n",
      "\n"
     ]
    }
   ],
   "source": [
    "# number of song played per day\n",
    "jdf = change_colname_join_df(datediff_df)\n",
    "song_rate = df.filter(df.page == 'NextSong').groupBy([\"userId\", \"up_ts\", \"down_ts\", \"isChurn\"]).count() \\\n",
    "    .withColumnRenamed(\"count\", \"song_count\") \\\n",
    "    .join(jdf, (df.up_ts == jdf.up_ts_temp) & (df.userId == jdf.userId_temp)) \\\n",
    "    .drop(\"userId_temp\", \"up_ts_temp\", \"down_ts_temp\", \"isChurn_temp\") \\\n",
    "    .withColumn(\"song_rate\", F.col(\"song_count\") / F.when(F.col(\"datediff_temp\") == 0, 1).otherwise(F.col(\"datediff_temp\")))\n",
    "song_rate.show(5)"
   ]
  },
  {
   "cell_type": "code",
   "execution_count": 11,
   "metadata": {},
   "outputs": [
    {
     "name": "stdout",
     "output_type": "stream",
     "text": [
      "+-------+-------------------+-------------------+-------+-----------+\n",
      "| userId|              up_ts|            down_ts|isChurn|count(page)|\n",
      "+-------+-------------------+-------------------+-------+-----------+\n",
      "|1111091|2018-11-27 17:43:31|2099-12-31 00:00:00|  false|          2|\n",
      "|1161080|2018-10-26 19:14:14|2018-11-23 21:55:06|   true|         12|\n",
      "|1291366|2018-10-01 04:22:41|2099-12-31 00:00:00|  false|        113|\n",
      "|1721316|2018-10-11 17:19:44|2099-12-31 00:00:00|  false|          9|\n",
      "|1293361|2018-11-16 21:48:35|2018-11-21 15:29:13|   true|          8|\n",
      "+-------+-------------------+-------------------+-------+-----------+\n",
      "only showing top 5 rows\n",
      "\n"
     ]
    }
   ],
   "source": [
    "# number of songs added to playlist\n",
    "df.select([\"userId\", \"up_ts\", \"down_ts\", \"isChurn\", \"page\"]).filter(df.page ==\"Add to Playlist\") \\\n",
    "    .groupBy([\"userId\", \"up_ts\", \"down_ts\", \"isChurn\"]) \\\n",
    "    .agg(F.count(F.col(\"page\"))) \\\n",
    "    .show(5)"
   ]
  },
  {
   "cell_type": "code",
   "execution_count": null,
   "metadata": {},
   "outputs": [],
   "source": [
    "#number of thumbs up and down\n",
    "df.select([\"userId\", \"up_ts\", \"down_ts\", \"isChurn\", \"page\"]).filter(df.page.isin([\"Thumbs Up\", \"Thumbs Down\"])) \\\n",
    "    .gropuby([\"userId\", \"up_ts\", \"down_ts\", \"isChurn\"]) \\\n",
    "    .agg(\n",
    "        F.count(F.when(df.page == \"\")))"
   ]
  },
  {
   "cell_type": "code",
   "execution_count": 12,
   "metadata": {},
   "outputs": [
    {
     "name": "stdout",
     "output_type": "stream",
     "text": [
      "+--------------------+\n",
      "|                page|\n",
      "+--------------------+\n",
      "|      Submit Upgrade|\n",
      "|                Home|\n",
      "|          Add Friend|\n",
      "|           Thumbs Up|\n",
      "|     Add to Playlist|\n",
      "|           Downgrade|\n",
      "|              Cancel|\n",
      "|Cancellation Conf...|\n",
      "|                Home|\n",
      "|          Add Friend|\n",
      "|                Help|\n",
      "|         Thumbs Down|\n",
      "|     Add to Playlist|\n",
      "|           Thumbs Up|\n",
      "|     Add to Playlist|\n",
      "|           Downgrade|\n",
      "|                Home|\n",
      "|          Add Friend|\n",
      "|                Home|\n",
      "|                Home|\n",
      "|           Thumbs Up|\n",
      "|         Thumbs Down|\n",
      "|     Add to Playlist|\n",
      "|     Add to Playlist|\n",
      "|           Downgrade|\n",
      "|           Thumbs Up|\n",
      "|                Home|\n",
      "|              Logout|\n",
      "|                Home|\n",
      "|         Thumbs Down|\n",
      "|          Add Friend|\n",
      "|           Thumbs Up|\n",
      "|           Thumbs Up|\n",
      "|                Home|\n",
      "|           Downgrade|\n",
      "|              Logout|\n",
      "|                Home|\n",
      "|                Help|\n",
      "|                Home|\n",
      "|           Thumbs Up|\n",
      "|                Home|\n",
      "|           Thumbs Up|\n",
      "|     Add to Playlist|\n",
      "|           Thumbs Up|\n",
      "|           Thumbs Up|\n",
      "|     Add to Playlist|\n",
      "|          Add Friend|\n",
      "|          Add Friend|\n",
      "|            Settings|\n",
      "|       Save Settings|\n",
      "+--------------------+\n",
      "only showing top 50 rows\n",
      "\n"
     ]
    }
   ],
   "source": [
    "df.select(\"page\").filter(df.page != \"NextSong\").show(50)"
   ]
  }
 ],
 "metadata": {
  "kernelspec": {
   "display_name": "Python 3",
   "language": "python",
   "name": "python3"
  },
  "language_info": {
   "codemirror_mode": {
    "name": "ipython",
    "version": 3
   },
   "file_extension": ".py",
   "mimetype": "text/x-python",
   "name": "python",
   "nbconvert_exporter": "python",
   "pygments_lexer": "ipython3",
   "version": "3.8.8"
  }
 },
 "nbformat": 4,
 "nbformat_minor": 4
}