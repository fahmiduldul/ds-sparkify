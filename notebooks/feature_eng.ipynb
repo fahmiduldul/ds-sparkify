{
  "nbformat": 4,
  "nbformat_minor": 0,
  "metadata": {
    "kernelspec": {
      "display_name": "Python 3",
      "language": "python",
      "name": "python3"
    },
    "language_info": {
      "codemirror_mode": {
        "name": "ipython",
        "version": 3
      },
      "file_extension": ".py",
      "mimetype": "text/x-python",
      "name": "python",
      "nbconvert_exporter": "python",
      "pygments_lexer": "ipython3",
      "version": "3.8.8"
    },
    "colab": {
      "name": "feature_eng.ipynb",
      "provenance": []
    }
  },
  "cells": [
    {
      "cell_type": "code",
      "metadata": {
        "colab": {
          "base_uri": "https://localhost:8080/"
        },
        "id": "tnMpp_lsyLv-",
        "outputId": "6e69782d-60e3-4442-f899-e598e8196c8e"
      },
      "source": [
        "!pip install pyspark"
      ],
      "execution_count": 1,
      "outputs": [
        {
          "output_type": "stream",
          "text": [
            "Collecting pyspark\n",
            "\u001b[?25l  Downloading https://files.pythonhosted.org/packages/45/b0/9d6860891ab14a39d4bddf80ba26ce51c2f9dc4805e5c6978ac0472c120a/pyspark-3.1.1.tar.gz (212.3MB)\n",
            "\u001b[K     |████████████████████████████████| 212.3MB 68kB/s \n",
            "\u001b[?25hCollecting py4j==0.10.9\n",
            "\u001b[?25l  Downloading https://files.pythonhosted.org/packages/9e/b6/6a4fb90cd235dc8e265a6a2067f2a2c99f0d91787f06aca4bcf7c23f3f80/py4j-0.10.9-py2.py3-none-any.whl (198kB)\n",
            "\u001b[K     |████████████████████████████████| 204kB 19.7MB/s \n",
            "\u001b[?25hBuilding wheels for collected packages: pyspark\n",
            "  Building wheel for pyspark (setup.py) ... \u001b[?25l\u001b[?25hdone\n",
            "  Created wheel for pyspark: filename=pyspark-3.1.1-py2.py3-none-any.whl size=212767604 sha256=e40a5732001cc9283fe707bba5139b978abd1f984356a5db47a01c1aa883de11\n",
            "  Stored in directory: /root/.cache/pip/wheels/0b/90/c0/01de724414ef122bd05f056541fb6a0ecf47c7ca655f8b3c0f\n",
            "Successfully built pyspark\n",
            "Installing collected packages: py4j, pyspark\n",
            "Successfully installed py4j-0.10.9 pyspark-3.1.1\n"
          ],
          "name": "stdout"
        }
      ]
    },
    {
      "cell_type": "code",
      "metadata": {
        "colab": {
          "base_uri": "https://localhost:8080/"
        },
        "id": "aeKTM2Z2yOpX",
        "outputId": "01502e6a-a98c-4433-dd83-fb105c274bb3"
      },
      "source": [
        "from google.colab import drive\r\n",
        "drive.mount('/content/drive')"
      ],
      "execution_count": 2,
      "outputs": [
        {
          "output_type": "stream",
          "text": [
            "Mounted at /content/drive\n"
          ],
          "name": "stdout"
        }
      ]
    },
    {
      "cell_type": "code",
      "metadata": {
        "id": "4WdL_IhUyD5y"
      },
      "source": [
        "from pyspark.sql import SparkSession\n",
        "import pyspark.sql.functions as F\n",
        "import pyspark.sql.types as T\n",
        "from functools import reduce"
      ],
      "execution_count": 46,
      "outputs": []
    },
    {
      "cell_type": "code",
      "metadata": {
        "id": "6s9TVbfzyD59"
      },
      "source": [
        "spark = SparkSession.builder.appName('sparkify') \\\n",
        "    .config('spark.driver.maxResultSize', '3g') \\\n",
        "    .getOrCreate()"
      ],
      "execution_count": 4,
      "outputs": []
    },
    {
      "cell_type": "code",
      "metadata": {
        "colab": {
          "base_uri": "https://localhost:8080/"
        },
        "id": "n_VrHOvlyD5-",
        "outputId": "cc3b9073-4047-4cac-bcf5-164729fe26c4"
      },
      "source": [
        "df = spark.read.parquet(\"/content/drive/MyDrive/datasets/dsnd-sparkify/event_labeled.parquet\")\n",
        "df = df.drop('userIdTemp')\n",
        "df.printSchema()"
      ],
      "execution_count": 5,
      "outputs": [
        {
          "output_type": "stream",
          "text": [
            "root\n",
            " |-- userId: string (nullable = true)\n",
            " |-- up_ts: timestamp (nullable = true)\n",
            " |-- down_ts: string (nullable = true)\n",
            " |-- isChurn: boolean (nullable = true)\n",
            " |-- artist: string (nullable = true)\n",
            " |-- auth: string (nullable = true)\n",
            " |-- firstName: string (nullable = true)\n",
            " |-- gender: string (nullable = true)\n",
            " |-- itemInSession: long (nullable = true)\n",
            " |-- lastName: string (nullable = true)\n",
            " |-- length: double (nullable = true)\n",
            " |-- level: string (nullable = true)\n",
            " |-- location: string (nullable = true)\n",
            " |-- method: string (nullable = true)\n",
            " |-- page: string (nullable = true)\n",
            " |-- registration: long (nullable = true)\n",
            " |-- sessionId: long (nullable = true)\n",
            " |-- song: string (nullable = true)\n",
            " |-- status: long (nullable = true)\n",
            " |-- userAgent: string (nullable = true)\n",
            " |-- ts: timestamp (nullable = true)\n",
            "\n"
          ],
          "name": "stdout"
        }
      ]
    },
    {
      "cell_type": "code",
      "metadata": {
        "id": "e83sWn9dyD6A"
      },
      "source": [
        "def change_colname_join_df(join_df, suffix='_temp'):\n",
        "    '''\n",
        "    INPUT:\n",
        "    join_df - dataframe on the right side of join\n",
        "    suffix - added string on each column name\n",
        "\n",
        "    OUTPUT:\n",
        "    res_df - dataframe with renamed column\n",
        "\n",
        "    | col_1 | col_ 2 |  -->  | col_1_temp | col_ 2_temp |\n",
        "    '''\n",
        "    res_df = join_df\n",
        "    for col_name in join_df.columns:\n",
        "        res_df = res_df.withColumnRenamed(col_name, col_name + suffix)\n",
        "    \n",
        "    return res_df\n",
        "\n",
        "def remove_cols_suffix(df1, suffix=\"_temp\"):\n",
        "    '''\n",
        "    INPUT:\n",
        "    df1 - dataframe with suffix column\n",
        "\n",
        "    OUTPUT:\n",
        "    result - dataframe without suffix column\n",
        "\n",
        "    | col_1_temp | col_ 2_temp |  -->  | col_1 | col_ 2 |\n",
        "    '''\n",
        "    for col in df1.columns:\n",
        "        if suffix in col:\n",
        "            df1 = df1.withColumnRenamed(col, col[:len(col) - len(suffix)])\n",
        "    \n",
        "    return df1\n",
        "\n",
        "\n",
        "def chain_and(df1, df2, key_cols, suffix=\"_temp\"):\n",
        "    '''\n",
        "    DESCRIPTION:\n",
        "    create chaining and condition for joining\n",
        "    (df1.col1 == df2.col1_suffix) == (df1.col2 == df2.col2_suffix)\n",
        "    \n",
        "    INPUT:\n",
        "    df1 - left dataframe\n",
        "    df2 - right dataframe\n",
        "    key_cols - columns name for join conditions\n",
        "    suffix - columns name suffix\n",
        "\n",
        "    OUTPUT:\n",
        "    res - chain and for join\n",
        "    '''\n",
        "    for i, col in enumerate(key_cols):\n",
        "        if i == 0:\n",
        "            res = df1[col] == df2[col + suffix]\n",
        "        else:\n",
        "            res = res & (df1[col] == df2[col + suffix])\n",
        "    \n",
        "    return res\n",
        "\n",
        "def chain_left_join(df1, dfs, key_cols, suffix=\"_temp\", \n",
        "                    path=\"/content/drive/MyDrive/datasets/dsnd-sparkify/join_temp\"):\n",
        "    '''\n",
        "    INPUT:\n",
        "    df1 - left dataframe\n",
        "    dfs - list of right dataframes\n",
        "    key_cols - columns name for join conditions\n",
        "    suffix - columns name suffix\n",
        "\n",
        "    OUTPUT:\n",
        "    result - dataframe after chain join\n",
        "    '''\n",
        "    for i, df_temp in enumerate(dfs):\n",
        "        # get left dataframe\n",
        "        if i == 0:\n",
        "            res_df = df1\n",
        "        else:\n",
        "            res_df = spark.read.parquet(path + \"_\" + str(i - 1) + \".parquet\")\n",
        "        \n",
        "        # change right dataframe columns name\n",
        "        df_temp = change_colname_join_df(df_temp)\n",
        "\n",
        "        # join and save\n",
        "        res_df = res_df.join(df_temp, chain_and(res_df, df_temp, key_cols), how=\"left\") \\\n",
        "            .drop(key_cols[0] + suffix).drop(key_cols[1] + suffix)\n",
        "        res_df = remove_cols_suffix(res_df)\n",
        "        \n",
        "        res_df.coalesce(1).write.mode(\"overwrite\").parquet(path + \"_\" + str(i) + \".parquet\")\n",
        "    \n",
        "    return spark.read.parquet(path + \"_\" + str(len(dfs) - 1) + \".parquet\")"
      ],
      "execution_count": 42,
      "outputs": []
    },
    {
      "cell_type": "code",
      "metadata": {
        "id": "xkxHfgbzdemU",
        "colab": {
          "base_uri": "https://localhost:8080/"
        },
        "outputId": "2b6bfda0-d33d-4fa4-c8bb-f4553b5fc6bf"
      },
      "source": [
        "test_df = chain_left_join(song_rate, [n_playlist_df], [\"userId\", \"up_ts\"])\r\n",
        "test_df.show(5)"
      ],
      "execution_count": 36,
      "outputs": [
        {
          "output_type": "stream",
          "text": [
            "+-------+-------------------+----------+-------------+------------------+----------+\n",
            "| userId|              up_ts|song_count|subs_duration|         song_rate|n_playlist|\n",
            "+-------+-------------------+----------+-------------+------------------+----------+\n",
            "|1071843|2018-11-08 13:16:59|      1190|           22| 54.09090909090909|        39|\n",
            "|1120784|2018-10-11 14:16:28|      1502|           50|             30.04|        45|\n",
            "|1128522|2018-11-13 17:46:22|       203|            2|             101.5|         9|\n",
            "|1130061|2018-10-11 20:04:50|        96|           50|              1.92|         4|\n",
            "|1135039|2018-10-04 11:31:06|       643|           57|11.280701754385966|        29|\n",
            "+-------+-------------------+----------+-------------+------------------+----------+\n",
            "only showing top 5 rows\n",
            "\n"
          ],
          "name": "stdout"
        }
      ]
    },
    {
      "cell_type": "code",
      "metadata": {
        "id": "_Ubs12qBhJ-I",
        "outputId": "86a0a1ff-7283-4f22-c474-eae0c738ed80",
        "colab": {
          "base_uri": "https://localhost:8080/"
        }
      },
      "source": [
        "# dataframe with the key columns (\"userId\" and \"up_ts\") and churn status\r\n",
        "key_df = df.select([\"userId\", \"up_ts\", \"isChurn\"]).groupBy([\"userId\", \"up_ts\"]) \\\r\n",
        "    .agg(F.max(\"isChurn\").alias(\"is_churn\"))\r\n",
        "\r\n",
        "key_df.show(5)"
      ],
      "execution_count": 22,
      "outputs": [
        {
          "output_type": "stream",
          "text": [
            "+-------+-------------------+--------+\n",
            "| userId|              up_ts|is_churn|\n",
            "+-------+-------------------+--------+\n",
            "|1367536|2018-10-08 14:58:27|   false|\n",
            "|1322258|2018-10-08 23:28:14|    true|\n",
            "|1554972|2018-11-19 21:16:01|   false|\n",
            "|1655008|2018-10-25 06:50:45|   false|\n",
            "|1968237|2018-10-27 11:19:26|   false|\n",
            "+-------+-------------------+--------+\n",
            "only showing top 5 rows\n",
            "\n"
          ],
          "name": "stdout"
        }
      ]
    },
    {
      "cell_type": "code",
      "metadata": {
        "colab": {
          "base_uri": "https://localhost:8080/"
        },
        "id": "Iv_yZM1WyD6A",
        "outputId": "03c711df-0a39-460c-9fab-e4a47c5fea51"
      },
      "source": [
        "# number of song heard in one subscription\n",
        "n_songs_play_df = df.filter(df.page == \"NextSong\").groupBy([\"userId\", \"up_ts\"]).count().withColumnRenamed(\"count\", \"n_songs\")\n",
        "n_songs_play_df.show(5)"
      ],
      "execution_count": 7,
      "outputs": [
        {
          "output_type": "stream",
          "text": [
            "+-------+-------------------+-------+\n",
            "| userId|              up_ts|n_songs|\n",
            "+-------+-------------------+-------+\n",
            "|1367536|2018-10-08 14:58:27|   1806|\n",
            "|1322258|2018-10-08 23:28:14|    997|\n",
            "|1554972|2018-11-19 21:16:01|    472|\n",
            "|1655008|2018-10-25 06:50:45|    234|\n",
            "|1968237|2018-10-27 11:19:26|    700|\n",
            "+-------+-------------------+-------+\n",
            "only showing top 5 rows\n",
            "\n"
          ],
          "name": "stdout"
        }
      ]
    },
    {
      "cell_type": "code",
      "metadata": {
        "colab": {
          "base_uri": "https://localhost:8080/"
        },
        "id": "G8ZDfVYvyD6B",
        "outputId": "dbcf0802-4460-4e03-e5ed-b855a016a3db"
      },
      "source": [
        "# number of day in subscription\n",
        "maxdate_df = df.select(\"ts\").agg(F.max(df.ts))\n",
        "\n",
        "datediff_df = df.select([\"userId\", \"up_ts\", \"down_ts\", \"isChurn\"]).dropDuplicates() \\\n",
        "    .join(maxdate_df, ~df.userId.isNull(), how='left') \\\n",
        "    .withColumn(\"datediff\", \n",
        "        F.datediff(F.when(F.col(\"isChurn\"), F.col(\"down_ts\")).otherwise(F.col(\"max(ts)\").cast(T.TimestampType())), df.up_ts)) \\\n",
        "    .drop(\"max(ts)\")\n",
        "\n",
        "datediff_df.show(5)"
      ],
      "execution_count": 8,
      "outputs": [
        {
          "output_type": "stream",
          "text": [
            "+-------+-------------------+-------------------+-------+--------+\n",
            "| userId|              up_ts|            down_ts|isChurn|datediff|\n",
            "+-------+-------------------+-------------------+-------+--------+\n",
            "|1111091|2018-11-27 17:43:31|2099-12-31 00:00:00|  false|       3|\n",
            "|1161080|2018-10-26 19:14:14|2018-11-23 21:55:06|   true|      28|\n",
            "|1291366|2018-10-01 04:22:41|2099-12-31 00:00:00|  false|      60|\n",
            "|1335330|2018-11-26 15:00:33|2099-12-31 00:00:00|  false|       4|\n",
            "|1721316|2018-10-11 17:19:44|2099-12-31 00:00:00|  false|      50|\n",
            "+-------+-------------------+-------------------+-------+--------+\n",
            "only showing top 5 rows\n",
            "\n"
          ],
          "name": "stdout"
        }
      ]
    },
    {
      "cell_type": "code",
      "metadata": {
        "colab": {
          "base_uri": "https://localhost:8080/"
        },
        "id": "Kg-A_r85yD6B",
        "outputId": "ba9311fc-234b-4160-cd4a-3568d36738d4"
      },
      "source": [
        "# number of song played per day\n",
        "jdf = change_colname_join_df(datediff_df)\n",
        "songs_rate_df = df.filter(df.page == 'NextSong').groupBy([\"userId\", \"up_ts\"]).count() \\\n",
        "    .withColumnRenamed(\"count\", \"song_count\") \\\n",
        "    .join(jdf, (df.up_ts == jdf.up_ts_temp) & (df.userId == jdf.userId_temp)) \\\n",
        "    .drop(\"userId_temp\", \"up_ts_temp\", \"down_ts_temp\", \"isChurn_temp\") \\\n",
        "    .withColumn(\"song_rate\", F.col(\"song_count\") / F.when(F.col(\"datediff_temp\") == 0, 1).otherwise(F.col(\"datediff_temp\"))) \\\n",
        "    .withColumnRenamed(\"datediff_temp\", \"subs_duration\")\n",
        "\n",
        "songs_rate_df.show(5)"
      ],
      "execution_count": 23,
      "outputs": [
        {
          "output_type": "stream",
          "text": [
            "+-------+-------------------+----------+-------------+------------------+\n",
            "| userId|              up_ts|song_count|subs_duration|         song_rate|\n",
            "+-------+-------------------+----------+-------------+------------------+\n",
            "|1071843|2018-11-08 13:16:59|      1190|           22| 54.09090909090909|\n",
            "|1120784|2018-10-11 14:16:28|      1502|           50|             30.04|\n",
            "|1128522|2018-11-13 17:46:22|       203|            2|             101.5|\n",
            "|1130061|2018-10-11 20:04:50|        96|           50|              1.92|\n",
            "|1135039|2018-10-04 11:31:06|       643|           57|11.280701754385966|\n",
            "+-------+-------------------+----------+-------------+------------------+\n",
            "only showing top 5 rows\n",
            "\n"
          ],
          "name": "stdout"
        }
      ]
    },
    {
      "cell_type": "code",
      "metadata": {
        "id": "EQuvZiOoyD6C",
        "colab": {
          "base_uri": "https://localhost:8080/"
        },
        "outputId": "1587b22a-219b-4bf1-f759-d1f4a592bacb"
      },
      "source": [
        "# number of songs added to playlist\n",
        "n_playlist_df = df.select([\"userId\", \"up_ts\", \"page\"]).filter(df.page ==\"Add to Playlist\") \\\n",
        "    .groupBy([\"userId\", \"up_ts\"]) \\\n",
        "    .agg(F.count(F.col(\"page\")).alias(\"n_playlist\"))\n",
        "\n",
        "n_playlist_df.show(5)"
      ],
      "execution_count": 16,
      "outputs": [
        {
          "output_type": "stream",
          "text": [
            "+-------+-------------------+----------+\n",
            "| userId|              up_ts|n_playlist|\n",
            "+-------+-------------------+----------+\n",
            "|1367536|2018-10-08 14:58:27|        39|\n",
            "|1322258|2018-10-08 23:28:14|        30|\n",
            "|1554972|2018-11-19 21:16:01|        21|\n",
            "|1655008|2018-10-25 06:50:45|        11|\n",
            "|1968237|2018-10-27 11:19:26|        15|\n",
            "+-------+-------------------+----------+\n",
            "only showing top 5 rows\n",
            "\n"
          ],
          "name": "stdout"
        }
      ]
    },
    {
      "cell_type": "code",
      "metadata": {
        "colab": {
          "base_uri": "https://localhost:8080/"
        },
        "id": "ie4bOYakyD6C",
        "outputId": "209f88b9-a840-44b4-8bff-e03d889f0b59"
      },
      "source": [
        "#number of thumbs up and down\n",
        "tup_tdown_df = df.select([\"userId\", \"up_ts\", \"down_ts\", \"isChurn\", \"page\"]).filter(df.page.isin([\"Thumbs Up\", \"Thumbs Down\"])) \\\n",
        "    .groupby([\"userId\", \"up_ts\", \"page\"]) \\\n",
        "    .agg(F.count(F.col(\"page\"))) \\\n",
        "    .groupby([\"userId\", \"up_ts\"]) \\\n",
        "    .pivot(\"page\") \\\n",
        "    .agg(F.first(\"count(page)\")) \\\n",
        "    .withColumnRenamed(\"Thumbs Down\", \"thumbs_down\") \\\n",
        "    .withColumnRenamed(\"Thumbs Up\", \"thumbs_up\")\n",
        "\n",
        "tup_tdown_df.show(5)"
      ],
      "execution_count": 17,
      "outputs": [
        {
          "output_type": "stream",
          "text": [
            "+-------+-------------------+-----------+---------+\n",
            "| userId|              up_ts|thumbs_down|thumbs_up|\n",
            "+-------+-------------------+-----------+---------+\n",
            "|1427546|2018-10-17 22:52:00|          4|       25|\n",
            "|1712775|2018-11-23 17:56:01|          6|       35|\n",
            "|1358238|2018-10-02 14:25:59|         23|       64|\n",
            "|1071843|2018-11-08 13:16:59|          6|       51|\n",
            "|1554972|2018-11-19 21:16:01|          5|       35|\n",
            "+-------+-------------------+-----------+---------+\n",
            "only showing top 5 rows\n",
            "\n"
          ],
          "name": "stdout"
        }
      ]
    },
    {
      "cell_type": "code",
      "metadata": {
        "colab": {
          "base_uri": "https://localhost:8080/"
        },
        "id": "nvJgRr4ZzdC8",
        "outputId": "21fda2d4-728b-42ed-81aa-a010dcdaf4ef"
      },
      "source": [
        "# average session length and number of session\r\n",
        "session_df = df.groupBy([\"userId\", \"up_ts\", \"sessionId\"]) \\\r\n",
        "    .agg(\r\n",
        "        F.min(df.ts).cast(T.LongType()).alias(\"min\"),\r\n",
        "        F.max(df.ts).cast(T.LongType()).alias(\"max\")\r\n",
        "    ) \\\r\n",
        "    .withColumn(\"diff\", (F.col(\"max\") - F.col(\"min\"))) \\\r\n",
        "    .groupBy([\"userId\", \"up_ts\"]) \\\r\n",
        "    .agg(F.avg(F.col(\"diff\")).alias(\"avg_sess_len\"), F.count(F.col(\"sessionId\")).alias(\"sess_count\"))\r\n",
        "\r\n",
        "session_df.show(5)"
      ],
      "execution_count": 18,
      "outputs": [
        {
          "output_type": "stream",
          "text": [
            "+-------+-------------------+------------------+----------+\n",
            "| userId|              up_ts|      avg_sess_len|sess_count|\n",
            "+-------+-------------------+------------------+----------+\n",
            "|1914133|2018-10-09 11:11:55|           22340.0|        12|\n",
            "|1071843|2018-11-08 13:16:59|27020.272727272728|        11|\n",
            "|1582360|2018-10-04 15:48:38|19012.117647058825|        34|\n",
            "|1576394|2018-10-03 07:51:46| 19205.60606060606|        33|\n",
            "|1957517|2018-10-11 04:46:39|          28964.75|        12|\n",
            "+-------+-------------------+------------------+----------+\n",
            "only showing top 5 rows\n",
            "\n"
          ],
          "name": "stdout"
        }
      ]
    },
    {
      "cell_type": "code",
      "metadata": {
        "colab": {
          "base_uri": "https://localhost:8080/"
        },
        "id": "WZHp0-nRIpQP",
        "outputId": "cc88164c-250d-4971-8422-2ff4c5ea5523"
      },
      "source": [
        "# platform for each user\r\n",
        "device_df = df.select([\"userId\", \"up_ts\", \"userAgent\"]).withColumn(\"platform\",\r\n",
        "    F.when(df.userAgent.contains(\"Macintosh\"), \"macos\") \\\r\n",
        "    .when(df.userAgent.contains(\"Windows\"), \"windows\") \\\r\n",
        "    .when(df.userAgent.contains(\"iPad\"), \"ipad\") \\\r\n",
        "    .when(df.userAgent.contains(\"iPhone\"), \"iphone\") \\\r\n",
        "    .when(df.userAgent.contains(\"Linux\"), \"linux\")) \\\r\n",
        "    .groupBy([\"userId\", \"up_ts\", \"platform\"]) \\\r\n",
        "    .agg(F.count(\"platform\")) \\\r\n",
        "    .withColumn(\"isplatform\", ~F.isnull(F.col(\"count(platform)\"))) \\\r\n",
        "    .groupby([\"userId\", \"up_ts\"]) \\\r\n",
        "    .pivot(\"platform\") \\\r\n",
        "    .agg(F.max(\"isplatform\")) \\\r\n",
        "    .fillna(False)\r\n",
        "\r\n",
        "device_df.show(5)"
      ],
      "execution_count": 19,
      "outputs": [
        {
          "output_type": "stream",
          "text": [
            "+-------+-------------------+-----+------+-----+-----+-------+\n",
            "| userId|              up_ts| ipad|iphone|linux|macos|windows|\n",
            "+-------+-------------------+-----+------+-----+-----+-------+\n",
            "|1130061|2018-10-11 20:04:50|false| false|false| true|  false|\n",
            "|1914133|2018-10-09 11:11:55|false| false|false| true|  false|\n",
            "|1128522|2018-11-13 17:46:22|false| false|false| true|  false|\n",
            "|1712775|2018-11-23 17:56:01|false| false|false|false|   true|\n",
            "|1568402|2018-10-18 14:26:47|false|  true|false|false|  false|\n",
            "+-------+-------------------+-----+------+-----+-----+-------+\n",
            "only showing top 5 rows\n",
            "\n"
          ],
          "name": "stdout"
        }
      ]
    },
    {
      "cell_type": "code",
      "metadata": {
        "colab": {
          "base_uri": "https://localhost:8080/"
        },
        "id": "4HkhmtZWCVe7",
        "outputId": "49fda16f-477f-420f-e41d-43532c48f98f"
      },
      "source": [
        "#state\r\n",
        "state_df = df.select([\"userId\",\"up_ts\",\"location\"]) \\\r\n",
        "    .withColumn(\"state\", F.split(df.location, ', ')[1]) \\\r\n",
        "    .groupBy([\"userId\", \"up_ts\", \"state\"]) \\\r\n",
        "    .agg(~F.isnull(F.count(F.col(\"state\")))) \\\r\n",
        "    .withColumnRenamed(\"(NOT (count(state) IS NULL))\", \"isstate\") \\\r\n",
        "    .groupBy([\"userId\", \"up_ts\"]) \\\r\n",
        "    .pivot(\"state\") \\\r\n",
        "    .agg(F.max(\"isstate\")) \\\r\n",
        "    .fillna(False)\r\n",
        "\r\n",
        "state_df.show(5)"
      ],
      "execution_count": 20,
      "outputs": [
        {
          "output_type": "stream",
          "text": [
            "+-------+-------------------+-----+-----+-----+-----+-----+-----+-----+-----+-----+-----------+-----+-----+-----+-----+-----+-----+-----+-----+--------+--------+-----+-----+--------+-----+-----+-----+-----+-----+-----+-----+-----+-----+-----+-----+-----+-----+-----+-----+-----+-----+-----+-----+-----+-----+-----+-----+-----+-----+-----+-----+-----+-----+-----+-----+-----+-----+-----+-----+-----+-----+-----+--------+-----+--------+-----+-----+-----+-----+-----+-----+-----+-----------+-----+-----+-----+-----+-----+-----+-----+--------+-----+-----+-----+-----+-----+-----+-----+-----+-----+-----+-----+-----+-----+-----+--------+-----+-----+-----+-----+\n",
            "| userId|              up_ts|   AK|   AL|   AR|AR-MO|AR-OK|   AZ|   CA|   CO|   CT|DC-VA-MD-WV|   DE|   FL|   GA|GA-AL|GA-SC|   HI|   IA|IA-IL|IA-IL-MO|IA-NE-SD|   ID|   IL|IL-IN-WI|IL-MO|   IN|IN-KY|IN-MI|   KS|   KY|KY-IL|KY-IN|   LA|   MA|MA-CT|MA-NH|   MD|MD-DE|MD-WV|   ME|   MI|MI-WI|   MN|MN-WI|   MO|MO-IL|MO-KS|   MS|MS-LA|   MT|   NC|NC-SC|   ND|ND-MN|   NE|NE-IA|   NH|NH-VT|   NJ|   NM|   NV|   NY|NY-NJ-PA|   OH|OH-KY-IN|OH-PA|   OK|   OR|OR-ID|OR-WA|   PA|PA-NJ|PA-NJ-DE-MD|RI-MA|   SC|SC-NC|   SD|   TN|TN-GA|TN-KY|TN-MS-AR|TN-VA|   TX|TX-AR|   UT|UT-ID|   VA|VA-NC|VA-WV|   VT|   WA|   WI|WI-MI|WI-MN|   WV|WV-KY-OH|WV-OH|WV-VA|   WY|WY-ID|\n",
            "+-------+-------------------+-----+-----+-----+-----+-----+-----+-----+-----+-----+-----------+-----+-----+-----+-----+-----+-----+-----+-----+--------+--------+-----+-----+--------+-----+-----+-----+-----+-----+-----+-----+-----+-----+-----+-----+-----+-----+-----+-----+-----+-----+-----+-----+-----+-----+-----+-----+-----+-----+-----+-----+-----+-----+-----+-----+-----+-----+-----+-----+-----+-----+-----+--------+-----+--------+-----+-----+-----+-----+-----+-----+-----+-----------+-----+-----+-----+-----+-----+-----+-----+--------+-----+-----+-----+-----+-----+-----+-----+-----+-----+-----+-----+-----+-----+-----+--------+-----+-----+-----+-----+\n",
            "|1441166|2018-11-20 06:16:50|false|false|false|false|false|false|false|false|false|      false|false|false|false|false|false|false|false|false|   false|   false|false|false|   false|false|false|false|false|false|false|false|false|false|false|false|false|false|false|false|false|false|false|false|false|false|false|false|false|false|false| true|false|false|false|false|false|false|false|false|false|false|false|   false|false|   false|false|false|false|false|false|false|false|      false|false|false|false|false|false|false|false|   false|false|false|false|false|false|false|false|false|false|false|false|false|false|false|   false|false|false|false|false|\n",
            "|1480286|2018-10-05 08:08:07|false|false|false|false|false|false|false|false|false|      false|false|false|false|false|false|false|false|false|   false|   false|false|false|   false|false|false|false|false|false|false|false|false|false|false|false|false|false|false|false|false|false|false|false|false|false|false|false|false|false|false|false|false|false|false|false|false|false|false|false|false|false| true|   false|false|   false|false|false|false|false|false|false|false|      false|false|false|false|false|false|false|false|   false|false|false|false|false|false|false|false|false|false|false|false|false|false|false|   false|false|false|false|false|\n",
            "|1407795|2018-10-21 07:32:32|false|false|false|false|false|false|false|false|false|      false|false|false|false|false|false|false|false|false|   false|   false|false|false|   false|false|false|false|false|false|false|false|false|false|false|false|false|false|false|false|false|false|false|false|false|false|false|false|false|false|false|false|false|false|false|false|false|false|false|false|false|false|false|   false|false|   false|false|false|false|false|false|false|false|      false|false|false|false|false|false|false|false|   false|false|false|false|false|false|false|false|false|false| true|false|false|false|false|   false|false|false|false|false|\n",
            "|1431971|2018-11-17 16:39:25|false|false|false|false|false|false| true|false|false|      false|false|false|false|false|false|false|false|false|   false|   false|false|false|   false|false|false|false|false|false|false|false|false|false|false|false|false|false|false|false|false|false|false|false|false|false|false|false|false|false|false|false|false|false|false|false|false|false|false|false|false|false|false|   false|false|   false|false|false|false|false|false|false|false|      false|false|false|false|false|false|false|false|   false|false|false|false|false|false|false|false|false|false|false|false|false|false|false|   false|false|false|false|false|\n",
            "|1638234|2018-10-03 18:09:53|false|false|false|false|false|false|false|false|false|      false|false|false|false|false|false|false|false|false|   false|   false|false|false|   false|false|false|false|false|false|false|false|false|false|false|false|false|false|false|false|false|false|false|false|false|false|false|false|false|false|false|false|false|false|false|false|false|false|false|false|false|false|false|    true|false|   false|false|false|false|false|false|false|false|      false|false|false|false|false|false|false|false|   false|false|false|false|false|false|false|false|false|false|false|false|false|false|false|   false|false|false|false|false|\n",
            "+-------+-------------------+-----+-----+-----+-----+-----+-----+-----+-----+-----+-----------+-----+-----+-----+-----+-----+-----+-----+-----+--------+--------+-----+-----+--------+-----+-----+-----+-----+-----+-----+-----+-----+-----+-----+-----+-----+-----+-----+-----+-----+-----+-----+-----+-----+-----+-----+-----+-----+-----+-----+-----+-----+-----+-----+-----+-----+-----+-----+-----+-----+-----+-----+--------+-----+--------+-----+-----+-----+-----+-----+-----+-----+-----------+-----+-----+-----+-----+-----+-----+-----+--------+-----+-----+-----+-----+-----+-----+-----+-----+-----+-----+-----+-----+-----+-----+--------+-----+-----+-----+-----+\n",
            "only showing top 5 rows\n",
            "\n"
          ],
          "name": "stdout"
        }
      ]
    },
    {
      "cell_type": "code",
      "metadata": {
        "colab": {
          "base_uri": "https://localhost:8080/"
        },
        "id": "JKzS61ysdahE",
        "outputId": "30ac8a5c-489e-4b0d-ce22-0f88693770a9"
      },
      "source": [
        "# joining all feature into one table\r\n",
        "ml_df = chain_left_join(key_df,\r\n",
        "    [songs_rate_df, n_playlist_df, tup_tdown_df, session_df, device_df, state_df], \r\n",
        "    [\"userId\", \"up_ts\"]) \\\r\n",
        "    .fillna(0)\r\n",
        "\r\n",
        "ml_df.show(5)"
      ],
      "execution_count": 58,
      "outputs": [
        {
          "output_type": "stream",
          "text": [
            "+-------+-------------------+--------+----------+-------------+------------------+----------+-----------+---------+------------------+----------+-----+------+-----+-----+-------+-----+-----+-----+-----+-----+-----+-----+-----+-----+-----------+-----+-----+-----+-----+-----+-----+-----+-----+--------+--------+-----+-----+--------+-----+-----+-----+-----+-----+-----+-----+-----+-----+-----+-----+-----+-----+-----+-----+-----+-----+-----+-----+-----+-----+-----+-----+-----+-----+-----+-----+-----+-----+-----+-----+-----+-----+-----+-----+-----+-----+-----+--------+-----+--------+-----+-----+-----+-----+-----+-----+-----+-----------+-----+-----+-----+-----+-----+-----+-----+--------+-----+-----+-----+-----+-----+-----+-----+-----+-----+-----+-----+-----+-----+-----+--------+-----+-----+-----+-----+\n",
            "| userId|              up_ts|is_churn|song_count|subs_duration|         song_rate|n_playlist|thumbs_down|thumbs_up|      avg_sess_len|sess_count| ipad|iphone|linux|macos|windows|   AK|   AL|   AR|AR-MO|AR-OK|   AZ|   CA|   CO|   CT|DC-VA-MD-WV|   DE|   FL|   GA|GA-AL|GA-SC|   HI|   IA|IA-IL|IA-IL-MO|IA-NE-SD|   ID|   IL|IL-IN-WI|IL-MO|   IN|IN-KY|IN-MI|   KS|   KY|KY-IL|KY-IN|   LA|   MA|MA-CT|MA-NH|   MD|MD-DE|MD-WV|   ME|   MI|MI-WI|   MN|MN-WI|   MO|MO-IL|MO-KS|   MS|MS-LA|   MT|   NC|NC-SC|   ND|ND-MN|   NE|NE-IA|   NH|NH-VT|   NJ|   NM|   NV|   NY|NY-NJ-PA|   OH|OH-KY-IN|OH-PA|   OK|   OR|OR-ID|OR-WA|   PA|PA-NJ|PA-NJ-DE-MD|RI-MA|   SC|SC-NC|   SD|   TN|TN-GA|TN-KY|TN-MS-AR|TN-VA|   TX|TX-AR|   UT|UT-ID|   VA|VA-NC|VA-WV|   VT|   WA|   WI|WI-MI|WI-MN|   WV|WV-KY-OH|WV-OH|WV-VA|   WY|WY-ID|\n",
            "+-------+-------------------+--------+----------+-------------+------------------+----------+-----------+---------+------------------+----------+-----+------+-----+-----+-------+-----+-----+-----+-----+-----+-----+-----+-----+-----+-----------+-----+-----+-----+-----+-----+-----+-----+-----+--------+--------+-----+-----+--------+-----+-----+-----+-----+-----+-----+-----+-----+-----+-----+-----+-----+-----+-----+-----+-----+-----+-----+-----+-----+-----+-----+-----+-----+-----+-----+-----+-----+-----+-----+-----+-----+-----+-----+-----+-----+-----+-----+--------+-----+--------+-----+-----+-----+-----+-----+-----+-----+-----------+-----+-----+-----+-----+-----+-----+-----+--------+-----+-----+-----+-----+-----+-----+-----+-----+-----+-----+-----+-----+-----+-----+--------+-----+-----+-----+-----+\n",
            "|1071843|2018-11-08 13:16:59|   false|      1190|           22| 54.09090909090909|        39|          6|       51|27020.272727272728|        11|false| false|false| true|  false|false|false|false|false|false|false|false|false|false|      false|false|false| true|false|false|false|false|false|   false|   false|false|false|   false|false|false|false|false|false|false|false|false|false|false|false|false|false|false|false|false|false|false|false|false|false|false|false|false|false|false|false|false|false|false|false|false|false|false|false|false|false|false|   false|false|   false|false|false|false|false|false|false|false|      false|false|false|false|false|false|false|false|   false|false|false|false|false|false|false|false|false|false|false|false|false|false|false|   false|false|false|false|false|\n",
            "|1120784|2018-10-11 14:16:28|   false|      1502|           50|             30.04|        45|         17|      122|14162.807692307691|        26|false| false|false|false|   true|false|false|false|false|false|false|false|false|false|      false|false|false|false|false|false|false|false|false|   false|   false|false|false|   false|false|false|false|false|false|false|false|false|false|false|false|false|false|false|false|false|false|false|false| true|false|false|false|false|false|false|false|false|false|false|false|false|false|false|false|false|false|false|   false|false|   false|false|false|false|false|false|false|false|      false|false|false|false|false|false|false|false|   false|false|false|false|false|false|false|false|false|false|false|false|false|false|false|   false|false|false|false|false|\n",
            "|1128522|2018-11-13 17:46:22|    true|       203|            2|             101.5|         9|          6|       12|17188.666666666668|         3|false| false|false| true|  false|false|false|false|false|false|false|false|false|false|      false|false|false|false|false|false|false|false|false|   false|   false|false|false|   false|false|false|false|false|false|false|false|false|false|false|false|false|false|false|false|false|false|false|false|false|false|false|false|false|false|false|false|false|false|false|false|false|false|false|false|false|false|false|    true|false|   false|false|false|false|false|false|false|false|      false|false|false|false|false|false|false|false|   false|false|false|false|false|false|false|false|false|false|false|false|false|false|false|   false|false|false|false|false|\n",
            "|1130061|2018-10-11 20:04:50|   false|        96|           50|              1.92|         4|          4|        3|           11930.5|         2|false| false|false| true|  false|false|false|false|false|false|false|false|false|false|      false|false|false|false|false|false|false|false|false|   false|   false|false|false|   false|false|false|false|false|false|false|false|false|false|false|false| true|false|false|false|false|false|false|false|false|false|false|false|false|false|false|false|false|false|false|false|false|false|false|false|false|false|false|   false|false|   false|false|false|false|false|false|false|false|      false|false|false|false|false|false|false|false|   false|false|false|false|false|false|false|false|false|false|false|false|false|false|false|   false|false|false|false|false|\n",
            "|1135039|2018-10-04 11:31:06|   false|       643|           57|11.280701754385966|        29|          4|       49|22156.285714285714|         7|false| false|false|false|   true|false|false|false|false|false|false|false|false|false|      false|false|false|false|false|false|false|false|false|   false|   false|false|false|   false|false|false|false|false|false|false|false|false|false|false|false|false|false|false|false|false|false|false|false|false|false|false|false|false|false|false|false|false|false|false|false|false|false|false|false| true|false|false|   false|false|   false|false|false|false|false|false|false|false|      false|false|false|false|false|false|false|false|   false|false|false|false|false|false|false|false|false|false|false|false|false|false|false|   false|false|false|false|false|\n",
            "+-------+-------------------+--------+----------+-------------+------------------+----------+-----------+---------+------------------+----------+-----+------+-----+-----+-------+-----+-----+-----+-----+-----+-----+-----+-----+-----+-----------+-----+-----+-----+-----+-----+-----+-----+-----+--------+--------+-----+-----+--------+-----+-----+-----+-----+-----+-----+-----+-----+-----+-----+-----+-----+-----+-----+-----+-----+-----+-----+-----+-----+-----+-----+-----+-----+-----+-----+-----+-----+-----+-----+-----+-----+-----+-----+-----+-----+-----+-----+--------+-----+--------+-----+-----+-----+-----+-----+-----+-----+-----------+-----+-----+-----+-----+-----+-----+-----+--------+-----+-----+-----+-----+-----+-----+-----+-----+-----+-----+-----+-----+-----+-----+--------+-----+-----+-----+-----+\n",
            "only showing top 5 rows\n",
            "\n"
          ],
          "name": "stdout"
        }
      ]
    },
    {
      "cell_type": "code",
      "metadata": {
        "id": "YJ9PfWUQrZBF"
      },
      "source": [
        "ml_df.write.parquet(\"/content/drive/MyDrive/datasets/dsnd-sparkify/ml_df.parquet\")"
      ],
      "execution_count": 60,
      "outputs": []
    },
    {
      "cell_type": "code",
      "metadata": {
        "id": "tEa7-YGgkj0G",
        "outputId": "e3ccfad7-6b9d-49be-bf73-098a0d33f98a",
        "colab": {
          "base_uri": "https://localhost:8080/"
        }
      },
      "source": [
        "test_df = spark.read.parquet(\"/content/drive/MyDrive/datasets/dsnd-sparkify/join_temp_5.parquet\")\r\n",
        "test_df.count()"
      ],
      "execution_count": 44,
      "outputs": [
        {
          "output_type": "execute_result",
          "data": {
            "text/plain": [
              "15135"
            ]
          },
          "metadata": {
            "tags": []
          },
          "execution_count": 44
        }
      ]
    },
    {
      "cell_type": "code",
      "metadata": {
        "id": "zshayHfxnKMv",
        "outputId": "e7e5b4c4-200a-4f63-99db-9331921ffd07",
        "colab": {
          "base_uri": "https://localhost:8080/"
        }
      },
      "source": [
        "test_df.where(reduce(lambda x, y: x | y, (F.col(x).isNull() for x in test_df.columns))) \\\r\n",
        "    .fillna(0) \\\r\n",
        "    .show(100)"
      ],
      "execution_count": 57,
      "outputs": [
        {
          "output_type": "stream",
          "text": [
            "+-------+-------------------+--------+----------+-------------+-------------------+----------+-----------+---------+------------------+----------+-----+------+-----+-----+-------+-----+-----+-----+-----+-----+-----+-----+-----+-----+-----------+-----+-----+-----+-----+-----+-----+-----+-----+--------+--------+-----+-----+--------+-----+-----+-----+-----+-----+-----+-----+-----+-----+-----+-----+-----+-----+-----+-----+-----+-----+-----+-----+-----+-----+-----+-----+-----+-----+-----+-----+-----+-----+-----+-----+-----+-----+-----+-----+-----+-----+-----+--------+-----+--------+-----+-----+-----+-----+-----+-----+-----+-----------+-----+-----+-----+-----+-----+-----+-----+--------+-----+-----+-----+-----+-----+-----+-----+-----+-----+-----+-----+-----+-----+-----+--------+-----+-----+-----+-----+\n",
            "| userId|              up_ts|is_churn|song_count|subs_duration|          song_rate|n_playlist|thumbs_down|thumbs_up|      avg_sess_len|sess_count| ipad|iphone|linux|macos|windows|   AK|   AL|   AR|AR-MO|AR-OK|   AZ|   CA|   CO|   CT|DC-VA-MD-WV|   DE|   FL|   GA|GA-AL|GA-SC|   HI|   IA|IA-IL|IA-IL-MO|IA-NE-SD|   ID|   IL|IL-IN-WI|IL-MO|   IN|IN-KY|IN-MI|   KS|   KY|KY-IL|KY-IN|   LA|   MA|MA-CT|MA-NH|   MD|MD-DE|MD-WV|   ME|   MI|MI-WI|   MN|MN-WI|   MO|MO-IL|MO-KS|   MS|MS-LA|   MT|   NC|NC-SC|   ND|ND-MN|   NE|NE-IA|   NH|NH-VT|   NJ|   NM|   NV|   NY|NY-NJ-PA|   OH|OH-KY-IN|OH-PA|   OK|   OR|OR-ID|OR-WA|   PA|PA-NJ|PA-NJ-DE-MD|RI-MA|   SC|SC-NC|   SD|   TN|TN-GA|TN-KY|TN-MS-AR|TN-VA|   TX|TX-AR|   UT|UT-ID|   VA|VA-NC|VA-WV|   VT|   WA|   WI|WI-MI|WI-MN|   WV|WV-KY-OH|WV-OH|WV-VA|   WY|WY-ID|\n",
            "+-------+-------------------+--------+----------+-------------+-------------------+----------+-----------+---------+------------------+----------+-----+------+-----+-----+-------+-----+-----+-----+-----+-----+-----+-----+-----+-----+-----------+-----+-----+-----+-----+-----+-----+-----+-----+--------+--------+-----+-----+--------+-----+-----+-----+-----+-----+-----+-----+-----+-----+-----+-----+-----+-----+-----+-----+-----+-----+-----+-----+-----+-----+-----+-----+-----+-----+-----+-----+-----+-----+-----+-----+-----+-----+-----+-----+-----+-----+-----+--------+-----+--------+-----+-----+-----+-----+-----+-----+-----+-----------+-----+-----+-----+-----+-----+-----+-----+--------+-----+-----+-----+-----+-----+-----+-----+-----+-----+-----+-----+-----+-----+-----+--------+-----+-----+-----+-----+\n",
            "|1185393|2018-11-02 23:58:07|   false|         3|           28|0.10714285714285714|         0|          0|        1|             784.0|         1|false| false|false| true|  false|false|false|false|false|false| true|false|false|false|      false|false|false|false|false|false|false|false|false|   false|   false|false|false|   false|false|false|false|false|false|false|false|false|false|false|false|false|false|false|false|false|false|false|false|false|false|false|false|false|false|false|false|false|false|false|false|false|false|false|false|false|false|false|   false|false|   false|false|false|false|false|false|false|false|      false|false|false|false|false|false|false|false|   false|false|false|false|false|false|false|false|false|false|false|false|false|false|false|   false|false|false|false|false|\n",
            "|1396645|2018-10-21 20:44:38|   false|       105|           40|              2.625|         1|          0|       12|            8772.0|         3|false| false|false| true|  false|false|false|false|false|false|false|false|false|false|      false|false| true|false|false|false|false|false|false|   false|   false|false|false|   false|false|false|false|false|false|false|false|false|false|false|false|false|false|false|false|false|false|false|false|false|false|false|false|false|false|false|false|false|false|false|false|false|false|false|false|false|false|false|   false|false|   false|false|false|false|false|false|false|false|      false|false|false|false|false|false|false|false|   false|false|false|false|false|false|false|false|false|false|false|false|false|false|false|   false|false|false|false|false|\n",
            "|1450388|2018-10-29 10:57:02|   false|        66|           32|             2.0625|         1|          0|        3|           16987.0|         1|false| false|false|false|   true|false|false|false|false|false|false|false|false|false|      false|false|false|false|false|false|false| true|false|   false|   false|false|false|   false|false|false|false|false|false|false|false|false|false|false|false|false|false|false|false|false|false|false|false|false|false|false|false|false|false|false|false|false|false|false|false|false|false|false|false|false|false|false|   false|false|   false|false|false|false|false|false|false|false|      false|false|false|false|false|false|false|false|   false|false|false|false|false|false|false|false|false|false|false|false|false|false|false|   false|false|false|false|false|\n",
            "|1691132|2018-11-18 16:27:51|   false|        85|           12|  7.083333333333333|         1|          0|        7|           21852.0|         1|false| false|false|false|   true|false|false|false|false|false|false|false|false|false|      false|false|false|false|false|false|false|false|false|   false|   false|false|false|   false|false|false|false|false|false|false|false|false|false|false|false|false|false|false|false|false|false|false|false|false|false|false|false|false|false|false|false|false|false|false|false|false|false|false|false|false|false|false|    true|false|   false|false|false|false|false|false|false|false|      false|false|false|false|false|false|false|false|   false|false|false|false|false|false|false|false|false|false|false|false|false|false|false|   false|false|false|false|false|\n",
            "|1732614|2018-10-31 11:37:00|   false|        71|           30| 2.3666666666666667|         2|          0|        2|           17516.0|         1|false| false|false|false|   true|false|false|false|false|false|false|false|false|false|      false|false|false|false|false|false|false|false|false|   false|   false|false|false|   false|false|false|false|false|false|false|false|false|false|false|false|false|false|false|false|false|false|false|false|false|false|false|false|false|false|false|false|false|false|false|false|false|false|false|false|false|false|false|   false|false|   false|false|false|false|false|false|false|false|      false|false|false|false|false|false|false|false|   false|false| true|false|false|false|false|false|false|false|false|false|false|false|false|   false|false|false|false|false|\n",
            "|1832978|2018-10-01 02:13:57|    true|        32|            0|               32.0|         1|          0|        2|            7397.0|         1|false| false|false|false|   true|false|false|false|false|false|false|false|false|false|      false|false|false|false|false|false|false|false|false|   false|   false|false|false|   false|false|false|false|false|false|false|false|false|false|false|false|false|false|false|false|false|false|false|false|false|false|false|false|false|false|false|false|false|false|false|false|false|false|false|false|false|false|false|   false|false|   false|false|false|false|false|false|false|false|      false|false|false|false|false|false|false|false|   false|false|false|false|false|false|false|false|false|false| true|false|false|false|false|   false|false|false|false|false|\n",
            "|1845801|2018-10-07 17:27:32|   false|        24|           54| 0.4444444444444444|         0|          0|        0|            2835.5|         2|false| false|false| true|  false|false|false|false|false|false|false|false|false|false|      false|false|false|false|false|false|false|false|false|   false|   false|false|false|   false|false|false|false|false|false|false|false|false|false|false|false|false|false|false|false|false|false|false|false|false|false|false|false|false|false|false|false|false|false|false|false|false|false|false|false|false|false|false|   false|false|   false|false|false|false|false|false|false|false|      false|false|false|false|false|false|false|false|   false|false|false|false| true|false|false|false|false|false|false|false|false|false|false|   false|false|false|false|false|\n",
            "|1008404|2018-11-09 01:26:42|   false|       133|           21|  6.333333333333333|         2|          0|        5|           34658.0|         1|false| false|false| true|  false|false|false|false|false|false|false|false|false|false|      false|false| true|false|false|false|false|false|false|   false|   false|false|false|   false|false|false|false|false|false|false|false|false|false|false|false|false|false|false|false|false|false|false|false|false|false|false|false|false|false|false|false|false|false|false|false|false|false|false|false|false|false|false|   false|false|   false|false|false|false|false|false|false|false|      false|false|false|false|false|false|false|false|   false|false|false|false|false|false|false|false|false|false|false|false|false|false|false|   false|false|false|false|false|\n",
            "|1109403|2018-11-15 10:32:23|    true|         9|            0|                9.0|         0|          0|        0|            2127.0|         1|false| false|false| true|  false|false|false|false|false|false|false|false|false|false|      false|false|false|false|false|false|false|false|false|   false|   false|false|false|   false|false|false|false|false|false|false|false|false|false|false|false|false|false|false|false|false|false|false|false|false|false|false|false|false|false|false|false|false|false|false|false|false|false|false|false|false|false|false|   false|false|   false|false|false|false|false|false|false|false|      false|false|false|false|false|false|false|false|   false|false| true|false|false|false|false|false|false|false|false|false|false|false|false|   false|false|false|false|false|\n",
            "|1136878|2018-11-14 22:45:04|   false|        14|           16|              0.875|         0|          0|        0|            3644.0|         1|false| false|false| true|  false|false|false|false|false|false|false|false|false|false|      false|false|false|false|false|false|false|false|false|   false|   false|false|false|   false|false|false|false|false|false|false|false|false|false|false|false|false|false|false|false|false|false|false|false|false|false|false|false|false|false|false|false|false|false|false|false|false|false|false|false|false|false|false|   false|false|   false|false|false|false|false|false|false|false|      false|false|false|false|false|false|false|false|   false|false| true|false|false|false|false|false|false|false|false|false|false|false|false|   false|false|false|false|false|\n",
            "|1147719|2018-11-14 00:58:11|   false|        67|           16|             4.1875|         0|          0|        2|           27651.0|         1|false| false|false|false|   true|false|false|false|false|false|false|false|false|false|      false|false|false|false|false|false|false|false|false|   false|   false|false|false|   false|false|false|false|false|false|false|false|false|false|false|false|false|false|false|false|false|false|false|false|false|false|false|false|false|false|false|false|false|false|false|false|false|false|false|false|false|false|false|   false|false|   false|false|false|false|false|false| true|false|      false|false|false|false|false|false|false|false|   false|false|false|false|false|false|false|false|false|false|false|false|false|false|false|   false|false|false|false|false|\n",
            "|1219096|2018-10-10 19:24:58|    true|         3|            0|                3.0|         0|          0|        0|             921.0|         1|false| false|false|false|   true|false|false|false|false|false|false|false|false|false|      false|false|false|false|false|false|false|false|false|   false|   false|false|false|   false|false|false|false|false|false|false|false|false|false|false|false|false|false|false|false|false|false|false|false|false|false|false|false|false|false|false|false|false|false|false|false|false|false|false|false|false|false| true|   false|false|   false|false|false|false|false|false|false|false|      false|false|false|false|false|false|false|false|   false|false|false|false|false|false|false|false|false|false|false|false|false|false|false|   false|false|false|false|false|\n",
            "|1279066|2018-11-02 15:17:59|   false|        26|           28| 0.9285714285714286|         0|          1|        1|            6854.0|         1|false| false|false|false|   true|false|false|false|false|false|false|false|false|false|      false|false| true|false|false|false|false|false|false|   false|   false|false|false|   false|false|false|false|false|false|false|false|false|false|false|false|false|false|false|false|false|false|false|false|false|false|false|false|false|false|false|false|false|false|false|false|false|false|false|false|false|false|false|   false|false|   false|false|false|false|false|false|false|false|      false|false|false|false|false|false|false|false|   false|false|false|false|false|false|false|false|false|false|false|false|false|false|false|   false|false|false|false|false|\n",
            "|1286627|2018-11-09 09:56:46|   false|        20|           21| 0.9523809523809523|         0|          1|        3|            2136.0|         2|false| false|false| true|  false|false|false|false|false|false|false|false|false|false|      false|false|false|false|false|false|false|false|false|   false|   false|false|false|   false|false|false|false|false|false|false|false|false|false|false|false|false| true|false|false|false|false|false|false|false|false|false|false|false|false|false|false|false|false|false|false|false|false|false|false|false|false|false|   false|false|   false|false|false|false|false|false|false|false|      false|false|false|false|false|false|false|false|   false|false|false|false|false|false|false|false|false|false|false|false|false|false|false|   false|false|false|false|false|\n",
            "|1475509|2018-10-14 17:34:40|   false|       158|           47| 3.3617021276595747|         4|          0|        5|13513.333333333334|         3|false| false|false|false|   true|false|false|false|false|false|false|false|false|false|      false|false|false|false|false|false|false|false|false|   false|   false|false|false|   false|false|false|false|false|false|false|false|false|false|false|false|false|false|false|false|false|false|false|false|false|false|false|false|false|false|false|false|false|false|false|false|false|false|false|false|false|false|false|   false|false|   false|false|false|false|false|false|false|false|      false|false|false|false|false|false|false|false|   false|false| true|false|false|false|false|false|false|false|false|false|false|false|false|   false|false|false|false|false|\n",
            "|1494979|2018-10-03 16:32:02|    true|        46|            0|               46.0|         2|          0|        2|           11453.0|         1|false| false|false| true|  false|false|false|false|false|false|false|false|false|false|      false|false|false|false|false|false|false|false|false|   false|   false|false|false|   false|false|false|false|false|false|false|false|false|false|false|false|false|false|false|false|false|false|false|false|false|false|false|false|false|false|false|false|false|false|false|false|false|false|false|false|false|false|false|   false|false|   false|false| true|false|false|false|false|false|      false|false|false|false|false|false|false|false|   false|false|false|false|false|false|false|false|false|false|false|false|false|false|false|   false|false|false|false|false|\n",
            "|1533373|2018-10-11 17:39:51|    true|        11|            0|               11.0|         0|          1|        1|            3642.0|         1|false| false|false| true|  false|false|false|false|false|false|false|false|false|false|      false|false|false|false|false|false|false|false|false|   false|   false|false|false|   false|false|false|false|false|false|false|false|false|false|false|false|false|false|false|false|false|false|false|false|false|false|false|false|false|false|false|false|false|false|false|false|false|false|false|false|false|false|false|   false|false|   false|false|false|false|false|false|false|false|      false|false|false|false|false|false|false|false|   false|false|false|false|false|false|false|false|false|false|false| true|false|false|false|   false|false|false|false|false|\n",
            "|1647128|2018-11-30 00:25:08|   false|         6|            0|                6.0|         1|          0|        1|            1903.0|         1|false| false|false| true|  false|false|false|false|false|false|false|false|false|false|      false|false|false|false|false|false|false|false|false|   false|   false|false|false|   false|false|false|false|false|false|false|false|false|false|false|false|false|false|false|false|false|false|false|false|false|false|false|false|false|false|false|false|false|false|false|false|false|false|false|false|false|false| true|   false|false|   false|false|false|false|false|false|false|false|      false|false|false|false|false|false|false|false|   false|false|false|false|false|false|false|false|false|false|false|false|false|false|false|   false|false|false|false|false|\n",
            "|1655856|2018-10-27 16:24:49|    true|         6|            0|                6.0|         0|          0|        0|            1650.0|         1|false| false|false|false|   true|false|false|false|false|false|false|false|false|false|       true|false|false|false|false|false|false|false|false|   false|   false|false|false|   false|false|false|false|false|false|false|false|false|false|false|false|false|false|false|false|false|false|false|false|false|false|false|false|false|false|false|false|false|false|false|false|false|false|false|false|false|false|false|   false|false|   false|false|false|false|false|false|false|false|      false|false|false|false|false|false|false|false|   false|false|false|false|false|false|false|false|false|false|false|false|false|false|false|   false|false|false|false|false|\n",
            "|1702009|2018-11-07 09:59:15|   false|        64|           23|  2.782608695652174|         0|          0|        4|           3711.25|         4|false| false|false| true|  false|false|false|false|false|false|false|false|false|false|      false|false|false|false|false|false|false|false|false|   false|   false|false|false|   false|false|false|false|false|false|false|false|false|false|false|false|false|false|false|false|false|false|false|false|false|false|false|false|false|false|false|false|false|false|false|false|false|false|false|false|false|false|false|   false|false|   false|false|false|false|false|false|false|false|      false|false|false|false|false|false|false|false|   false|false|false|false|false|false|false|false|false|false|false|false|false|false|false|    true|false|false|false|false|\n",
            "|1952122|2018-11-19 12:40:06|   false|        14|           11| 1.2727272727272727|         0|          0|        1|            3745.0|         1|false| false|false|false|   true|false|false|false|false|false|false|false|false|false|      false|false| true|false|false|false|false|false|false|   false|   false|false|false|   false|false|false|false|false|false|false|false|false|false|false|false|false|false|false|false|false|false|false|false|false|false|false|false|false|false|false|false|false|false|false|false|false|false|false|false|false|false|false|   false|false|   false|false|false|false|false|false|false|false|      false|false|false|false|false|false|false|false|   false|false|false|false|false|false|false|false|false|false|false|false|false|false|false|   false|false|false|false|false|\n",
            "|1020251|2018-11-04 15:44:36|    true|         1|            0|                1.0|         0|          0|        0|             674.0|         1|false| false|false|false|   true|false|false|false|false|false|false|false|false|false|      false|false|false|false|false|false|false|false|false|   false|   false|false|false|   false|false|false|false|false|false|false|false|false|false|false|false|false|false|false|false|false|false|false|false|false|false|false|false|false|false|false|false|false|false|false|false|false|false|false|false|false|false|false|    true|false|   false|false|false|false|false|false|false|false|      false|false|false|false|false|false|false|false|   false|false|false|false|false|false|false|false|false|false|false|false|false|false|false|   false|false|false|false|false|\n",
            "|1177536|2018-11-28 08:12:34|   false|        77|            2|               38.5|         0|          0|        2|            9652.0|         2|false| false|false| true|  false|false|false|false|false|false|false|false|false|false|      false|false|false|false|false|false|false|false|false|   false|   false|false|false|   false|false|false|false|false|false|false|false|false|false|false|false|false|false|false|false|false|false|false|false|false|false|false|false|false|false|false|false|false|false|false|false|false|false|false|false|false|false|false|   false|false|   false|false|false|false|false|false|false|false|      false|false|false|false|false|false|false|false|   false|false|false|false|false|false| true|false|false|false|false|false|false|false|false|   false|false|false|false|false|\n",
            "|1496375|2018-10-19 19:33:06|   false|        40|           42| 0.9523809523809523|         0|          0|        1|           10003.0|         1|false| false|false|false|   true|false|false|false|false|false|false|false| true|false|      false|false|false|false|false|false|false|false|false|   false|   false|false|false|   false|false|false|false|false|false|false|false|false|false|false|false|false|false|false|false|false|false|false|false|false|false|false|false|false|false|false|false|false|false|false|false|false|false|false|false|false|false|false|   false|false|   false|false|false|false|false|false|false|false|      false|false|false|false|false|false|false|false|   false|false|false|false|false|false|false|false|false|false|false|false|false|false|false|   false|false|false|false|false|\n",
            "|1560520|2018-11-30 04:33:19|   false|        76|            0|               76.0|         2|          0|        4|            9787.0|         2| true| false|false|false|  false|false|false|false|false|false|false|false|false|false|      false|false| true|false|false|false|false|false|false|   false|   false|false|false|   false|false|false|false|false|false|false|false|false|false|false|false|false|false|false|false|false|false|false|false|false|false|false|false|false|false|false|false|false|false|false|false|false|false|false|false|false|false|false|   false|false|   false|false|false|false|false|false|false|false|      false|false|false|false|false|false|false|false|   false|false|false|false|false|false|false|false|false|false|false|false|false|false|false|   false|false|false|false|false|\n",
            "|1607748|2018-11-08 18:37:01|   false|        75|           22|  3.409090909090909|         3|          0|        7|            6052.0|         3|false| false|false| true|  false|false|false|false|false|false|false|false|false|false|      false|false|false|false|false|false|false|false|false|   false|   false|false|false|   false|false|false|false|false|false|false|false|false|false|false|false|false|false|false|false|false|false|false|false|false|false|false|false|false|false|false|false|false|false|false|false|false|false|false|false|false|false|false|   false|false|   false|false|false|false|false| true|false|false|      false|false|false|false|false|false|false|false|   false|false|false|false|false|false|false|false|false|false|false|false|false|false|false|   false|false|false|false|false|\n",
            "|1675960|2018-11-27 07:13:45|   false|        11|            3| 3.6666666666666665|         1|          0|        2|            3211.0|         1|false| false|false|false|   true|false|false|false|false|false|false| true|false|false|      false|false|false|false|false|false|false|false|false|   false|   false|false|false|   false|false|false|false|false|false|false|false|false|false|false|false|false|false|false|false|false|false|false|false|false|false|false|false|false|false|false|false|false|false|false|false|false|false|false|false|false|false|false|   false|false|   false|false|false|false|false|false|false|false|      false|false|false|false|false|false|false|false|   false|false|false|false|false|false|false|false|false|false|false|false|false|false|false|   false|false|false|false|false|\n",
            "|1839740|2018-11-08 02:02:22|    true|        25|            0|               25.0|         0|          0|        0|            6287.0|         1|false| false| true|false|  false|false|false|false|false|false| true|false|false|false|      false|false|false|false|false|false|false|false|false|   false|   false|false|false|   false|false|false|false|false|false|false|false|false|false|false|false|false|false|false|false|false|false|false|false|false|false|false|false|false|false|false|false|false|false|false|false|false|false|false|false|false|false|false|   false|false|   false|false|false|false|false|false|false|false|      false|false|false|false|false|false|false|false|   false|false|false|false|false|false|false|false|false|false|false|false|false|false|false|   false|false|false|false|false|\n",
            "|1107228|2018-11-08 09:52:44|   false|       146|           22|  6.636363636363637|         6|          0|       16|12714.666666666666|         3|false| false|false|false|   true|false|false|false|false|false|false| true|false|false|      false|false|false|false|false|false|false|false|false|   false|   false|false|false|   false|false|false|false|false|false|false|false|false|false|false|false|false|false|false|false|false|false|false|false|false|false|false|false|false|false|false|false|false|false|false|false|false|false|false|false|false|false|false|   false|false|   false|false|false|false|false|false|false|false|      false|false|false|false|false|false|false|false|   false|false|false|false|false|false|false|false|false|false|false|false|false|false|false|   false|false|false|false|false|\n",
            "|1245066|2018-10-06 15:13:59|    true|       126|            2|               63.0|         4|          0|        6|           16764.5|         2|false| false|false|false|   true|false|false|false|false|false|false| true|false|false|      false|false|false|false|false|false|false|false|false|   false|   false|false|false|   false|false|false|false|false|false|false|false|false|false|false|false|false|false|false|false|false|false|false|false|false|false|false|false|false|false|false|false|false|false|false|false|false|false|false|false|false|false|false|   false|false|   false|false|false|false|false|false|false|false|      false|false|false|false|false|false|false|false|   false|false|false|false|false|false|false|false|false|false|false|false|false|false|false|   false|false|false|false|false|\n",
            "|1347326|2018-11-30 23:06:32|   false|        13|            0|               13.0|         1|          0|        0|            3074.0|         1|false| false|false|false|   true|false|false|false|false|false|false|false|false|false|      false|false|false|false|false|false|false|false|false|   false|   false|false|false|   false|false|false|false|false|false|false|false|false|false|false|false|false|false|false|false|false|false|false|false|false|false|false|false|false|false|false|false|false|false|false|false|false|false|false|false|false|false|false|   false|false|   false|false|false|false|false|false|false|false|      false|false|false|false|false|false|false|false|   false|false|false|false| true|false|false|false|false|false|false|false|false|false|false|   false|false|false|false|false|\n",
            "|1448554|2018-10-21 19:36:18|    true|        39|            0|               39.0|         1|          0|        0|            9618.0|         1|false| false|false|false|   true|false|false|false|false|false|false| true|false|false|      false|false|false|false|false|false|false|false|false|   false|   false|false|false|   false|false|false|false|false|false|false|false|false|false|false|false|false|false|false|false|false|false|false|false|false|false|false|false|false|false|false|false|false|false|false|false|false|false|false|false|false|false|false|   false|false|   false|false|false|false|false|false|false|false|      false|false|false|false|false|false|false|false|   false|false|false|false|false|false|false|false|false|false|false|false|false|false|false|   false|false|false|false|false|\n",
            "|1784330|2018-10-02 05:03:42|   false|        34|           59|  0.576271186440678|         0|          0|        0|            4135.0|         2|false| false|false| true|  false|false|false|false|false|false|false|false|false|false|      false|false|false|false|false|false|false|false|false|   false|   false|false|false|   false|false|false|false|false|false|false|false|false|false|false|false|false|false|false|false|false|false|false|false|false|false|false|false|false|false|false|false|false|false|false|false|false|false|false|false|false|false|false|   false|false|   false|false|false|false|false|false|false|false|      false|false|false|false|false|false|false|false|   false|false|false|false|false|false|false|false|false|false| true|false|false|false|false|   false|false|false|false|false|\n",
            "|1866097|2018-10-21 01:14:35|    true|       201|           24|              8.375|         2|          0|        6|18090.333333333332|         3|false| false|false| true|  false|false|false|false|false|false|false|false|false|false|      false|false|false|false|false|false|false|false|false|   false|   false|false|false|   false|false| true|false|false|false|false|false|false|false|false|false|false|false|false|false|false|false|false|false|false|false|false|false|false|false|false|false|false|false|false|false|false|false|false|false|false|false|false|   false|false|   false|false|false|false|false|false|false|false|      false|false|false|false|false|false|false|false|   false|false|false|false|false|false|false|false|false|false|false|false|false|false|false|   false|false|false|false|false|\n",
            "|1915640|2018-11-24 16:01:22|   false|        18|            6|                3.0|         0|          0|        0|            2270.0|         2|false| false|false|false|   true|false|false|false|false|false|false|false|false|false|      false|false|false|false|false|false|false|false|false|   false|   false|false|false|   false|false|false|false|false|false|false|false|false|false|false|false|false|false|false|false|false|false|false|false|false|false|false|false|false|false|false|false|false|false|false|false|false|false|false|false|false|false|false|   false|false|   false|false|false|false|false|false|false|false|      false|false|false|false|false|false|false|false|   false|false| true|false|false|false|false|false|false|false|false|false|false|false|false|   false|false|false|false|false|\n",
            "|1137209|2018-10-03 14:42:08|    true|        12|            2|                6.0|         0|          0|        1|            1399.5|         2|false| false|false| true|  false|false|false|false|false|false|false|false|false|false|      false|false|false|false|false|false|false|false|false|   false|   false|false|false|   false|false|false|false|false|false|false|false|false|false|false|false|false|false|false|false|false|false|false|false|false|false|false|false|false|false|false|false|false|false|false|false|false|false|false|false|false|false|false|   false|false|   false|false|false|false|false|false|false|false|      false|false|false|false|false|false|false|false|   false|false| true|false|false|false|false|false|false|false|false|false|false|false|false|   false|false|false|false|false|\n",
            "|1293975|2018-11-14 10:16:37|   false|       297|           16|            18.5625|         7|          0|       11|           12163.5|         6|false| false|false|false|   true|false|false|false|false|false|false|false|false|false|      false|false|false|false|false|false|false|false|false|   false|   false|false|false|   false|false|false|false|false|false|false|false|false|false|false|false|false|false|false|false|false|false|false|false|false|false|false|false|false|false|false|false|false|false|false|false|false|false|false|false|false|false|false|    true|false|   false|false|false|false|false|false|false|false|      false|false|false|false|false|false|false|false|   false|false|false|false|false|false|false|false|false|false|false|false|false|false|false|   false|false|false|false|false|\n",
            "|1523836|2018-11-01 12:04:22|   false|       143|           29|  4.931034482758621|         3|          0|        7|           17130.5|         2|false| false|false|false|   true|false|false|false|false|false|false|false| true|false|      false|false|false|false|false|false|false|false|false|   false|   false|false|false|   false|false|false|false|false|false|false|false|false|false|false|false|false|false|false|false|false|false|false|false|false|false|false|false|false|false|false|false|false|false|false|false|false|false|false|false|false|false|false|   false|false|   false|false|false|false|false|false|false|false|      false|false|false|false|false|false|false|false|   false|false|false|false|false|false|false|false|false|false|false|false|false|false|false|   false|false|false|false|false|\n",
            "|1540261|2018-10-04 00:40:48|   false|        24|           57|0.42105263157894735|         0|          0|        2|            6509.0|         1|false| false| true|false|  false|false|false|false|false|false| true|false|false|false|      false|false|false|false|false|false|false|false|false|   false|   false|false|false|   false|false|false|false|false|false|false|false|false|false|false|false|false|false|false|false|false|false|false|false|false|false|false|false|false|false|false|false|false|false|false|false|false|false|false|false|false|false|false|   false|false|   false|false|false|false|false|false|false|false|      false|false|false|false|false|false|false|false|   false|false|false|false|false|false|false|false|false|false|false|false|false|false|false|   false|false|false|false|false|\n",
            "|1554983|2018-10-22 08:39:11|    true|       225|            5|               45.0|         4|          0|       10|           13362.5|         4|false| false|false| true|  false|false|false|false|false|false|false|false|false|false|      false|false|false|false|false|false|false|false|false|   false|   false|false|false|   false|false|false|false|false|false|false|false|false|false|false|false|false|false|false|false|false|false|false|false|false|false|false|false|false|false|false|false|false|false|false|false|false|false|false|false|false|false|false|   false|false|   false|false|false|false|false|false|false|false|      false|false|false|false|false|false|false|false|   false|false|false|false|false|false|false|false|false|false|false| true|false|false|false|   false|false|false|false|false|\n",
            "|1563848|2018-11-10 00:06:10|   false|       341|           20|              17.05|        12|          0|       23|28330.333333333332|         3|false| false|false|false|   true|false|false|false|false|false|false|false|false|false|      false|false|false|false|false|false|false|false|false|   false|   false|false|false|   false|false|false|false|false|false|false|false|false|false|false|false|false|false|false|false|false|false|false|false|false|false|false|false|false|false|false|false|false|false|false|false|false|false|false|false|false|false|false|   false|false|   false|false|false| true|false|false|false|false|      false|false|false|false|false|false|false|false|   false|false|false|false|false|false|false|false|false|false|false|false|false|false|false|   false|false|false|false|false|\n",
            "|1565829|2018-10-23 11:16:26|   false|       109|           38| 2.8684210526315788|         3|          0|        4|           26707.0|         1|false| false|false| true|  false|false|false|false|false|false|false|false|false|false|      false|false|false|false|false|false|false|false|false|   false|   false|false|false|   false|false|false|false|false|false|false|false|false|false|false|false|false|false|false|false|false|false|false|false|false|false|false|false|false|false|false|false|false|false|false|false|false|false|false|false| true|false|false|   false|false|   false|false|false|false|false|false|false|false|      false|false|false|false|false|false|false|false|   false|false|false|false|false|false|false|false|false|false|false|false|false|false|false|   false|false|false|false|false|\n",
            "|1663319|2018-11-14 09:53:30|   false|       107|           16|             6.6875|         4|          0|       11|           12866.5|         2|false| false|false|false|   true|false|false|false|false|false|false|false|false|false|      false|false|false|false|false|false|false|false|false|   false|   false|false|false|   false|false|false|false|false|false|false|false|false|false|false|false|false|false|false|false|false|false|false|false|false|false| true|false|false|false|false|false|false|false|false|false|false|false|false|false|false|false|false|   false|false|   false|false|false|false|false|false|false|false|      false|false|false|false|false|false|false|false|   false|false|false|false|false|false|false|false|false|false|false|false|false|false|false|   false|false|false|false|false|\n",
            "|1774651|2018-10-09 18:34:36|    true|       402|            8|              50.25|         9|          0|       39|16206.666666666666|         6|false| false|false|false|   true|false|false|false|false|false|false|false|false|false|      false|false|false|false|false|false|false|false|false|   false|   false|false|false|   false|false|false|false|false|false|false|false|false|false|false|false|false|false|false|false|false|false|false|false|false|false|false|false|false|false|false|false|false|false|false|false|false|false|false|false|false|false|false|   false|false|   false|false|false|false|false|false|false|false|      false|false|false|false|false|false|false|false|   false|false|false|false|false|false|false|false|false|false| true|false|false|false|false|   false|false|false|false|false|\n",
            "|1882951|2018-10-03 17:58:22|    true|        52|            0|               52.0|         0|          1|        1|           13596.0|         1|false| false|false|false|   true|false|false|false|false|false|false|false|false|false|      false|false| true|false|false|false|false|false|false|   false|   false|false|false|   false|false|false|false|false|false|false|false|false|false|false|false|false|false|false|false|false|false|false|false|false|false|false|false|false|false|false|false|false|false|false|false|false|false|false|false|false|false|false|   false|false|   false|false|false|false|false|false|false|false|      false|false|false|false|false|false|false|false|   false|false|false|false|false|false|false|false|false|false|false|false|false|false|false|   false|false|false|false|false|\n",
            "|1992172|2018-11-01 14:43:44|    true|       300|            4|               75.0|         8|          0|       20|           14538.2|         5|false| false|false| true|  false|false|false|false|false|false|false|false|false|false|      false|false|false|false|false|false|false|false|false|   false|   false|false|false|   false|false|false|false|false|false|false|false|false|false|false|false|false|false|false|false|false|false|false|false|false|false|false|false|false|false|false|false|false|false|false|false|false|false|false|false|false|false|false|   false|false|   false|false|false|false|false|false|false|false|      false|false|false|false|false|false|false|false|   false|false| true|false|false|false|false|false|false|false|false|false|false|false|false|   false|false|false|false|false|\n",
            "|1064274|2018-11-18 13:01:22|    true|       318|            6|               53.0|         6|          0|       15|           26276.0|         3|false| false|false| true|  false|false|false|false|false|false|false|false|false|false|      false|false|false|false|false|false|false|false|false|   false|   false|false|false|   false|false|false|false|false|false|false|false|false|false|false|false|false|false|false|false|false|false|false|false|false|false|false|false|false|false|false|false|false|false|false|false|false|false|false|false|false|false|false|    true|false|   false|false|false|false|false|false|false|false|      false|false|false|false|false|false|false|false|   false|false|false|false|false|false|false|false|false|false|false|false|false|false|false|   false|false|false|false|false|\n",
            "|1123262|2018-10-10 16:25:30|    true|        38|            0|               38.0|         2|          0|        1|            9307.0|         1|false| false|false|false|   true|false|false|false|false|false|false|false|false|false|      false|false|false|false|false|false|false|false|false|   false|   false|false|false|   false|false| true|false|false|false|false|false|false|false|false|false|false|false|false|false|false|false|false|false|false|false|false|false|false|false|false|false|false|false|false|false|false|false|false|false|false|false|false|   false|false|   false|false|false|false|false|false|false|false|      false|false|false|false|false|false|false|false|   false|false|false|false|false|false|false|false|false|false|false|false|false|false|false|   false|false|false|false|false|\n",
            "|1204687|2018-10-05 19:13:36|    true|        60|            0|               60.0|         1|          0|        0|           14913.0|         1| true| false|false|false|  false|false|false|false|false|false|false|false|false|false|      false|false|false|false|false|false|false|false|false|   false|   false|false|false|   false|false|false|false|false|false|false|false|false|false|false|false|false|false|false|false|false|false|false|false|false|false|false|false|false|false|false|false|false|false|false|false|false|false|false|false|false|false|false|   false|false|   false|false|false|false|false|false| true|false|      false|false|false|false|false|false|false|false|   false|false|false|false|false|false|false|false|false|false|false|false|false|false|false|   false|false|false|false|false|\n",
            "|1211528|2018-10-10 23:40:22|    true|       240|            5|               48.0|         5|          0|        7|           30141.5|         2|false| false|false| true|  false|false|false|false|false|false|false|false|false|false|      false|false|false|false|false|false|false|false|false|   false|   false|false|false|   false|false|false|false|false|false|false|false|false|false|false|false|false|false|false|false|false|false|false|false|false|false|false|false|false|false|false| true|false|false|false|false|false|false|false|false|false|false|false|   false|false|   false|false|false|false|false|false|false|false|      false|false|false|false|false|false|false|false|   false|false|false|false|false|false|false|false|false|false|false|false|false|false|false|   false|false|false|false|false|\n",
            "|1381135|2018-10-12 13:09:19|    true|       121|            1|              121.0|         5|          0|        5|           10094.0|         3|false| false|false|false|   true|false|false|false|false|false|false|false|false|false|      false|false|false|false|false|false|false|false|false|   false|   false|false|false|   false|false|false|false|false|false|false|false|false|false|false|false|false|false|false|false|false|false|false|false|false|false|false|false|false|false|false|false|false|false|false|false|false|false|false|false|false|false|false|    true|false|   false|false|false|false|false|false|false|false|      false|false|false|false|false|false|false|false|   false|false|false|false|false|false|false|false|false|false|false|false|false|false|false|   false|false|false|false|false|\n",
            "|1651782|2018-11-06 08:58:18|   false|        49|           24| 2.0416666666666665|         2|          0|        4|           11968.0|         1|false|  true|false|false|  false|false|false|false|false|false|false|false|false|false|      false|false|false|false|false|false|false|false|false|   false|   false|false|false|   false|false|false|false|false|false|false|false|false|false|false|false|false|false|false|false|false|false|false|false|false|false|false|false|false|false|false|false|false|false|false|false|false|false|false|false|false|false|false|   false|false|   false|false|false|false|false|false|false|false|      false|false|false|false|false|false|false|false|   false|false| true|false|false|false|false|false|false|false|false|false|false|false|false|   false|false|false|false|false|\n",
            "|1750273|2018-10-07 08:30:21|    true|        45|            0|               45.0|         3|          0|        4|            5267.5|         2|false| false|false| true|  false|false|false|false|false|false|false|false|false|false|      false|false|false|false|false|false|false|false|false|   false|   false|false|false|   false|false|false|false|false|false|false|false|false|false|false|false|false|false|false|false|false|false|false|false|false|false|false|false|false|false|false|false|false|false|false|false|false|false|false|false|false|false|false|   false| true|   false|false|false|false|false|false|false|false|      false|false|false|false|false|false|false|false|   false|false|false|false|false|false|false|false|false|false|false|false|false|false|false|   false|false|false|false|false|\n",
            "|1986801|2018-11-28 01:08:22|   false|         8|            2|                4.0|         0|          0|        0|            2106.0|         1|false| false| true|false|  false|false|false|false|false|false|false|false|false|false|      false|false|false|false|false|false|false|false|false|   false|    true|false|false|   false|false|false|false|false|false|false|false|false|false|false|false|false|false|false|false|false|false|false|false|false|false|false|false|false|false|false|false|false|false|false|false|false|false|false|false|false|false|false|   false|false|   false|false|false|false|false|false|false|false|      false|false|false|false|false|false|false|false|   false|false|false|false|false|false|false|false|false|false|false|false|false|false|false|   false|false|false|false|false|\n",
            "|1172272|2018-10-12 04:12:03|    true|        23|            4|               5.75|         3|          0|        1|            2886.5|         2|false| false|false| true|  false|false|false|false|false|false|false|false| true|false|      false|false|false|false|false|false|false|false|false|   false|   false|false|false|   false|false|false|false|false|false|false|false|false|false|false|false|false|false|false|false|false|false|false|false|false|false|false|false|false|false|false|false|false|false|false|false|false|false|false|false|false|false|false|   false|false|   false|false|false|false|false|false|false|false|      false|false|false|false|false|false|false|false|   false|false|false|false|false|false|false|false|false|false|false|false|false|false|false|   false|false|false|false|false|\n",
            "|1271403|2018-10-09 07:29:10|    true|       179|            2|               89.5|         5|          0|       12|           23196.5|         2|false| false|false|false|   true|false|false|false|false|false|false|false|false|false|      false|false|false|false|false|false|false|false|false|   false|   false|false|false|   false|false|false|false|false|false|false|false|false|false|false|false|false|false|false|false|false|false|false|false|false|false|false|false|false|false|false|false|false|false|false|false|false|false|false|false|false|false|false|   false|false|   false|false|false|false|false|false|false|false|      false|false|false|false|false|false|false|false|   false|false| true|false|false|false|false|false|false|false|false|false|false|false|false|   false|false|false|false|false|\n",
            "|1347828|2018-11-20 06:14:44|   false|       148|           10|               14.8|         2|          0|       10|12301.666666666666|         3|false| false|false|false|   true|false|false|false|false|false|false|false|false|false|      false|false|false|false|false|false|false|false|false|   false|   false|false|false|   false|false|false|false|false|false|false|false|false|false|false|false|false|false|false|false|false|false|false|false|false|false|false|false|false|false|false|false|false|false|false|false|false|false|false|false|false|false|false|   false|false|   false|false|false|false|false|false|false|false|      false|false|false|false|false|false|false|false|   false|false| true|false|false|false|false|false|false|false|false|false|false|false|false|   false|false|false|false|false|\n",
            "|1349792|2018-11-07 03:10:10|   false|        26|           23| 1.1304347826086956|         0|          0|        1|            6677.0|         1|false| false|false|false|   true|false|false|false|false|false|false|false|false|false|      false|false|false|false|false|false|false|false|false|   false|   false|false|false|   false|false|false|false|false|false|false|false|false|false|false|false|false|false|false|false|false|false|false|false|false|false|false|false|false|false|false|false|false|false|false|false|false|false|false|false|false|false|false|   false|false|   false|false|false|false|false|false|false|false|       true|false|false|false|false|false|false|false|   false|false|false|false|false|false|false|false|false|false|false|false|false|false|false|   false|false|false|false|false|\n",
            "|1400740|2018-11-01 05:23:59|   false|       161|           29|  5.551724137931035|         4|          0|       13|13267.666666666666|         3|false| false|false| true|  false|false|false|false|false|false|false|false|false|false|      false|false|false|false|false|false|false|false|false|   false|   false|false|false|   false|false|false|false|false|false|false|false|false|false|false|false|false|false|false|false|false|false|false|false|false|false|false|false|false|false|false|false|false|false|false|false|false|false|false|false|false|false|false|   false|false|   false|false|false|false|false|false| true|false|      false|false|false|false|false|false|false|false|   false|false|false|false|false|false|false|false|false|false|false|false|false|false|false|   false|false|false|false|false|\n",
            "|1409786|2018-10-22 05:06:56|   false|        29|           39| 0.7435897435897436|         2|          0|        1|            7691.0|         1|false| false|false|false|   true|false|false|false|false|false|false|false|false|false|      false|false| true|false|false|false|false|false|false|   false|   false|false|false|   false|false|false|false|false|false|false|false|false|false|false|false|false|false|false|false|false|false|false|false|false|false|false|false|false|false|false|false|false|false|false|false|false|false|false|false|false|false|false|   false|false|   false|false|false|false|false|false|false|false|      false|false|false|false|false|false|false|false|   false|false|false|false|false|false|false|false|false|false|false|false|false|false|false|   false|false|false|false|false|\n",
            "|1624025|2018-10-18 12:55:40|    true|        95|            0|               95.0|         3|          0|        3|           22380.0|         1|false| false|false|false|   true|false|false|false|false|false|false|false|false|false|      false|false|false|false|false|false|false|false|false|   false|   false|false|false|   false|false|false|false|false|false|false|false|false|false|false|false|false|false|false|false|false|false|false|false|false|false|false|false|false|false|false|false|false|false|false|false|false|false|false|false|false|false|false|   false|false|   false|false|false|false|false|false|false|false|      false|false|false|false|false|false|false|false|    true|false|false|false|false|false|false|false|false|false|false|false|false|false|false|   false|false|false|false|false|\n",
            "|1639204|2018-11-19 18:01:45|   false|        92|           11|  8.363636363636363|         2|          0|        8|           11792.5|         2|false|  true|false|false|  false|false|false|false|false|false|false| true|false|false|      false|false|false|false|false|false|false|false|false|   false|   false|false|false|   false|false|false|false|false|false|false|false|false|false|false|false|false|false|false|false|false|false|false|false|false|false|false|false|false|false|false|false|false|false|false|false|false|false|false|false|false|false|false|   false|false|   false|false|false|false|false|false|false|false|      false|false|false|false|false|false|false|false|   false|false|false|false|false|false|false|false|false|false|false|false|false|false|false|   false|false|false|false|false|\n",
            "|1960704|2018-11-20 06:02:52|   false|        24|           10|                2.4|         0|          0|        0|            2823.5|         2|false| false|false|false|   true|false|false|false|false|false|false|false|false|false|      false|false|false|false|false|false|false|false|false|   false|   false|false|false|   false|false|false|false|false|false|false|false|false|false|false|false|false|false|false|false|false|false|false|false|false|false|false|false|false|false|false|false|false|false|false|false|false|false|false|false|false|false|false|   false|false|   false|false|false|false|false|false|false|false|      false|false|false|false|false|false|false|false|   false|false|false|false|false|false|false|false|false|false| true|false|false|false|false|   false|false|false|false|false|\n",
            "|1140162|2018-10-02 14:24:22|   false|       160|           59|  2.711864406779661|         5|          0|        5|           58736.0|         1|false| false|false| true|  false|false|false|false|false|false|false|false|false|false|      false|false|false|false|false|false|false|false|false|   false|   false|false|false|   false|false|false|false|false|false|false|false|false|false|false| true|false|false|false|false|false|false|false|false|false|false|false|false|false|false|false|false|false|false|false|false|false|false|false|false|false|false|false|   false|false|   false|false|false|false|false|false|false|false|      false|false|false|false|false|false|false|false|   false|false|false|false|false|false|false|false|false|false|false|false|false|false|false|   false|false|false|false|false|\n",
            "|1311336|2018-11-29 18:56:38|   false|         8|            1|                8.0|         0|          0|        2|            1856.0|         1|false| false|false|false|   true|false|false|false|false|false|false|false|false|false|       true|false|false|false|false|false|false|false|false|   false|   false|false|false|   false|false|false|false|false|false|false|false|false|false|false|false|false|false|false|false|false|false|false|false|false|false|false|false|false|false|false|false|false|false|false|false|false|false|false|false|false|false|false|   false|false|   false|false|false|false|false|false|false|false|      false|false|false|false|false|false|false|false|   false|false|false|false|false|false|false|false|false|false|false|false|false|false|false|   false|false|false|false|false|\n",
            "|1316215|2018-11-27 07:40:07|   false|        27|            3|                9.0|         0|          0|        2|            6468.0|         1|false| false|false|false|   true|false|false|false|false|false|false|false|false|false|      false|false|false|false|false|false|false|false|false|   false|   false|false|false|   false|false|false|false|false|false|false|false|false|false|false|false|false|false|false|false|false|false|false|false|false|false|false|false|false|false|false|false|false|false|false|false|false|false|false|false|false|false|false|   false|false|   false|false|false|false|false|false|false|false|      false|false|false|false|false|false|false|false|   false|false| true|false|false|false|false|false|false|false|false|false|false|false|false|   false|false|false|false|false|\n",
            "|1335330|2018-11-26 15:00:33|   false|         3|            4|               0.75|         0|          0|        0|            1108.0|         1|false| false|false|false|   true|false|false|false|false|false|false|false|false|false|      false|false|false|false|false|false|false|false|false|   false|   false|false|false|   false|false|false|false|false|false|false|false|false|false|false|false|false|false|false|false|false|false|false|false|false|false|false|false|false|false|false|false|false|false|false|false|false|false|false|false|false|false|false|   false|false|   false|false|false|false|false|false|false|false|      false|false|false|false|false| true|false|false|   false|false|false|false|false|false|false|false|false|false|false|false|false|false|false|   false|false|false|false|false|\n",
            "|1465522|2018-10-23 19:50:36|   false|        29|           38| 0.7631578947368421|         1|          0|        5|            6922.0|         1|false| false|false| true|  false|false|false|false|false|false|false|false|false|false|      false|false|false|false|false|false|false|false|false|   false|   false|false|false|   false|false|false|false|false|false|false|false|false|false|false|false|false|false|false|false|false| true|false|false|false|false|false|false|false|false|false|false|false|false|false|false|false|false|false|false|false|false|false|   false|false|   false|false|false|false|false|false|false|false|      false|false|false|false|false|false|false|false|   false|false|false|false|false|false|false|false|false|false|false|false|false|false|false|   false|false|false|false|false|\n",
            "|1701168|2018-11-29 17:33:41|   false|        13|            1|               13.0|         0|          0|        0|            3146.0|         1|false| false|false|false|   true|false|false|false|false|false|false|false|false|false|      false|false|false|false|false|false|false|false|false|   false|   false|false|false|   false|false|false|false|false|false|false|false|false|false|false|false|false|false|false|false|false|false|false|false|false|false|false|false|false|false|false|false|false|false|false|false|false|false|false|false|false|false|false|   false|false|   false|false|false|false|false|false|false|false|      false|false|false|false|false|false|false|false|   false|false|false|false|false|false|false|false|false|false|false| true|false|false|false|   false|false|false|false|false|\n",
            "|1215705|2018-10-09 17:09:05|   false|       295|           52|  5.673076923076923|        11|          0|       20|           18022.0|         4|false| false|false|false|   true|false|false|false|false|false|false| true|false|false|      false|false|false|false|false|false|false|false|false|   false|   false|false|false|   false|false|false|false|false|false|false|false|false|false|false|false|false|false|false|false|false|false|false|false|false|false|false|false|false|false|false|false|false|false|false|false|false|false|false|false|false|false|false|   false|false|   false|false|false|false|false|false|false|false|      false|false|false|false|false|false|false|false|   false|false|false|false|false|false|false|false|false|false|false|false|false|false|false|   false|false|false|false|false|\n",
            "|1240184|2018-10-29 09:03:23|    true|       221|            2|              110.5|         9|          0|       14|           12952.0|         4|false| false| true|false|  false|false|false|false|false|false|false|false|false|false|       true|false|false|false|false|false|false|false|false|   false|   false|false|false|   false|false|false|false|false|false|false|false|false|false|false|false|false|false|false|false|false|false|false|false|false|false|false|false|false|false|false|false|false|false|false|false|false|false|false|false|false|false|false|   false|false|   false|false|false|false|false|false|false|false|      false|false|false|false|false|false|false|false|   false|false|false|false|false|false|false|false|false|false|false|false|false|false|false|   false|false|false|false|false|\n",
            "|1287039|2018-10-06 15:51:26|    true|         4|            0|                4.0|         0|          0|        0|             976.0|         1| true| false|false|false|  false|false|false|false|false|false|false|false|false|false|      false|false|false|false|false|false|false|false|false|   false|   false|false|false|   false|false|false|false|false|false|false|false|false|false|false|false|false|false|false|false|false|false|false|false|false|false|false|false|false|false|false|false|false|false|false|false|false|false|false|false|false|false|false|    true|false|   false|false|false|false|false|false|false|false|      false|false|false|false|false|false|false|false|   false|false|false|false|false|false|false|false|false|false|false|false|false|false|false|   false|false|false|false|false|\n",
            "|1554488|2018-11-02 05:51:57|   false|        64|           28| 2.2857142857142856|         2|          0|        7|           16688.0|         1|false| false|false|false|   true|false|false|false|false|false|false|false|false|false|      false|false|false|false|false|false|false|false|false|   false|   false|false|false|   false|false|false|false|false|false|false|false|false|false|false|false|false|false|false|false|false|false|false|false|false|false|false|false|false|false|false|false|false|false|false|false|false|false|false|false|false|false|false|    true|false|   false|false|false|false|false|false|false|false|      false|false|false|false|false|false|false|false|   false|false|false|false|false|false|false|false|false|false|false|false|false|false|false|   false|false|false|false|false|\n",
            "|1710322|2018-10-04 07:47:13|   false|        24|           57|0.42105263157894735|         1|          0|        2|            5842.0|         1|false| false|false| true|  false|false|false|false|false|false|false|false|false|false|      false|false|false|false|false|false|false|false|false|   false|   false|false|false|   false|false|false|false|false|false|false|false|false|false|false|false|false|false|false|false|false|false|false|false|false|false|false|false|false|false|false|false|false|false|false|false|false|false|false|false|false|false|false|   false|false|   false|false|false|false|false|false|false|false|      false|false| true|false|false|false|false|false|   false|false|false|false|false|false|false|false|false|false|false|false|false|false|false|   false|false|false|false|false|\n",
            "|1933975|2018-10-25 14:44:47|    true|       124|            3| 41.333333333333336|         5|          0|        9|           15262.0|         2|false| false|false|false|   true|false|false|false|false|false|false|false|false|false|      false|false|false|false|false|false|false|false|false|   false|   false|false|false|   false|false|false|false|false|false|false|false|false|false|false|false|false|false|false|false|false|false|false|false|false|false|false|false|false|false|false|false|false|false|false|false|false|false|false|false|false|false|false|   false|false|   false|false|false|false|false|false|false|false|       true|false|false|false|false|false|false|false|   false|false|false|false|false|false|false|false|false|false|false|false|false|false|false|   false|false|false|false|false|\n",
            "|1102605|2018-11-25 02:02:32|   false|         6|            5|                1.2|         0|          0|        0|            1635.0|         1|false| false|false| true|  false|false|false|false|false|false|false|false|false|false|      false|false|false|false|false|false|false|false|false|   false|   false|false|false|   false|false|false|false|false|false|false|false|false|false|false|false|false|false|false|false|false|false|false|false|false|false|false|false|false|false|false|false|false|false|false|false|false|false|false|false|false|false|false|    true|false|   false|false|false|false|false|false|false|false|      false|false|false|false|false|false|false|false|   false|false|false|false|false|false|false|false|false|false|false|false|false|false|false|   false|false|false|false|false|\n",
            "|1113870|2018-11-13 14:30:41|   false|        21|           17| 1.2352941176470589|         0|          1|        1|            4894.0|         1|false| false|false|false|   true|false|false|false|false|false|false|false|false|false|      false|false|false|false|false|false|false|false|false|   false|   false|false|false|   false|false|false|false|false|false|false|false|false|false|false|false|false|false|false|false|false| true|false|false|false|false|false|false|false|false|false|false|false|false|false|false|false|false|false|false|false|false|false|   false|false|   false|false|false|false|false|false|false|false|      false|false|false|false|false|false|false|false|   false|false|false|false|false|false|false|false|false|false|false|false|false|false|false|   false|false|false|false|false|\n",
            "|1381165|2018-10-04 18:42:42|   false|        47|           57| 0.8245614035087719|         2|          0|        3|           12056.0|         1|false| false| true|false|  false|false|false|false|false|false|false|false|false|false|      false|false|false|false|false|false|false|false|false|   false|   false|false|false|   false|false|false|false|false|false|false|false|false|false|false|false|false|false|false|false|false|false|false|false|false|false|false|false|false|false|false|false|false|false|false|false|false|false|false|false|false|false|false|   false|false|   false|false|false|false|false|false|false|false|       true|false|false|false|false|false|false|false|   false|false|false|false|false|false|false|false|false|false|false|false|false|false|false|   false|false|false|false|false|\n",
            "|1469832|2018-11-26 15:33:36|   false|         3|            4|               0.75|         0|          0|        1|            1008.0|         1|false| false|false|false|   true|false|false|false|false|false|false|false|false|false|      false|false|false|false|false|false|false|false|false|   false|   false|false|false|   false|false|false|false|false|false|false|false|false|false|false|false|false|false|false|false|false| true|false|false|false|false|false|false|false|false|false|false|false|false|false|false|false|false|false|false|false|false|false|   false|false|   false|false|false|false|false|false|false|false|      false|false|false|false|false|false|false|false|   false|false|false|false|false|false|false|false|false|false|false|false|false|false|false|   false|false|false|false|false|\n",
            "|1778331|2018-11-14 00:43:04|   false|       121|           16|             7.5625|         0|          1|        8|           15068.5|         2|false| false|false|false|   true|false|false|false|false|false|false|false|false|false|      false|false|false|false|false|false|false|false|false|   false|   false|false|false|   false|false|false|false|false|false|false|false|false|false|false|false|false|false|false|false|false| true|false|false|false|false|false|false|false|false|false|false|false|false|false|false|false|false|false|false|false|false|false|   false|false|   false|false|false|false|false|false|false|false|      false|false|false|false|false|false|false|false|   false|false|false|false|false|false|false|false|false|false|false|false|false|false|false|   false|false|false|false|false|\n",
            "|1805553|2018-10-14 04:24:17|   false|        93|           47| 1.9787234042553192|         2|          0|       10|           6115.75|         4|false| false|false| true|  false|false|false|false|false|false|false|false|false|false|      false|false| true|false|false|false|false|false|false|   false|   false|false|false|   false|false|false|false|false|false|false|false|false|false|false|false|false|false|false|false|false|false|false|false|false|false|false|false|false|false|false|false|false|false|false|false|false|false|false|false|false|false|false|   false|false|   false|false|false|false|false|false|false|false|      false|false|false|false|false|false|false|false|   false|false|false|false|false|false|false|false|false|false|false|false|false|false|false|   false|false|false|false|false|\n",
            "|1140645|2018-11-13 04:47:47|   false|       455|           17| 26.764705882352942|        19|          0|       23|           16139.0|         7|false| false|false| true|  false|false|false|false|false|false|false|false|false|false|      false|false|false|false|false|false|false|false|false|   false|   false|false|false|   false|false|false|false|false|false|false|false|false|false|false|false|false|false|false|false|false|false|false|false|false|false|false|false|false|false|false|false|false|false|false|false|false|false|false|false|false|false|false|   false|false|   false|false|false|false|false|false|false|false|      false|false| true|false|false|false|false|false|   false|false|false|false|false|false|false|false|false|false|false|false|false|false|false|   false|false|false|false|false|\n",
            "|1147425|2018-10-09 04:47:49|   false|        65|           52|               1.25|         0|          2|        4|            5211.0|         3|false| false|false|false|   true|false|false|false|false|false|false|false|false|false|      false|false| true|false|false|false|false|false|false|   false|   false|false|false|   false|false|false|false|false|false|false|false|false|false|false|false|false|false|false|false|false|false|false|false|false|false|false|false|false|false|false|false|false|false|false|false|false|false|false|false|false|false|false|   false|false|   false|false|false|false|false|false|false|false|      false|false|false|false|false|false|false|false|   false|false|false|false|false|false|false|false|false|false|false|false|false|false|false|   false|false|false|false|false|\n",
            "|1214934|2018-11-13 20:37:42|   false|        15|           17| 0.8823529411764706|         0|          0|        1|            4731.0|         1|false| false|false|false|   true|false|false|false|false|false|false| true|false|false|      false|false|false|false|false|false|false|false|false|   false|   false|false|false|   false|false|false|false|false|false|false|false|false|false|false|false|false|false|false|false|false|false|false|false|false|false|false|false|false|false|false|false|false|false|false|false|false|false|false|false|false|false|false|   false|false|   false|false|false|false|false|false|false|false|      false|false|false|false|false|false|false|false|   false|false|false|false|false|false|false|false|false|false|false|false|false|false|false|   false|false|false|false|false|\n",
            "|1455708|2018-11-13 00:20:26|   false|        49|           17| 2.8823529411764706|         1|          0|        1|           11980.0|         1|false| false|false| true|  false|false|false|false|false|false|false|false|false|false|      false|false|false|false|false|false|false|false|false|   false|   false|false|false|   false|false|false|false|false|false|false|false|false|false|false|false|false|false|false|false|false|false|false|false|false|false|false|false|false|false|false|false|false|false|false|false|false|false|false|false|false|false|false|   false|false|   false|false|false|false|false|false|false|false|      false|false|false|false|false|false|false|false|   false|false| true|false|false|false|false|false|false|false|false|false|false|false|false|   false|false|false|false|false|\n",
            "|1585155|2018-11-18 21:25:54|   false|        76|           12|  6.333333333333333|         4|          0|        1|           18842.0|         1|false| false|false| true|  false|false|false|false|false|false|false|false|false|false|      false|false|false|false|false|false|false|false|false|   false|   false|false|false|   false|false|false|false|false|false|false|false|false|false|false|false|false|false|false|false|false|false|false|false|false|false|false|false|false|false|false|false|false|false|false|false|false|false|false|false|false|false|false|   false|false|   false|false|false|false|false|false|false|false|      false|false|false|false|false|false|false|false|   false|false| true|false|false|false|false|false|false|false|false|false|false|false|false|   false|false|false|false|false|\n",
            "|1711406|2018-11-24 01:46:29|   false|       108|            6|               18.0|         4|          0|        5|           9429.75|         4|false| false|false| true|  false|false|false|false|false|false|false| true|false|false|      false|false|false|false|false|false|false|false|false|   false|   false|false|false|   false|false|false|false|false|false|false|false|false|false|false|false|false|false|false|false|false|false|false|false|false|false|false|false|false|false|false|false|false|false|false|false|false|false|false|false|false|false|false|   false|false|   false|false|false|false|false|false|false|false|      false|false|false|false|false|false|false|false|   false|false|false|false|false|false|false|false|false|false|false|false|false|false|false|   false|false|false|false|false|\n",
            "|1719132|2018-11-09 08:52:05|   false|        21|           21|                1.0|         0|          1|        1|            2540.5|         2|false| false|false|false|   true|false|false|false|false|false|false|false|false|false|      false|false|false|false|false|false|false|false|false|   false|   false|false|false|   false|false|false|false|false|false|false|false|false|false|false|false|false|false|false|false|false|false|false|false|false|false|false|false|false|false|false|false|false|false|false|false|false|false|false|false|false|false|false|   false| true|   false|false|false|false|false|false|false|false|      false|false|false|false|false|false|false|false|   false|false|false|false|false|false|false|false|false|false|false|false|false|false|false|   false|false|false|false|false|\n",
            "|1840812|2018-11-30 11:24:44|   false|        20|            0|               20.0|         0|          0|        1|            5129.0|         1|false| false|false|false|   true|false|false|false|false|false|false|false|false|false|      false|false|false|false|false|false|false|false|false|   false|   false|false|false|   false|false|false|false|false|false|false|false|false|false|false|false|false|false|false|false|false|false|false|false|false|false|false|false|false|false|false|false|false|false|false|false|false|false|false|false|false|false|false|   false|false|   false|false|false|false|false|false| true|false|      false|false|false|false|false|false|false|false|   false|false|false|false|false|false|false|false|false|false|false|false|false|false|false|   false|false|false|false|false|\n",
            "|1010493|2018-11-02 16:22:27|   false|        14|           28|                0.5|         0|          0|        3|            3610.0|         1|false| false|false|false|   true|false|false|false|false|false|false|false|false|false|      false|false|false|false|false|false|false|false|false|   false|   false|false|false|   false|false|false|false|false|false|false|false|false|false|false|false|false|false|false|false|false|false|false|false|false|false|false|false|false|false|false| true|false|false|false|false|false|false|false|false|false|false|false|   false|false|   false|false|false|false|false|false|false|false|      false|false|false|false|false|false|false|false|   false|false|false|false|false|false|false|false|false|false|false|false|false|false|false|   false|false|false|false|false|\n",
            "|1061454|2018-10-17 07:06:48|   false|        19|           44| 0.4318181818181818|         1|          0|        0|            5986.0|         1|false| false|false| true|  false|false|false|false|false|false|false|false|false|false|      false|false| true|false|false|false|false|false|false|   false|   false|false|false|   false|false|false|false|false|false|false|false|false|false|false|false|false|false|false|false|false|false|false|false|false|false|false|false|false|false|false|false|false|false|false|false|false|false|false|false|false|false|false|   false|false|   false|false|false|false|false|false|false|false|      false|false|false|false|false|false|false|false|   false|false|false|false|false|false|false|false|false|false|false|false|false|false|false|   false|false|false|false|false|\n",
            "|1330922|2018-11-27 15:10:48|   false|       110|            3| 36.666666666666664|         0|          1|        4| 8252.666666666666|         3|false| false|false| true|  false|false|false|false|false|false|false|false|false|false|      false|false|false|false|false|false|false|false|false|   false|   false|false|false|   false|false|false|false|false|false|false|false|false|false|false|false|false|false|false|false|false|false|false|false|false|false|false|false|false|false|false|false|false|false|false|false|false|false|false|false|false|false|false|   false|false|   false|false| true|false|false|false|false|false|      false|false|false|false|false|false|false|false|   false|false|false|false|false|false|false|false|false|false|false|false|false|false|false|   false|false|false|false|false|\n",
            "|1528376|2018-11-27 13:40:02|   false|       102|            3|               34.0|         4|          0|        4|           12459.0|         2|false| false|false| true|  false|false|false|false|false|false|false|false|false|false|       true|false|false|false|false|false|false|false|false|   false|   false|false|false|   false|false|false|false|false|false|false|false|false|false|false|false|false|false|false|false|false|false|false|false|false|false|false|false|false|false|false|false|false|false|false|false|false|false|false|false|false|false|false|   false|false|   false|false|false|false|false|false|false|false|      false|false|false|false|false|false|false|false|   false|false|false|false|false|false|false|false|false|false|false|false|false|false|false|   false|false|false|false|false|\n",
            "|1543189|2018-11-09 17:13:01|    true|         7|            0|                7.0|         0|          0|        0|            1906.0|         1|false| false|false|false|   true|false|false|false|false|false|false|false|false|false|      false|false|false|false|false|false|false|false|false|   false|   false|false|false|   false|false|false|false|false|false|false|false|false|false|false|false|false|false|false|false|false|false|false|false|false|false|false|false|false|false|false|false|false|false|false|false|false|false|false|false|false|false|false|   false|false|   false|false|false|false|false|false| true|false|      false|false|false|false|false|false|false|false|   false|false|false|false|false|false|false|false|false|false|false|false|false|false|false|   false|false|false|false|false|\n",
            "|1565726|2018-11-28 20:10:50|   false|       139|            2|               69.5|         5|          0|        8|           16821.5|         2|false| false|false|false|   true|false|false|false|false|false|false|false|false|false|       true|false|false|false|false|false|false|false|false|   false|   false|false|false|   false|false|false|false|false|false|false|false|false|false|false|false|false|false|false|false|false|false|false|false|false|false|false|false|false|false|false|false|false|false|false|false|false|false|false|false|false|false|false|   false|false|   false|false|false|false|false|false|false|false|      false|false|false|false|false|false|false|false|   false|false|false|false|false|false|false|false|false|false|false|false|false|false|false|   false|false|false|false|false|\n",
            "|1757280|2018-10-09 22:33:55|   false|        55|           52| 1.0576923076923077|         0|          1|        2|            7205.5|         2|false| false|false| true|  false|false|false|false|false|false|false|false|false|false|      false|false|false| true|false|false|false|false|false|   false|   false|false|false|   false|false|false|false|false|false|false|false|false|false|false|false|false|false|false|false|false|false|false|false|false|false|false|false|false|false|false|false|false|false|false|false|false|false|false|false|false|false|false|   false|false|   false|false|false|false|false|false|false|false|      false|false|false|false|false|false|false|false|   false|false|false|false|false|false|false|false|false|false|false|false|false|false|false|   false|false|false|false|false|\n",
            "|1780928|2018-11-07 15:06:48|   false|        60|           23|  2.608695652173913|         2|          0|        2|            6932.5|         2|false| false|false|false|   true|false|false|false|false|false|false|false|false|false|      false|false|false|false|false|false|false|false|false|   false|   false|false|false|   false|false|false|false|false|false|false|false|false|false|false|false|false|false|false|false|false|false|false|false|false| true|false|false|false|false|false|false|false|false|false|false|false|false|false|false|false|false|false|   false|false|   false|false|false|false|false|false|false|false|      false|false|false|false|false|false|false|false|   false|false|false|false|false|false|false|false|false|false|false|false|false|false|false|   false|false|false|false|false|\n",
            "|1837814|2018-11-23 12:31:56|   false|         0|            0|                0.0|         0|          0|        0|             283.0|         1|false| false|false| true|  false|false|false|false|false|false|false|false|false|false|      false|false|false|false|false|false|false|false|false|   false|   false|false|false|   false|false|false|false|false|false|false|false|false|false|false|false|false|false|false|false|false|false|false|false|false|false|false|false|false|false|false|false|false|false|false|false|false|false|false|false|false|false|false|   false|false|   false|false|false|false|false|false| true|false|      false|false|false|false|false|false|false|false|   false|false|false|false|false|false|false|false|false|false|false|false|false|false|false|   false|false|false|false|false|\n",
            "|1122327|2018-11-30 13:42:51|   false|         3|            0|                3.0|         0|          0|        1|             726.0|         1|false| false|false|false|   true|false|false|false|false|false|false|false|false|false|      false|false|false|false|false|false|false|false|false|   false|   false|false|false|   false|false|false|false|false|false|false|false|false|false|false|false|false|false|false|false|false|false|false|false|false|false|false|false|false|false| true|false|false|false|false|false|false|false|false|false|false|false|false|   false|false|   false|false|false|false|false|false|false|false|      false|false|false|false|false|false|false|false|   false|false|false|false|false|false|false|false|false|false|false|false|false|false|false|   false|false|false|false|false|\n",
            "|1181437|2018-11-01 01:19:52|   false|       187|           29|  6.448275862068965|         3|          0|        7|          11530.25|         4|false| false|false| true|  false|false|false|false|false|false|false|false|false|false|       true|false|false|false|false|false|false|false|false|   false|   false|false|false|   false|false|false|false|false|false|false|false|false|false|false|false|false|false|false|false|false|false|false|false|false|false|false|false|false|false|false|false|false|false|false|false|false|false|false|false|false|false|false|   false|false|   false|false|false|false|false|false|false|false|      false|false|false|false|false|false|false|false|   false|false|false|false|false|false|false|false|false|false|false|false|false|false|false|   false|false|false|false|false|\n",
            "+-------+-------------------+--------+----------+-------------+-------------------+----------+-----------+---------+------------------+----------+-----+------+-----+-----+-------+-----+-----+-----+-----+-----+-----+-----+-----+-----+-----------+-----+-----+-----+-----+-----+-----+-----+-----+--------+--------+-----+-----+--------+-----+-----+-----+-----+-----+-----+-----+-----+-----+-----+-----+-----+-----+-----+-----+-----+-----+-----+-----+-----+-----+-----+-----+-----+-----+-----+-----+-----+-----+-----+-----+-----+-----+-----+-----+-----+-----+-----+--------+-----+--------+-----+-----+-----+-----+-----+-----+-----+-----------+-----+-----+-----+-----+-----+-----+-----+--------+-----+-----+-----+-----+-----+-----+-----+-----+-----+-----+-----+-----+-----+-----+--------+-----+-----+-----+-----+\n",
            "only showing top 100 rows\n",
            "\n"
          ],
          "name": "stdout"
        }
      ]
    }
  ]
}