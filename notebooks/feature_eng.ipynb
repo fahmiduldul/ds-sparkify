{
  "nbformat": 4,
  "nbformat_minor": 0,
  "metadata": {
    "kernelspec": {
      "display_name": "Python 3",
      "language": "python",
      "name": "python3"
    },
    "language_info": {
      "codemirror_mode": {
        "name": "ipython",
        "version": 3
      },
      "file_extension": ".py",
      "mimetype": "text/x-python",
      "name": "python",
      "nbconvert_exporter": "python",
      "pygments_lexer": "ipython3",
      "version": "3.8.8"
    },
    "colab": {
      "name": "feature_eng.ipynb",
      "provenance": []
    }
  },
  "cells": [
    {
      "cell_type": "code",
      "metadata": {
        "colab": {
          "base_uri": "https://localhost:8080/"
        },
        "id": "tnMpp_lsyLv-",
        "outputId": "86e75481-4d8d-44aa-dd0c-94dac49da172"
      },
      "source": [
        "!pip install pyspark"
      ],
      "execution_count": 1,
      "outputs": [
        {
          "output_type": "stream",
          "text": [
            "Collecting pyspark\n",
            "\u001b[?25l  Downloading https://files.pythonhosted.org/packages/45/b0/9d6860891ab14a39d4bddf80ba26ce51c2f9dc4805e5c6978ac0472c120a/pyspark-3.1.1.tar.gz (212.3MB)\n",
            "\u001b[K     |████████████████████████████████| 212.3MB 75kB/s \n",
            "\u001b[?25hCollecting py4j==0.10.9\n",
            "\u001b[?25l  Downloading https://files.pythonhosted.org/packages/9e/b6/6a4fb90cd235dc8e265a6a2067f2a2c99f0d91787f06aca4bcf7c23f3f80/py4j-0.10.9-py2.py3-none-any.whl (198kB)\n",
            "\u001b[K     |████████████████████████████████| 204kB 21.4MB/s \n",
            "\u001b[?25hBuilding wheels for collected packages: pyspark\n",
            "  Building wheel for pyspark (setup.py) ... \u001b[?25l\u001b[?25hdone\n",
            "  Created wheel for pyspark: filename=pyspark-3.1.1-py2.py3-none-any.whl size=212767604 sha256=faf90ec7117657f247edf466e3cb5a4b48cd3836382aa0ac11b0a9f5995a2608\n",
            "  Stored in directory: /root/.cache/pip/wheels/0b/90/c0/01de724414ef122bd05f056541fb6a0ecf47c7ca655f8b3c0f\n",
            "Successfully built pyspark\n",
            "Installing collected packages: py4j, pyspark\n",
            "Successfully installed py4j-0.10.9 pyspark-3.1.1\n"
          ],
          "name": "stdout"
        }
      ]
    },
    {
      "cell_type": "code",
      "metadata": {
        "colab": {
          "base_uri": "https://localhost:8080/"
        },
        "id": "aeKTM2Z2yOpX",
        "outputId": "44d16a3d-f375-4315-d906-cdbf28488c28"
      },
      "source": [
        "from google.colab import drive\r\n",
        "drive.mount('/content/drive')"
      ],
      "execution_count": 2,
      "outputs": [
        {
          "output_type": "stream",
          "text": [
            "Mounted at /content/drive\n"
          ],
          "name": "stdout"
        }
      ]
    },
    {
      "cell_type": "code",
      "metadata": {
        "id": "4WdL_IhUyD5y"
      },
      "source": [
        "from pyspark.sql import SparkSession\n",
        "import pyspark.sql.functions as F\n",
        "import pyspark.sql.types as T"
      ],
      "execution_count": 3,
      "outputs": []
    },
    {
      "cell_type": "code",
      "metadata": {
        "id": "6s9TVbfzyD59"
      },
      "source": [
        "spark = SparkSession.builder.appName('sparkify') \\\n",
        "    .config('spark.driver.maxResultSize', '3g') \\\n",
        "    .getOrCreate()"
      ],
      "execution_count": 4,
      "outputs": []
    },
    {
      "cell_type": "code",
      "metadata": {
        "colab": {
          "base_uri": "https://localhost:8080/"
        },
        "id": "n_VrHOvlyD5-",
        "outputId": "15760f31-44c4-40f0-856d-76e6916d9525"
      },
      "source": [
        "df = spark.read.parquet(\"/content/drive/MyDrive/datasets/dsnd-sparkify/event_labeled.parquet\")\n",
        "df = df.drop('userIdTemp')\n",
        "df.printSchema()"
      ],
      "execution_count": 5,
      "outputs": [
        {
          "output_type": "stream",
          "text": [
            "root\n",
            " |-- userId: string (nullable = true)\n",
            " |-- up_ts: timestamp (nullable = true)\n",
            " |-- down_ts: string (nullable = true)\n",
            " |-- isChurn: boolean (nullable = true)\n",
            " |-- artist: string (nullable = true)\n",
            " |-- auth: string (nullable = true)\n",
            " |-- firstName: string (nullable = true)\n",
            " |-- gender: string (nullable = true)\n",
            " |-- itemInSession: long (nullable = true)\n",
            " |-- lastName: string (nullable = true)\n",
            " |-- length: double (nullable = true)\n",
            " |-- level: string (nullable = true)\n",
            " |-- location: string (nullable = true)\n",
            " |-- method: string (nullable = true)\n",
            " |-- page: string (nullable = true)\n",
            " |-- registration: long (nullable = true)\n",
            " |-- sessionId: long (nullable = true)\n",
            " |-- song: string (nullable = true)\n",
            " |-- status: long (nullable = true)\n",
            " |-- userAgent: string (nullable = true)\n",
            " |-- ts: timestamp (nullable = true)\n",
            "\n"
          ],
          "name": "stdout"
        }
      ]
    },
    {
      "cell_type": "code",
      "metadata": {
        "id": "e83sWn9dyD6A"
      },
      "source": [
        "def change_colname_join_df(join_df, suffix='_temp'):\n",
        "    '''\n",
        "    INPUT:\n",
        "    join_df - dataframe on the right side of join\n",
        "    suffix - added string on each column name\n",
        "\n",
        "    OUTPUT:\n",
        "    res_df - dataframe with renamed column\n",
        "    '''\n",
        "    res_df = join_df\n",
        "    for col_name in join_df.columns:\n",
        "        res_df = res_df.withColumnRenamed(col_name, col_name + suffix)\n",
        "    \n",
        "    return res_df\n",
        "\n",
        "def chain_and(df1, df2, cols, suffix=\"_temp\"):\n",
        "    for i, col in enumerate(cols):\n",
        "        if i == 0:\n",
        "            res = df1[col] == df2[col + suffix]\n",
        "        else:\n",
        "            res = res & (df1[col] == df2[col + suffix])\n",
        "    \n",
        "    return res\n",
        "\n",
        "# def quick_left_join(df1, dfs, key_cols):\n",
        "#     res_df = df1\n",
        "\n",
        "#     for df_temp in dfs:\n",
        "#         res_df.join"
      ],
      "execution_count": 85,
      "outputs": []
    },
    {
      "cell_type": "code",
      "metadata": {
        "id": "Da4D-oDCSX7R",
        "outputId": "3e48d50d-9e77-4122-a7f7-25fb362aa08f",
        "colab": {
          "base_uri": "https://localhost:8080/"
        }
      },
      "source": [
        "jdf = change_colname_join_df(n_songs_play_df)\r\n",
        "df.limit(50).join(jdf, chain_and(df, jdf, [\"userId\", \"up_ts\"])).show()"
      ],
      "execution_count": 87,
      "outputs": [
        {
          "output_type": "stream",
          "text": [
            "+-------+-------------------+-------------------+-------+--------------------+---------+---------+------+-------------+--------+---------+-----+--------------------+------+---------------+-------------+---------+--------------------+------+--------------------+-------------------+-----------+-------------------+------------+\n",
            "| userId|              up_ts|            down_ts|isChurn|              artist|     auth|firstName|gender|itemInSession|lastName|   length|level|            location|method|           page| registration|sessionId|                song|status|           userAgent|                 ts|userId_temp|         up_ts_temp|n_songs_temp|\n",
            "+-------+-------------------+-------------------+-------+--------------------+---------+---------+------+-------------+--------+---------+-----+--------------------+------+---------------+-------------+---------+--------------------+------+--------------------+-------------------+-----------+-------------------+------------+\n",
            "|1006381|2018-10-30 03:31:46|2099-12-31 00:00:00|  false|Teenage Bottlerocket|Logged In|    Avery|     F|           47|   Silva|136.46322| paid|Los Angeles-Long ...|   PUT|       NextSong|1535765605000|   140489|They Came From Th...|   200|\"Mozilla/5.0 (Mac...|2018-10-31 12:13:42|    1006381|2018-10-30 03:31:46|         238|\n",
            "|1006381|2018-10-30 03:31:46|2099-12-31 00:00:00|  false|          Nickelback|Logged In|    Avery|     F|           46|   Silva|224.13016| paid|Los Angeles-Long ...|   PUT|       NextSong|1535765605000|   140489|   How You Remind Me|   200|\"Mozilla/5.0 (Mac...|2018-10-31 12:09:58|    1006381|2018-10-30 03:31:46|         238|\n",
            "|1006381|2018-10-30 03:31:46|2099-12-31 00:00:00|  false|         Deborah Cox|Logged In|    Avery|     F|           45|   Silva|254.45832| paid|Los Angeles-Long ...|   PUT|       NextSong|1535765605000|   140489|Nobody's Supposed...|   200|\"Mozilla/5.0 (Mac...|2018-10-31 12:05:44|    1006381|2018-10-30 03:31:46|         238|\n",
            "|1006381|2018-10-30 03:31:46|2099-12-31 00:00:00|  false|         Josh Turner|Logged In|    Avery|     F|           44|   Silva|199.28771| paid|Los Angeles-Long ...|   PUT|       NextSong|1535765605000|   140489|         All Over Me|   200|\"Mozilla/5.0 (Mac...|2018-10-31 12:02:25|    1006381|2018-10-30 03:31:46|         238|\n",
            "|1006381|2018-10-30 03:31:46|2099-12-31 00:00:00|  false|            The Call|Logged In|    Avery|     F|           43|   Silva| 331.2322| paid|Los Angeles-Long ...|   PUT|       NextSong|1535765605000|   140489|I Still Believe (...|   200|\"Mozilla/5.0 (Mac...|2018-10-31 11:56:54|    1006381|2018-10-30 03:31:46|         238|\n",
            "|1006381|2018-10-30 03:31:46|2099-12-31 00:00:00|  false|                null|Logged In|    Avery|     F|           42|   Silva|     null| paid|Los Angeles-Long ...|   PUT|Add to Playlist|1535765605000|   140489|                null|   200|\"Mozilla/5.0 (Mac...|2018-10-31 11:53:34|    1006381|2018-10-30 03:31:46|         238|\n",
            "|1006381|2018-10-30 03:31:46|2099-12-31 00:00:00|  false|              Madcon|Logged In|    Avery|     F|           41|   Silva|215.92771| paid|Los Angeles-Long ...|   PUT|       NextSong|1535765605000|   140489|             Beggin'|   200|\"Mozilla/5.0 (Mac...|2018-10-31 11:53:19|    1006381|2018-10-30 03:31:46|         238|\n",
            "|1006381|2018-10-30 03:31:46|2099-12-31 00:00:00|  false|      Okkervil River|Logged In|    Avery|     F|           40|   Silva|240.19546| paid|Los Angeles-Long ...|   PUT|       NextSong|1535765605000|   140489|       Dead Dog Song|   200|\"Mozilla/5.0 (Mac...|2018-10-31 11:49:19|    1006381|2018-10-30 03:31:46|         238|\n",
            "|1006381|2018-10-30 03:31:46|2099-12-31 00:00:00|  false|            Bon Iver|Logged In|    Avery|     F|           39|   Silva|218.98404| paid|Los Angeles-Long ...|   PUT|       NextSong|1535765605000|   140489|               Flume|   200|\"Mozilla/5.0 (Mac...|2018-10-31 11:45:41|    1006381|2018-10-30 03:31:46|         238|\n",
            "|1006381|2018-10-30 03:31:46|2099-12-31 00:00:00|  false|           Jake Hess|Logged In|    Avery|     F|           38|   Silva|199.26159| paid|Los Angeles-Long ...|   PUT|       NextSong|1535765605000|   140489|    You And Me Jesus|   200|\"Mozilla/5.0 (Mac...|2018-10-31 11:42:22|    1006381|2018-10-30 03:31:46|         238|\n",
            "|1006381|2018-10-30 03:31:46|2099-12-31 00:00:00|  false|                null|Logged In|    Avery|     F|           37|   Silva|     null| paid|Los Angeles-Long ...|   PUT|      Thumbs Up|1535765605000|   140489|                null|   307|\"Mozilla/5.0 (Mac...|2018-10-31 11:37:34|    1006381|2018-10-30 03:31:46|         238|\n",
            "|1006381|2018-10-30 03:31:46|2099-12-31 00:00:00|  false|    Devendra Banhart|Logged In|    Avery|     F|           36|   Silva|289.35791| paid|Los Angeles-Long ...|   PUT|       NextSong|1535765605000|   140489|          Carmensita|   200|\"Mozilla/5.0 (Mac...|2018-10-31 11:37:33|    1006381|2018-10-30 03:31:46|         238|\n",
            "|1006381|2018-10-30 03:31:46|2099-12-31 00:00:00|  false|         Descendents|Logged In|    Avery|     F|           35|   Silva|183.90159| paid|Los Angeles-Long ...|   PUT|       NextSong|1535765605000|   140489|               Cheer|   200|\"Mozilla/5.0 (Mac...|2018-10-31 11:34:30|    1006381|2018-10-30 03:31:46|         238|\n",
            "|1006381|2018-10-30 03:31:46|2099-12-31 00:00:00|  false|          Rick James|Logged In|    Avery|     F|           34|   Silva|207.01995| paid|Los Angeles-Long ...|   PUT|       NextSong|1535765605000|   140489|         Super Freak|   200|\"Mozilla/5.0 (Mac...|2018-10-31 11:31:03|    1006381|2018-10-30 03:31:46|         238|\n",
            "|1006381|2018-10-30 03:31:46|2099-12-31 00:00:00|  false|        Serj Tankian|Logged In|    Avery|     F|           33|   Silva|229.95546| paid|Los Angeles-Long ...|   PUT|       NextSong|1535765605000|   140489|Empty Walls (Albu...|   200|\"Mozilla/5.0 (Mac...|2018-10-31 11:27:14|    1006381|2018-10-30 03:31:46|         238|\n",
            "|1006381|2018-10-30 03:31:46|2099-12-31 00:00:00|  false|             Kirinji|Logged In|    Avery|     F|           32|   Silva|335.04608| paid|Los Angeles-Long ...|   PUT|       NextSong|1535765605000|   140489|          Ai no Coda|   200|\"Mozilla/5.0 (Mac...|2018-10-31 11:21:39|    1006381|2018-10-30 03:31:46|         238|\n",
            "|1006381|2018-10-30 03:31:46|2099-12-31 00:00:00|  false|             Stacy Q|Logged In|    Avery|     F|           31|   Silva|295.73179| paid|Los Angeles-Long ...|   PUT|       NextSong|1535765605000|   140489|       Two of hearts|   200|\"Mozilla/5.0 (Mac...|2018-10-31 11:16:44|    1006381|2018-10-30 03:31:46|         238|\n",
            "|1006381|2018-10-30 03:31:46|2099-12-31 00:00:00|  false|          Tab Benoit|Logged In|    Avery|     F|           30|   Silva|221.09995| paid|Los Angeles-Long ...|   PUT|       NextSong|1535765605000|   140489|           Jambalaya|   200|\"Mozilla/5.0 (Mac...|2018-10-31 11:13:03|    1006381|2018-10-30 03:31:46|         238|\n",
            "|1006381|2018-10-30 03:31:46|2099-12-31 00:00:00|  false|  Shakespears Sister|Logged In|    Avery|     F|           29|   Silva|215.77098| paid|Los Angeles-Long ...|   PUT|       NextSong|1535765605000|   140489|             Waiting|   200|\"Mozilla/5.0 (Mac...|2018-10-31 11:09:28|    1006381|2018-10-30 03:31:46|         238|\n",
            "|1006381|2018-10-30 03:31:46|2099-12-31 00:00:00|  false|  Southside Spinners|Logged In|    Avery|     F|           28|   Silva|269.40036| paid|Los Angeles-Long ...|   PUT|       NextSong|1535765605000|   140489|           Luvstruck|   200|\"Mozilla/5.0 (Mac...|2018-10-31 11:04:59|    1006381|2018-10-30 03:31:46|         238|\n",
            "+-------+-------------------+-------------------+-------+--------------------+---------+---------+------+-------------+--------+---------+-----+--------------------+------+---------------+-------------+---------+--------------------+------+--------------------+-------------------+-----------+-------------------+------------+\n",
            "only showing top 20 rows\n",
            "\n"
          ],
          "name": "stdout"
        }
      ]
    },
    {
      "cell_type": "code",
      "metadata": {
        "id": "EnTwBKVTQbzR",
        "outputId": "4e58a5e1-3de7-48b3-c083-d54d86495ae3",
        "colab": {
          "base_uri": "https://localhost:8080/"
        }
      },
      "source": [
        "for i, col in enumerate([\"userId\", \"ts\"]):\r\n",
        "    if i == 0:\r\n",
        "        r = df[col] == df[col]\r\n",
        "    else:\r\n",
        "        r = r & (df[\"ts\"] == df[\"ts\"])\r\n",
        "\r\n",
        "r "
      ],
      "execution_count": 77,
      "outputs": [
        {
          "output_type": "execute_result",
          "data": {
            "text/plain": [
              "Column<'((userId = userId) AND (ts = ts))'>"
            ]
          },
          "metadata": {
            "tags": []
          },
          "execution_count": 77
        }
      ]
    },
    {
      "cell_type": "code",
      "metadata": {
        "colab": {
          "base_uri": "https://localhost:8080/"
        },
        "id": "Iv_yZM1WyD6A",
        "outputId": "dbc99bd3-0120-4e3f-9892-f7550598aa8a"
      },
      "source": [
        "# number of song heard in one subscription\n",
        "n_songs_play_df = df.filter(df.page == \"NextSong\").groupBy([\"userId\", \"up_ts\"]).count().withColumnRenamed(\"count\", \"n_songs\")\n",
        "n_songs_play_df.show(5)"
      ],
      "execution_count": 65,
      "outputs": [
        {
          "output_type": "stream",
          "text": [
            "+-------+-------------------+-------+\n",
            "| userId|              up_ts|n_songs|\n",
            "+-------+-------------------+-------+\n",
            "|1367536|2018-10-08 14:58:27|   1806|\n",
            "|1322258|2018-10-08 23:28:14|    997|\n",
            "|1554972|2018-11-19 21:16:01|    472|\n",
            "|1655008|2018-10-25 06:50:45|    234|\n",
            "|1968237|2018-10-27 11:19:26|    700|\n",
            "+-------+-------------------+-------+\n",
            "only showing top 5 rows\n",
            "\n"
          ],
          "name": "stdout"
        }
      ]
    },
    {
      "cell_type": "code",
      "metadata": {
        "colab": {
          "base_uri": "https://localhost:8080/"
        },
        "id": "G8ZDfVYvyD6B",
        "outputId": "583ec135-bbb1-43dd-e680-ceffe60d919c"
      },
      "source": [
        "# number of day in subscription\n",
        "maxdate_df = df.select(\"ts\").agg(F.max(df.ts))\n",
        "\n",
        "datediff_df = df.select([\"userId\", \"up_ts\", \"down_ts\", \"isChurn\"]).dropDuplicates() \\\n",
        "    .join(maxdate_df, ~df.userId.isNull(), how='left') \\\n",
        "    .withColumn(\"datediff\", \n",
        "        F.datediff(F.when(F.col(\"isChurn\"), F.col(\"down_ts\")).otherwise(F.col(\"max(ts)\").cast(T.TimestampType())), df.up_ts)) \\\n",
        "    .drop(\"max(ts)\")\n",
        "\n",
        "datediff_df.show(5)"
      ],
      "execution_count": 16,
      "outputs": [
        {
          "output_type": "stream",
          "text": [
            "+-------+-------------------+-------------------+-------+--------+\n",
            "| userId|              up_ts|            down_ts|isChurn|datediff|\n",
            "+-------+-------------------+-------------------+-------+--------+\n",
            "|1111091|2018-11-27 17:43:31|2099-12-31 00:00:00|  false|       3|\n",
            "|1161080|2018-10-26 19:14:14|2018-11-23 21:55:06|   true|      28|\n",
            "|1291366|2018-10-01 04:22:41|2099-12-31 00:00:00|  false|      60|\n",
            "|1335330|2018-11-26 15:00:33|2099-12-31 00:00:00|  false|       4|\n",
            "|1721316|2018-10-11 17:19:44|2099-12-31 00:00:00|  false|      50|\n",
            "+-------+-------------------+-------------------+-------+--------+\n",
            "only showing top 5 rows\n",
            "\n"
          ],
          "name": "stdout"
        }
      ]
    },
    {
      "cell_type": "code",
      "metadata": {
        "colab": {
          "base_uri": "https://localhost:8080/"
        },
        "id": "Kg-A_r85yD6B",
        "outputId": "41e15df0-cbdc-4271-96ca-caac5bc41ae9"
      },
      "source": [
        "# number of song played per day\n",
        "jdf = change_colname_join_df(datediff_df)\n",
        "song_rate = df.filter(df.page == 'NextSong').groupBy([\"userId\", \"up_ts\"]).count() \\\n",
        "    .withColumnRenamed(\"count\", \"song_count\") \\\n",
        "    .join(jdf, (df.up_ts == jdf.up_ts_temp) & (df.userId == jdf.userId_temp)) \\\n",
        "    .drop(\"userId_temp\", \"up_ts_temp\", \"down_ts_temp\", \"isChurn_temp\") \\\n",
        "    .withColumn(\"song_rate\", F.col(\"song_count\") / F.when(F.col(\"datediff_temp\") == 0, 1).otherwise(F.col(\"datediff_temp\")))\n",
        "\n",
        "song_rate.show(5)"
      ],
      "execution_count": 13,
      "outputs": [
        {
          "output_type": "stream",
          "text": [
            "+-------+-------------------+----------+-------------+------------------+\n",
            "| userId|              up_ts|song_count|datediff_temp|         song_rate|\n",
            "+-------+-------------------+----------+-------------+------------------+\n",
            "|1071843|2018-11-08 13:16:59|      1190|           22| 54.09090909090909|\n",
            "|1120784|2018-10-11 14:16:28|      1502|           50|             30.04|\n",
            "|1128522|2018-11-13 17:46:22|       203|            2|             101.5|\n",
            "|1130061|2018-10-11 20:04:50|        96|           50|              1.92|\n",
            "|1135039|2018-10-04 11:31:06|       643|           57|11.280701754385966|\n",
            "+-------+-------------------+----------+-------------+------------------+\n",
            "only showing top 5 rows\n",
            "\n"
          ],
          "name": "stdout"
        }
      ]
    },
    {
      "cell_type": "code",
      "metadata": {
        "id": "EQuvZiOoyD6C",
        "outputId": "c832de8c-13d5-4851-fcc5-9aadb2f4d948",
        "colab": {
          "base_uri": "https://localhost:8080/"
        }
      },
      "source": [
        "# number of songs added to playlist\n",
        "n_songs_df = df.select([\"userId\", \"up_ts\", \"page\"]).filter(df.page ==\"Add to Playlist\") \\\n",
        "    .groupBy([\"userId\", \"up_ts\"]) \\\n",
        "    .agg(F.count(F.col(\"page\")).alias(\"n_song\"))\n",
        "\n",
        "n_songs_df.show(5)"
      ],
      "execution_count": 27,
      "outputs": [
        {
          "output_type": "stream",
          "text": [
            "+-------+-------------------+------+\n",
            "| userId|              up_ts|n_song|\n",
            "+-------+-------------------+------+\n",
            "|1367536|2018-10-08 14:58:27|    39|\n",
            "|1322258|2018-10-08 23:28:14|    30|\n",
            "|1554972|2018-11-19 21:16:01|    21|\n",
            "|1655008|2018-10-25 06:50:45|    11|\n",
            "|1968237|2018-10-27 11:19:26|    15|\n",
            "+-------+-------------------+------+\n",
            "only showing top 5 rows\n",
            "\n"
          ],
          "name": "stdout"
        }
      ]
    },
    {
      "cell_type": "code",
      "metadata": {
        "colab": {
          "base_uri": "https://localhost:8080/"
        },
        "id": "ie4bOYakyD6C",
        "outputId": "7f77594c-9eea-48a1-babf-8b582b7989c6"
      },
      "source": [
        "#number of thumbs up and down\n",
        "tup_tdown_df = df.select([\"userId\", \"up_ts\", \"down_ts\", \"isChurn\", \"page\"]).filter(df.page.isin([\"Thumbs Up\", \"Thumbs Down\"])) \\\n",
        "    .groupby([\"userId\", \"up_ts\", \"page\"]) \\\n",
        "    .agg(F.count(F.col(\"page\"))) \\\n",
        "    .groupby([\"userId\", \"up_ts\"]) \\\n",
        "    .pivot(\"page\") \\\n",
        "    .agg(F.first(\"count(page)\"))\n",
        "\n",
        "tup_tdown_df.show(5)\n"
      ],
      "execution_count": 50,
      "outputs": [
        {
          "output_type": "stream",
          "text": [
            "+-------+-------------------+-----------+---------+\n",
            "| userId|              up_ts|Thumbs Down|Thumbs Up|\n",
            "+-------+-------------------+-----------+---------+\n",
            "|1427546|2018-10-17 22:52:00|          4|       25|\n",
            "|1712775|2018-11-23 17:56:01|          6|       35|\n",
            "|1358238|2018-10-02 14:25:59|         23|       64|\n",
            "|1071843|2018-11-08 13:16:59|          6|       51|\n",
            "|1554972|2018-11-19 21:16:01|          5|       35|\n",
            "+-------+-------------------+-----------+---------+\n",
            "only showing top 5 rows\n",
            "\n"
          ],
          "name": "stdout"
        }
      ]
    },
    {
      "cell_type": "code",
      "metadata": {
        "colab": {
          "base_uri": "https://localhost:8080/"
        },
        "id": "nvJgRr4ZzdC8",
        "outputId": "ff1b49fb-083e-4194-ca15-8c8fc75b0744"
      },
      "source": [
        "# average session length and number of session\r\n",
        "session_df = df.groupBy([\"userId\", \"up_ts\", \"sessionId\"]) \\\r\n",
        "    .agg(\r\n",
        "        F.min(df.ts).cast(T.LongType()).alias(\"min\"),\r\n",
        "        F.max(df.ts).cast(T.LongType()).alias(\"max\")\r\n",
        "    ) \\\r\n",
        "    .withColumn(\"diff\", (F.col(\"max\") - F.col(\"min\"))) \\\r\n",
        "    .groupBy([\"userId\", \"up_ts\"]) \\\r\n",
        "    .agg(F.avg(F.col(\"diff\")).alias(\"avg_sess_len\"), F.count(F.col(\"sessionId\")).alias(\"sess_count\"))\r\n",
        "\r\n",
        "session_df.show(5)"
      ],
      "execution_count": 18,
      "outputs": [
        {
          "output_type": "stream",
          "text": [
            "+-------+-------------------+------------------+----------+\n",
            "| userId|              up_ts|      avg_sess_len|sess_count|\n",
            "+-------+-------------------+------------------+----------+\n",
            "|1914133|2018-10-09 11:11:55|           22340.0|        12|\n",
            "|1071843|2018-11-08 13:16:59|27020.272727272728|        11|\n",
            "|1582360|2018-10-04 15:48:38|19012.117647058825|        34|\n",
            "|1576394|2018-10-03 07:51:46| 19205.60606060606|        33|\n",
            "|1957517|2018-10-11 04:46:39|          28964.75|        12|\n",
            "+-------+-------------------+------------------+----------+\n",
            "only showing top 5 rows\n",
            "\n"
          ],
          "name": "stdout"
        }
      ]
    },
    {
      "cell_type": "code",
      "metadata": {
        "colab": {
          "base_uri": "https://localhost:8080/"
        },
        "id": "WZHp0-nRIpQP",
        "outputId": "c5ba3870-087d-4175-b17d-a97bb445c6d5"
      },
      "source": [
        "# platform for each user\r\n",
        "device_df = df.select([\"userId\", \"up_ts\", \"userAgent\"]).withColumn(\"platform\",\r\n",
        "    F.when(df.userAgent.contains(\"Macintosh\"), \"macos\") \\\r\n",
        "    .when(df.userAgent.contains(\"Windows\"), \"windows\") \\\r\n",
        "    .when(df.userAgent.contains(\"iPad\"), \"ipad\") \\\r\n",
        "    .when(df.userAgent.contains(\"iPhone\"), \"iphone\") \\\r\n",
        "    .when(df.userAgent.contains(\"Linux\"), \"linux\")) \\\r\n",
        "    .groupBy([\"userId\", \"up_ts\", \"platform\"]) \\\r\n",
        "    .agg(F.count(\"platform\")) \\\r\n",
        "    .withColumn(\"isplatform\", ~F.isnull(F.col(\"count(platform)\"))) \\\r\n",
        "    .groupby([\"userId\", \"up_ts\"]) \\\r\n",
        "    .pivot(\"platform\") \\\r\n",
        "    .agg(F.max(\"isplatform\")) \\\r\n",
        "    .fillna(False)\r\n",
        "\r\n",
        "device_df.show(5)"
      ],
      "execution_count": 58,
      "outputs": [
        {
          "output_type": "stream",
          "text": [
            "+-------+-------------------+-----+------+-----+-----+-------+\n",
            "| userId|              up_ts| ipad|iphone|linux|macos|windows|\n",
            "+-------+-------------------+-----+------+-----+-----+-------+\n",
            "|1130061|2018-10-11 20:04:50|false| false|false| true|  false|\n",
            "|1914133|2018-10-09 11:11:55|false| false|false| true|  false|\n",
            "|1128522|2018-11-13 17:46:22|false| false|false| true|  false|\n",
            "|1712775|2018-11-23 17:56:01|false| false|false|false|   true|\n",
            "|1568402|2018-10-18 14:26:47|false|  true|false|false|  false|\n",
            "+-------+-------------------+-----+------+-----+-----+-------+\n",
            "only showing top 5 rows\n",
            "\n"
          ],
          "name": "stdout"
        }
      ]
    },
    {
      "cell_type": "code",
      "metadata": {
        "colab": {
          "base_uri": "https://localhost:8080/"
        },
        "id": "4HkhmtZWCVe7",
        "outputId": "b666f0aa-46f6-4d71-a748-768369515ef5"
      },
      "source": [
        "#state\r\n",
        "state_df = df.select([\"userId\",\"up_ts\",\"location\"]) \\\r\n",
        "    .withColumn(\"state\", F.split(df.location, ', ')[1]) \\\r\n",
        "    .groupBy([\"userId\", \"up_ts\", \"state\"]) \\\r\n",
        "    .agg(~F.isnull(F.count(F.col(\"state\")))) \\\r\n",
        "    .withColumnRenamed(\"(NOT (count(state) IS NULL))\", \"isstate\") \\\r\n",
        "    .groupBy([\"userId\", \"up_ts\"]) \\\r\n",
        "    .pivot(\"state\") \\\r\n",
        "    .agg(F.max(\"isstate\")) \\\r\n",
        "    .fillna(False)\r\n",
        "\r\n",
        "state_df.show(5)"
      ],
      "execution_count": 64,
      "outputs": [
        {
          "output_type": "stream",
          "text": [
            "+-------+-------------------+-----+-----+-----+-----+-----+-----+-----+-----+-----+-----------+-----+-----+-----+-----+-----+-----+-----+-----+--------+--------+-----+-----+--------+-----+-----+-----+-----+-----+-----+-----+-----+-----+-----+-----+-----+-----+-----+-----+-----+-----+-----+-----+-----+-----+-----+-----+-----+-----+-----+-----+-----+-----+-----+-----+-----+-----+-----+-----+-----+-----+-----+--------+-----+--------+-----+-----+-----+-----+-----+-----+-----+-----------+-----+-----+-----+-----+-----+-----+-----+--------+-----+-----+-----+-----+-----+-----+-----+-----+-----+-----+-----+-----+-----+-----+--------+-----+-----+-----+-----+\n",
            "| userId|              up_ts|   AK|   AL|   AR|AR-MO|AR-OK|   AZ|   CA|   CO|   CT|DC-VA-MD-WV|   DE|   FL|   GA|GA-AL|GA-SC|   HI|   IA|IA-IL|IA-IL-MO|IA-NE-SD|   ID|   IL|IL-IN-WI|IL-MO|   IN|IN-KY|IN-MI|   KS|   KY|KY-IL|KY-IN|   LA|   MA|MA-CT|MA-NH|   MD|MD-DE|MD-WV|   ME|   MI|MI-WI|   MN|MN-WI|   MO|MO-IL|MO-KS|   MS|MS-LA|   MT|   NC|NC-SC|   ND|ND-MN|   NE|NE-IA|   NH|NH-VT|   NJ|   NM|   NV|   NY|NY-NJ-PA|   OH|OH-KY-IN|OH-PA|   OK|   OR|OR-ID|OR-WA|   PA|PA-NJ|PA-NJ-DE-MD|RI-MA|   SC|SC-NC|   SD|   TN|TN-GA|TN-KY|TN-MS-AR|TN-VA|   TX|TX-AR|   UT|UT-ID|   VA|VA-NC|VA-WV|   VT|   WA|   WI|WI-MI|WI-MN|   WV|WV-KY-OH|WV-OH|WV-VA|   WY|WY-ID|\n",
            "+-------+-------------------+-----+-----+-----+-----+-----+-----+-----+-----+-----+-----------+-----+-----+-----+-----+-----+-----+-----+-----+--------+--------+-----+-----+--------+-----+-----+-----+-----+-----+-----+-----+-----+-----+-----+-----+-----+-----+-----+-----+-----+-----+-----+-----+-----+-----+-----+-----+-----+-----+-----+-----+-----+-----+-----+-----+-----+-----+-----+-----+-----+-----+-----+--------+-----+--------+-----+-----+-----+-----+-----+-----+-----+-----------+-----+-----+-----+-----+-----+-----+-----+--------+-----+-----+-----+-----+-----+-----+-----+-----+-----+-----+-----+-----+-----+-----+--------+-----+-----+-----+-----+\n",
            "|1441166|2018-11-20 06:16:50|false|false|false|false|false|false|false|false|false|      false|false|false|false|false|false|false|false|false|   false|   false|false|false|   false|false|false|false|false|false|false|false|false|false|false|false|false|false|false|false|false|false|false|false|false|false|false|false|false|false|false| true|false|false|false|false|false|false|false|false|false|false|false|   false|false|   false|false|false|false|false|false|false|false|      false|false|false|false|false|false|false|false|   false|false|false|false|false|false|false|false|false|false|false|false|false|false|false|   false|false|false|false|false|\n",
            "|1480286|2018-10-05 08:08:07|false|false|false|false|false|false|false|false|false|      false|false|false|false|false|false|false|false|false|   false|   false|false|false|   false|false|false|false|false|false|false|false|false|false|false|false|false|false|false|false|false|false|false|false|false|false|false|false|false|false|false|false|false|false|false|false|false|false|false|false|false|false| true|   false|false|   false|false|false|false|false|false|false|false|      false|false|false|false|false|false|false|false|   false|false|false|false|false|false|false|false|false|false|false|false|false|false|false|   false|false|false|false|false|\n",
            "|1407795|2018-10-21 07:32:32|false|false|false|false|false|false|false|false|false|      false|false|false|false|false|false|false|false|false|   false|   false|false|false|   false|false|false|false|false|false|false|false|false|false|false|false|false|false|false|false|false|false|false|false|false|false|false|false|false|false|false|false|false|false|false|false|false|false|false|false|false|false|false|   false|false|   false|false|false|false|false|false|false|false|      false|false|false|false|false|false|false|false|   false|false|false|false|false|false|false|false|false|false| true|false|false|false|false|   false|false|false|false|false|\n",
            "|1431971|2018-11-17 16:39:25|false|false|false|false|false|false| true|false|false|      false|false|false|false|false|false|false|false|false|   false|   false|false|false|   false|false|false|false|false|false|false|false|false|false|false|false|false|false|false|false|false|false|false|false|false|false|false|false|false|false|false|false|false|false|false|false|false|false|false|false|false|false|false|   false|false|   false|false|false|false|false|false|false|false|      false|false|false|false|false|false|false|false|   false|false|false|false|false|false|false|false|false|false|false|false|false|false|false|   false|false|false|false|false|\n",
            "|1638234|2018-10-03 18:09:53|false|false|false|false|false|false|false|false|false|      false|false|false|false|false|false|false|false|false|   false|   false|false|false|   false|false|false|false|false|false|false|false|false|false|false|false|false|false|false|false|false|false|false|false|false|false|false|false|false|false|false|false|false|false|false|false|false|false|false|false|false|false|false|    true|false|   false|false|false|false|false|false|false|false|      false|false|false|false|false|false|false|false|   false|false|false|false|false|false|false|false|false|false|false|false|false|false|false|   false|false|false|false|false|\n",
            "+-------+-------------------+-----+-----+-----+-----+-----+-----+-----+-----+-----+-----------+-----+-----+-----+-----+-----+-----+-----+-----+--------+--------+-----+-----+--------+-----+-----+-----+-----+-----+-----+-----+-----+-----+-----+-----+-----+-----+-----+-----+-----+-----+-----+-----+-----+-----+-----+-----+-----+-----+-----+-----+-----+-----+-----+-----+-----+-----+-----+-----+-----+-----+-----+--------+-----+--------+-----+-----+-----+-----+-----+-----+-----+-----------+-----+-----+-----+-----+-----+-----+-----+--------+-----+-----+-----+-----+-----+-----+-----+-----+-----+-----+-----+-----+-----+-----+--------+-----+-----+-----+-----+\n",
            "only showing top 5 rows\n",
            "\n"
          ],
          "name": "stdout"
        }
      ]
    }
  ]
}