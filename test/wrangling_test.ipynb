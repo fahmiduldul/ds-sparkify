{
  "nbformat": 4,
  "nbformat_minor": 0,
  "metadata": {
    "orig_nbformat": 2,
    "colab": {
      "name": "wrangling_test.ipynb",
      "provenance": []
    },
    "kernelspec": {
      "name": "python3",
      "display_name": "Python 3"
    }
  },
  "cells": [
    {
      "cell_type": "code",
      "metadata": {
        "id": "Oc9tSch3AS3N",
        "colab": {
          "base_uri": "https://localhost:8080/"
        },
        "outputId": "bc41e776-efaa-4332-a902-66623da0efdb"
      },
      "source": [
        "!python3 -m pip install pyspark"
      ],
      "execution_count": 1,
      "outputs": [
        {
          "output_type": "stream",
          "text": [
            "Collecting pyspark\n",
            "\u001b[?25l  Downloading https://files.pythonhosted.org/packages/45/b0/9d6860891ab14a39d4bddf80ba26ce51c2f9dc4805e5c6978ac0472c120a/pyspark-3.1.1.tar.gz (212.3MB)\n",
            "\u001b[K     |████████████████████████████████| 212.3MB 68kB/s \n",
            "\u001b[?25hCollecting py4j==0.10.9\n",
            "\u001b[?25l  Downloading https://files.pythonhosted.org/packages/9e/b6/6a4fb90cd235dc8e265a6a2067f2a2c99f0d91787f06aca4bcf7c23f3f80/py4j-0.10.9-py2.py3-none-any.whl (198kB)\n",
            "\u001b[K     |████████████████████████████████| 204kB 45.2MB/s \n",
            "\u001b[?25hBuilding wheels for collected packages: pyspark\n",
            "  Building wheel for pyspark (setup.py) ... \u001b[?25l\u001b[?25hdone\n",
            "  Created wheel for pyspark: filename=pyspark-3.1.1-py2.py3-none-any.whl size=212767604 sha256=ab430d9ffab8faf3f55daf290313a5925da7fe04f0c4b490444c9d5cb2f7bfa0\n",
            "  Stored in directory: /root/.cache/pip/wheels/0b/90/c0/01de724414ef122bd05f056541fb6a0ecf47c7ca655f8b3c0f\n",
            "Successfully built pyspark\n",
            "Installing collected packages: py4j, pyspark\n",
            "Successfully installed py4j-0.10.9 pyspark-3.1.1\n"
          ],
          "name": "stdout"
        }
      ]
    },
    {
      "cell_type": "code",
      "metadata": {
        "id": "YC9i2CoYAaSP",
        "colab": {
          "base_uri": "https://localhost:8080/"
        },
        "outputId": "d77c5001-980d-421c-ba61-39a5aaef58a4"
      },
      "source": [
        "from google.colab import drive\r\n",
        "drive.mount('/content/drive')"
      ],
      "execution_count": 2,
      "outputs": [
        {
          "output_type": "stream",
          "text": [
            "Mounted at /content/drive\n"
          ],
          "name": "stdout"
        }
      ]
    },
    {
      "cell_type": "code",
      "metadata": {
        "id": "1zhdm4S9ApGB"
      },
      "source": [
        "from pyspark.sql import SparkSession\r\n",
        "import pyspark.sql.functions as F\r\n",
        "import pyspark.sql.types as T"
      ],
      "execution_count": 3,
      "outputs": []
    },
    {
      "cell_type": "code",
      "metadata": {
        "id": "KcMI--DSAsoF"
      },
      "source": [
        "spark = SparkSession.builder \\\r\n",
        "  .appName('test') \\\r\n",
        "  .getOrCreate()"
      ],
      "execution_count": 4,
      "outputs": []
    },
    {
      "cell_type": "code",
      "metadata": {
        "id": "El8g4MHOPcyk",
        "outputId": "719bab95-fe2e-43d3-9898-36da94b2fa56",
        "colab": {
          "base_uri": "https://localhost:8080/"
        }
      },
      "source": [
        "df = spark.read.parquet(\"/content/drive/MyDrive/datasets/sparkify_event_data.parquet\")\r\n",
        "df = df.withColumnRenamed(\"ts\",\"ts_temp\").withColumn(\"ts\", (F.col(\"ts_temp\") / 1000).cast(T.TimestampType())).drop(\"ts_temp\")\r\n",
        "df.cache()"
      ],
      "execution_count": 5,
      "outputs": [
        {
          "output_type": "execute_result",
          "data": {
            "text/plain": [
              "DataFrame[artist: string, auth: string, firstName: string, gender: string, itemInSession: bigint, lastName: string, length: double, level: string, location: string, method: string, page: string, registration: bigint, sessionId: bigint, song: string, status: bigint, userAgent: string, userId: string, ts: timestamp]"
            ]
          },
          "metadata": {
            "tags": []
          },
          "execution_count": 5
        }
      ]
    },
    {
      "cell_type": "code",
      "metadata": {
        "id": "0V9agjmYTopn",
        "colab": {
          "base_uri": "https://localhost:8080/"
        },
        "outputId": "d58e0f2a-55b9-468d-f20a-07e833f9244f"
      },
      "source": [
        "df.printSchema()"
      ],
      "execution_count": 6,
      "outputs": [
        {
          "output_type": "stream",
          "text": [
            "root\n",
            " |-- artist: string (nullable = true)\n",
            " |-- auth: string (nullable = true)\n",
            " |-- firstName: string (nullable = true)\n",
            " |-- gender: string (nullable = true)\n",
            " |-- itemInSession: long (nullable = true)\n",
            " |-- lastName: string (nullable = true)\n",
            " |-- length: double (nullable = true)\n",
            " |-- level: string (nullable = true)\n",
            " |-- location: string (nullable = true)\n",
            " |-- method: string (nullable = true)\n",
            " |-- page: string (nullable = true)\n",
            " |-- registration: long (nullable = true)\n",
            " |-- sessionId: long (nullable = true)\n",
            " |-- song: string (nullable = true)\n",
            " |-- status: long (nullable = true)\n",
            " |-- userAgent: string (nullable = true)\n",
            " |-- userId: string (nullable = true)\n",
            " |-- ts: timestamp (nullable = true)\n",
            "\n"
          ],
          "name": "stdout"
        }
      ]
    },
    {
      "cell_type": "code",
      "metadata": {
        "id": "utzqEa8UDiNG"
      },
      "source": [
        "up_df = df.select([\"userId\", \"ts\"]) \\\r\n",
        "  .filter(df.page == \"Submit Upgrade\") \\\r\n",
        "  .withColumnRenamed('ts', 'up_ts')\r\n",
        "\r\n",
        "down_df = df.select([\"userId\", \"ts\"]) \\\r\n",
        "  .filter(df.page == \"Submit Downgrade\") \\\r\n",
        "  .withColumnRenamed('ts', 'down_ts')\r\n"
      ],
      "execution_count": 7,
      "outputs": []
    },
    {
      "cell_type": "code",
      "metadata": {
        "id": "HbBoICGHJPCK"
      },
      "source": [
        "user_df = df.select(\"userId\").distinct()\r\n",
        "user_up_df = user_df.join(up_df, up_df.userId == user_df.userId).drop(up_df.userId)"
      ],
      "execution_count": 8,
      "outputs": []
    },
    {
      "cell_type": "code",
      "metadata": {
        "id": "y_EFXDf3rCvZ",
        "outputId": "2888832c-ddf6-4985-8e85-0fcbf15634fc",
        "colab": {
          "base_uri": "https://localhost:8080/"
        }
      },
      "source": [
        "up_df.filter(up_df.userId == 1853227).show()"
      ],
      "execution_count": 11,
      "outputs": [
        {
          "output_type": "stream",
          "text": [
            "+-------+-------------------+\n",
            "| userId|              up_ts|\n",
            "+-------+-------------------+\n",
            "|1853227|2018-11-30 16:10:09|\n",
            "|1853227|2018-11-04 15:35:06|\n",
            "|1853227|2018-11-16 14:39:31|\n",
            "|1853227|2018-10-07 10:33:02|\n",
            "+-------+-------------------+\n",
            "\n"
          ],
          "name": "stdout"
        }
      ]
    },
    {
      "cell_type": "code",
      "metadata": {
        "id": "3OwXpC_RrImh",
        "outputId": "8d6edeb4-5b21-4f3d-f7b9-a23cd279a2d6",
        "colab": {
          "base_uri": "https://localhost:8080/"
        }
      },
      "source": [
        "user_up_df.filter(up_df.userId == 1853227).show()"
      ],
      "execution_count": 12,
      "outputs": [
        {
          "output_type": "stream",
          "text": [
            "+-------+-------------------+\n",
            "| userId|              up_ts|\n",
            "+-------+-------------------+\n",
            "|1853227|2018-11-30 16:10:09|\n",
            "|1853227|2018-11-04 15:35:06|\n",
            "|1853227|2018-11-16 14:39:31|\n",
            "|1853227|2018-10-07 10:33:02|\n",
            "+-------+-------------------+\n",
            "\n"
          ],
          "name": "stdout"
        }
      ]
    },
    {
      "cell_type": "code",
      "metadata": {
        "id": "1ZR5kseycYE3",
        "colab": {
          "base_uri": "https://localhost:8080/"
        },
        "outputId": "0364f354-7870-4434-dc24-04378d687ba3"
      },
      "source": [
        "up_df.groupby(up_df.userId).agg(F.count(up_df.userId)).show()"
      ],
      "execution_count": null,
      "outputs": [
        {
          "output_type": "stream",
          "text": [
            "+-------+-------------+\n",
            "| userId|count(userId)|\n",
            "+-------+-------------+\n",
            "|1133196|            2|\n",
            "|1690101|            1|\n",
            "|1658815|            1|\n",
            "|1770964|            1|\n",
            "|1828442|            1|\n",
            "|1880560|            1|\n",
            "|1349958|            1|\n",
            "|1000280|            1|\n",
            "|1853227|            4|\n",
            "|1627009|            1|\n",
            "|1775420|            1|\n",
            "|1339632|            1|\n",
            "|1517899|            2|\n",
            "|1633577|            2|\n",
            "|1863821|            1|\n",
            "|1311711|            1|\n",
            "|1803077|            1|\n",
            "|1994878|            2|\n",
            "|1359175|            2|\n",
            "|1875484|            2|\n",
            "+-------+-------------+\n",
            "only showing top 20 rows\n",
            "\n"
          ],
          "name": "stdout"
        }
      ]
    },
    {
      "cell_type": "code",
      "metadata": {
        "id": "GKbFFQZZdB4E",
        "colab": {
          "base_uri": "https://localhost:8080/"
        },
        "outputId": "e10fed14-72d5-4ab2-e0c4-2a8ef0aaa5a0"
      },
      "source": [
        "down_df.filter(down_df.userId == 1133196).show()"
      ],
      "execution_count": 16,
      "outputs": [
        {
          "output_type": "stream",
          "text": [
            "+-------+-------------------+\n",
            "| userId|            down_ts|\n",
            "+-------+-------------------+\n",
            "|1133196|2018-11-06 11:16:45|\n",
            "+-------+-------------------+\n",
            "\n"
          ],
          "name": "stdout"
        }
      ]
    },
    {
      "cell_type": "code",
      "metadata": {
        "id": "hCl7wPVZzhGn",
        "outputId": "54c45fee-5194-4256-849d-bd5e1749b96b",
        "colab": {
          "base_uri": "https://localhost:8080/"
        }
      },
      "source": [
        "up_df.filter(up_df.userId.isNull()).show()"
      ],
      "execution_count": 40,
      "outputs": [
        {
          "output_type": "stream",
          "text": [
            "+------+-----+\n",
            "|userId|up_ts|\n",
            "+------+-----+\n",
            "+------+-----+\n",
            "\n"
          ],
          "name": "stdout"
        }
      ]
    },
    {
      "cell_type": "code",
      "metadata": {
        "id": "Qfl53YoBcXG0"
      },
      "source": [
        "#where magic happen\r\n",
        "down_df = down_df.withColumnRenamed(\"userId\", \"userIdTemp\")\r\n",
        "key_df = up_df.join(down_df,\r\n",
        "  (down_df.userIdTemp == up_df.userId) & \r\n",
        "  (down_df.down_ts > up_df.up_ts), how=\"left\") \\\r\n",
        "  .drop(F.col(\"userIdTemp\")) \\\r\n",
        "  .groupBy(F.col(\"userId\"), up_df.up_ts) \\\r\n",
        "  .agg(F.min(down_df.down_ts)) \\\r\n",
        "  .withColumnRenamed(\"max(userId)\", \"userId\") \\\r\n",
        "  .withColumn(\"down_ts\", \r\n",
        "    F.when(F.col(\"min(down_ts)\").isNull(), '2099-12-31 00:00:00') \\\r\n",
        "    .otherwise(F.col(\"min(down_ts)\"))) \\\r\n",
        "  .withColumn(\"isChurn\", \r\n",
        "    F.when(F.col(\"min(down_ts)\").isNull(), False).otherwise(True)) \\\r\n",
        "  .orderBy(up_df.up_ts)"
      ],
      "execution_count": 59,
      "outputs": []
    },
    {
      "cell_type": "code",
      "metadata": {
        "id": "_fJony90KV6q",
        "colab": {
          "base_uri": "https://localhost:8080/"
        },
        "outputId": "d6f1c1a8-b1bf-4885-92f0-482530d97c6d"
      },
      "source": [
        "key_df.count()"
      ],
      "execution_count": 56,
      "outputs": [
        {
          "output_type": "execute_result",
          "data": {
            "text/plain": [
              "15135"
            ]
          },
          "metadata": {
            "tags": []
          },
          "execution_count": 56
        }
      ]
    },
    {
      "cell_type": "code",
      "metadata": {
        "id": "pMhAU2g82v6x",
        "outputId": "b182c4ee-3f13-4695-ed72-427e7a4a0c87",
        "colab": {
          "base_uri": "https://localhost:8080/"
        }
      },
      "source": [
        "key_df.printSchema()"
      ],
      "execution_count": 60,
      "outputs": [
        {
          "output_type": "stream",
          "text": [
            "root\n",
            " |-- userId: string (nullable = true)\n",
            " |-- up_ts: timestamp (nullable = true)\n",
            " |-- min(down_ts): timestamp (nullable = true)\n",
            " |-- down_ts: string (nullable = true)\n",
            " |-- isChurn: boolean (nullable = false)\n",
            "\n"
          ],
          "name": "stdout"
        }
      ]
    },
    {
      "cell_type": "code",
      "metadata": {
        "id": "gDL0jS2I1Auc",
        "outputId": "e17eaf0b-ebdb-411a-b9b1-757a0f8a5169",
        "colab": {
          "base_uri": "https://localhost:8080/"
        }
      },
      "source": [
        "up_df.join(down_df,\r\n",
        "  (down_df.userId == up_df.userId) & \r\n",
        "  (down_df.down_ts > up_df.up_ts), how=\"left\").show()"
      ],
      "execution_count": 49,
      "outputs": [
        {
          "output_type": "stream",
          "text": [
            "+-------+-------------------+-------+-------------------+\n",
            "| userId|              up_ts| userId|            down_ts|\n",
            "+-------+-------------------+-------+-------------------+\n",
            "|1000280|2018-10-19 01:49:58|1000280|2018-10-19 18:37:19|\n",
            "|1030587|2018-10-16 17:52:24|   null|               null|\n",
            "|1033297|2018-11-26 16:44:48|   null|               null|\n",
            "|1057724|2018-10-25 11:23:22|   null|               null|\n",
            "|1069552|2018-11-01 04:02:44|1069552|2018-11-10 14:23:27|\n",
            "|1071308|2018-10-02 18:22:13|   null|               null|\n",
            "|1083324|2018-10-01 08:52:47|1083324|2018-11-13 23:51:05|\n",
            "|1083324|2018-11-27 13:19:31|   null|               null|\n",
            "|1114507|2018-10-17 11:09:48|   null|               null|\n",
            "|1133196|2018-11-21 02:30:40|   null|               null|\n",
            "|1133196|2018-10-23 19:42:37|1133196|2018-11-06 11:16:45|\n",
            "|1151194|2018-11-14 23:34:35|   null|               null|\n",
            "|1200956|2018-11-06 15:00:43|   null|               null|\n",
            "|1200956|2018-10-04 08:03:55|1200956|2018-10-09 21:43:36|\n",
            "|1271218|2018-10-08 10:04:48|1271218|2018-11-04 19:35:13|\n",
            "|1271218|2018-10-08 10:04:48|1271218|2018-10-11 11:05:03|\n",
            "|1271218|2018-11-15 06:23:24|   null|               null|\n",
            "|1271218|2018-10-19 10:53:47|1271218|2018-11-04 19:35:13|\n",
            "|1311711|2018-10-08 17:13:10|1311711|2018-11-02 09:59:28|\n",
            "|1338783|2018-10-05 16:40:22|   null|               null|\n",
            "+-------+-------------------+-------+-------------------+\n",
            "only showing top 20 rows\n",
            "\n"
          ],
          "name": "stdout"
        }
      ]
    },
    {
      "cell_type": "code",
      "metadata": {
        "id": "4BZUqHJqSHEC",
        "colab": {
          "base_uri": "https://localhost:8080/"
        },
        "outputId": "07d0aafd-4cba-4617-909a-a579cb309908"
      },
      "source": [
        "df.filter(df.ts == '2018-10-01 00:02:02').select([\"userId\", \"page\"]).show()"
      ],
      "execution_count": 44,
      "outputs": [
        {
          "output_type": "stream",
          "text": [
            "+-------+--------------+\n",
            "| userId|          page|\n",
            "+-------+--------------+\n",
            "|1531101|      NextSong|\n",
            "|1712107|Submit Upgrade|\n",
            "+-------+--------------+\n",
            "\n"
          ],
          "name": "stdout"
        }
      ]
    },
    {
      "cell_type": "code",
      "metadata": {
        "id": "3YNZEJafV_Ec",
        "colab": {
          "base_uri": "https://localhost:8080/"
        },
        "outputId": "b559096a-8f56-4e21-ea57-4c61e9c0f207"
      },
      "source": [
        "df.withColumn(\"date\", (df.ts / 1000).cast(T.TimestampType())) \\\r\n",
        "  .show(10)"
      ],
      "execution_count": null,
      "outputs": [
        {
          "output_type": "stream",
          "text": [
            "+--------------------+---------+---------+------+-------------+---------+---------+-----+--------------------+------+---------------+-------------+---------+--------------------+------+-------------+--------------------+-------+-------------------+\n",
            "|              artist|     auth|firstName|gender|itemInSession| lastName|   length|level|            location|method|           page| registration|sessionId|                song|status|           ts|           userAgent| userId|               date|\n",
            "+--------------------+---------+---------+------+-------------+---------+---------+-----+--------------------+------+---------------+-------------+---------+--------------------+------+-------------+--------------------+-------+-------------------+\n",
            "|              Redman|Logged In|   Nathan|     M|          496|   Turner|154.53995| paid|       Paragould, AR|   PUT|       NextSong|1537383771000|   228824|        Smoke Buddah|   200|1543616036000|\"Mozilla/5.0 (Mac...|1768369|2018-11-30 22:13:56|\n",
            "|               Yelle|Logged In|  Kinsley|     F|           25|    Lewis| 221.1522| paid|Cleveland-Elyria, OH|   PUT|       NextSong|1536411005000|   238746|              Ce Jeu|   200|1543616036000|\"Mozilla/5.0 (Mac...|1920627|2018-11-30 22:13:56|\n",
            "|              Eminem|Logged In|   Daelen|     M|          197|   Wright|251.55873| paid|Detroit-Warren-De...|   PUT|       NextSong|1537142631000|   185202|          Without Me|   200|1543616036000|\"Mozilla/5.0 (iPa...|1587060|2018-11-30 22:13:56|\n",
            "|         The Killers|Logged In|     Lily|     F|          152|Gutierrez|384.86159| paid|Los Angeles-Long ...|   PUT|       NextSong|1535339387000|   238647|Smile Like You Me...|   200|1543616036000|\"Mozilla/5.0 (Mac...|1167705|2018-11-30 22:13:56|\n",
            "|            Sherwood|Logged In|  Lillian|     F|           75|      May|162.45506| paid|Boston-Cambridge-...|   PUT|       NextSong|1535686379000|   184934|Gentlemen of promise|   200|1543616037000|Mozilla/5.0 (Wind...|1324653|2018-11-30 22:13:57|\n",
            "|            Owl City|Logged In|    Hanan|     F|           87|     Ruiz|190.17098| paid|Houston-The Woodl...|   PUT|       NextSong|1537964547000|   238117|          Tidal Wave|   200|1543616037000|\"Mozilla/5.0 (Mac...|1005123|2018-11-30 22:13:57|\n",
            "|     The Cranberries|Logged In|     Kady|     F|          118|  Rosario|272.40444| free|      Boise City, ID|   PUT|       NextSong|1537844220000|   228661| Ridiculous Thoughts|   200|1543616037000|\"Mozilla/5.0 (Win...|1702556|2018-11-30 22:13:57|\n",
            "|Old Crow Medicine...|Logged In|     Emre|     M|          133|   Henson|231.73179| paid|  Port St. Lucie, FL|   PUT|       NextSong|1538259743000|   237327|         Wagon Wheel|   200|1543616037000|Mozilla/5.0 (Wind...|1054943|2018-11-30 22:13:57|\n",
            "|                null|Logged In|  Kinsley|     F|           26|    Lewis|     null| paid|Cleveland-Elyria, OH|   PUT|      Thumbs Up|1536411005000|   238746|                null|   307|1543616037000|\"Mozilla/5.0 (Mac...|1920627|2018-11-30 22:13:57|\n",
            "|                null|Logged In|  Marisol|     F|           45|   Barker|     null| paid|New York-Newark-J...|   PUT|Add to Playlist|1534461268000|   236396|                null|   200|1543616038000|\"Mozilla/5.0 (Mac...|1654593|2018-11-30 22:13:58|\n",
            "+--------------------+---------+---------+------+-------------+---------+---------+-----+--------------------+------+---------------+-------------+---------+--------------------+------+-------------+--------------------+-------+-------------------+\n",
            "only showing top 10 rows\n",
            "\n"
          ],
          "name": "stdout"
        }
      ]
    },
    {
      "cell_type": "code",
      "metadata": {
        "id": "ZBXTCnCYTluP",
        "colab": {
          "base_uri": "https://localhost:8080/"
        },
        "outputId": "b7e34046-9077-4c42-c221-109d48fd78a2"
      },
      "source": [
        "df.withColumn(\"test\", (df.ts / 1000).cast(T.IntegerType())) \\\r\n",
        "  .withColumn(\"test1\", F.col(\"test\").cast(T.TimestampType())) \\\r\n",
        "  .sort(F.col(\"test1\"), ascending=False) \\\r\n",
        "  .show(100)"
      ],
      "execution_count": null,
      "outputs": [
        {
          "output_type": "stream",
          "text": [
            "+--------------------+----------+---------+------+-------------+----------+---------+-----+--------------------+------+---------------+-------------+---------+--------------------+------+-------------+--------------------+-------+----------+-------------------+\n",
            "|              artist|      auth|firstName|gender|itemInSession|  lastName|   length|level|            location|method|           page| registration|sessionId|                song|status|           ts|           userAgent| userId|      test|              test1|\n",
            "+--------------------+----------+---------+------+-------------+----------+---------+-----+--------------------+------+---------------+-------------+---------+--------------------+------+-------------+--------------------+-------+----------+-------------------+\n",
            "|             Shakira| Logged In|  Freddie|     M|           60|    Juarez|322.79465| free|Houston-The Woodl...|   PUT|       NextSong|1535904972000|    19979|               TÃÂº|   200|1543622402000|\"Mozilla/5.0 (Mac...|1761748|1543622402|2018-12-01 00:00:02|\n",
            "|                null| Logged In|   Corbin|     M|           20|     Ortiz|     null| free|New York-Newark-J...|   PUT|Add to Playlist|1532345856000|   232865|                null|   200|1543622400000|\"Mozilla/5.0 (Win...|1146733|1543622400|2018-12-01 00:00:00|\n",
            "|                UB40| Logged In|   Dexter|     M|          152|     Lynch|182.69995| paid|      Huntsville, AL|   PUT|       NextSong|1533090147000|    42056|The Way You Do Th...|   200|1543622399000|\"Mozilla/5.0 (X11...|1623507|1543622399|2018-11-30 23:59:59|\n",
            "|              Pepper| Logged In|   Landon|     M|           10|    Castro|205.26975| free|Orlando-Kissimmee...|   PUT|       NextSong|1528946260000|    31514|                Ho's|   200|1543622399000|\"Mozilla/5.0 (Win...|1245611|1543622399|2018-11-30 23:59:59|\n",
            "|      Joa~o Gilberto| Logged In|   Meghan|     F|          271|  Williams| 98.14159| paid|New York-Newark-J...|   PUT|       NextSong|1536443641000|   237912|Samba De Una Nota...|   200|1543622398000|\"Mozilla/5.0 (Mac...|1415761|1543622398|2018-11-30 23:59:58|\n",
            "|   Sven-Bertil Taube| Logged In|  Kandace|     F|           49|     Cowan|165.98159| paid|Buffalo-Cheektowa...|   PUT|       NextSong|1538010373000|    24985|Sommarnatt (Kom I...|   200|1543622398000|\"Mozilla/5.0 (Win...|1934208|1543622398|2018-11-30 23:59:58|\n",
            "|          Jill Scott| Logged In|    Kayla|     F|          279|       Lee|662.77832| paid|          Adrian, MI|   PUT|       NextSong|1532678618000|   219088|           Thickness|   200|1543622398000|\"Mozilla/5.0 (Mac...|1024500|1543622398|2018-11-30 23:59:58|\n",
            "|           Fito Paez| Logged In|    Amaya|     F|          177|     Olson|226.42893| paid|         Midland, TX|   PUT|       NextSong|1533315144000|   228982|Cae La Noche En O...|   200|1543622397000|\"Mozilla/5.0 (Win...|1112854|1543622397|2018-11-30 23:59:57|\n",
            "|                null| Logged In|Alyxander|     M|           72|      Cole|     null| paid|      Scottsboro, AL|   PUT|         Logout|1536372871000|   231063|                null|   307|1543622397000|Mozilla/5.0 (Maci...|1222603|1543622397|2018-11-30 23:59:57|\n",
            "|               Keoki| Logged In|     Emma|     F|            5|   Beasley|430.31465| free|       Duluth, MN-WI|   PUT|       NextSong|1537682534000|   208426|              Wicked|   200|1543622397000|Mozilla/5.0 (Wind...|1793178|1543622397|2018-11-30 23:59:57|\n",
            "|        Taylor Swift| Logged In|  Kassidy|     M|          178|     Chase|201.06404| paid|     Spartanburg, SC|   PUT|       NextSong|1536510581000|   184330|            Our Song|   200|1543622397000|\"Mozilla/5.0 (Win...|1274696|1543622397|2018-11-30 23:59:57|\n",
            "|           Blink-182| Logged In|   Adalyn|     F|          271|      Rich|203.78077| free|        Florence, SC|   PUT|       NextSong|1537279518000|    31945|                Mutt|   200|1543622397000|Mozilla/5.0 (Wind...|1340369|1543622397|2018-11-30 23:59:57|\n",
            "|          Lily Allen| Logged In|    Aidan|     M|           40|     Clark|190.95465| paid|Houston-The Woodl...|   PUT|       NextSong|1536070761000|   231941|                 LDN|   200|1543622396000|Mozilla/5.0 (Wind...|1477513|1543622396|2018-11-30 23:59:56|\n",
            "|        Jason Derulo| Logged In|Alyxander|     M|           71|      Cole|202.44853| paid|      Scottsboro, AL|   PUT|       NextSong|1536372871000|   231063|What If (Album Ve...|   200|1543622396000|Mozilla/5.0 (Maci...|1222603|1543622396|2018-11-30 23:59:56|\n",
            "|                Nach| Logged In|Priscilla|     F|           13|    Hunter|296.38485| free|Detroit-Warren-De...|   PUT|       NextSong|1534317221000|   223112|Esclavos Del Destino|   200|1543622396000|\"Mozilla/5.0 (Mac...|1147152|1543622396|2018-11-30 23:59:56|\n",
            "|              Eminem| Logged In|   Peyton|     F|          160|     Jones|320.83546| paid|Miami-Fort Lauder...|   PUT|       NextSong|1534956515000|    44408|       Hailie's Song|   200|1543622396000|Mozilla/5.0 (Wind...|1068798|1543622396|2018-11-30 23:59:56|\n",
            "|         Josh Turner| Logged In|    Silas|     M|          454|    Garcia|208.84853| paid|         Midland, MI|   PUT|       NextSong|1536396483000|   233713|         Firecracker|   200|1543622396000|\"Mozilla/5.0 (iPa...|1300791|1543622396|2018-11-30 23:59:56|\n",
            "|      Camera Obscura| Logged In|  Michael|     M|           76|      Shaw|224.57424| paid|Detroit-Warren-De...|   PUT|       NextSong|1532106118000|    44533|      You Told A Lie|   200|1543622396000|\"Mozilla/5.0 (Mac...|1979129|1543622396|2018-11-30 23:59:56|\n",
            "|     Alliance Ethnik| Logged In|   Damion|     M|           76|   Johnson|195.94404| free|        Española, NM|   PUT|       NextSong|1535289250000|   230727|SinceritÃÂ© Et J...|   200|1543622396000|\"Mozilla/5.0 (iPh...|1429562|1543622396|2018-11-30 23:59:56|\n",
            "|                 Nek| Logged In|   Jayden|     M|           31|Fitzgerald|231.52281| free|Philadelphia-Camd...|   PUT|       NextSong|1536782217000|   226976|         Tutto di te|   200|1543622396000|Mozilla/5.0 (comp...|1460782|1543622396|2018-11-30 23:59:56|\n",
            "|        Modest Mouse| Logged In|  Charles|     M|          380|    Torres|264.80281| paid|          Eugene, OR|   PUT|       NextSong|1538350997000|   234330|     Missed The Boat|   200|1543622395000|\"Mozilla/5.0 (Mac...|1172451|1543622395|2018-11-30 23:59:55|\n",
            "|     Magnus Carlsson| Logged In|   Nathan|     M|          161|    Knight|376.71138| paid|       Levelland, TX|   PUT|       NextSong|1536579289000|   234294|Another Rainbow (...|   200|1543622395000|Mozilla/5.0 (Wind...|1221594|1543622395|2018-11-30 23:59:55|\n",
            "|Between The Burie...| Logged In|   Kailyn|     F|          106|     Smith|458.10893| paid|      Huntsville, AL|   PUT|       NextSong|1537809671000|   238551|Ad A Dglgmut (Alb...|   200|1543622395000|Mozilla/5.0 (X11;...|1858407|1543622395|2018-11-30 23:59:55|\n",
            "|                null| Logged In|     Luis|     M|           78|  Robinson|     null| paid|Ogden-Clearfield, UT|   PUT|    Thumbs Down|1533165684000|   207217|                null|   307|1543622395000|\"Mozilla/5.0 (Mac...|1000409|1543622395|2018-11-30 23:59:55|\n",
            "|        Cypress Hill| Logged In|    Colin|     M|           14|    Greene|236.87791| paid|        Red Wing, MN|   PUT|       NextSong|1537818678000|   237980|Tequila (Tequila ...|   200|1543622395000|\"Mozilla/5.0 (Mac...|1050161|1543622395|2018-11-30 23:59:55|\n",
            "|     Michael Jackson| Logged In|     Liam|     M|          111|    Miller|297.40363| free|         Jackson, OH|   PUT|       NextSong|1538133805000|   223640|The Way You Make ...|   200|1543622394000|\"Mozilla/5.0 (Win...|1281757|1543622394|2018-11-30 23:59:54|\n",
            "|        Taylor Swift| Logged In|    Ryker|     M|           11|   Jackson|237.03465| paid|New York-Newark-J...|   PUT|       NextSong|1534738291000|   239107|      Jump Then Fall|   200|1543622394000|\"Mozilla/5.0 (Mac...|1590560|1543622394|2018-11-30 23:59:54|\n",
            "|        Carl Perkins| Logged In| Giovanny|     M|           89|   Pittman|157.64853| paid|     Springfield, MA|   PUT|       NextSong|1538217433000|   234503|            Matchbox|   200|1543622394000|\"Mozilla/5.0 (Mac...|1955750|1543622394|2018-11-30 23:59:54|\n",
            "|Captain Hollywood...| Logged In|   Collin|     M|          125|    Deleon|234.70975| paid|San Diego-Carlsba...|   PUT|       NextSong|1535986310000|    43964|       More And More|   200|1543622394000|\"Mozilla/5.0 (Win...|1368090|1543622394|2018-11-30 23:59:54|\n",
            "|     Dilated Peoples| Logged In|     Luis|     M|           77|  Robinson|308.24444| paid|Ogden-Clearfield, UT|   PUT|       NextSong|1533165684000|   207217|            Marathon|   200|1543622394000|\"Mozilla/5.0 (Mac...|1000409|1543622394|2018-11-30 23:59:54|\n",
            "|         Snow Patrol| Logged In|    Abbey|     F|           29|     Tyler|182.02077| paid|Pensacola-Ferry P...|   PUT|       NextSong|1537213711000|   236027|  You Could Be Happy|   200|1543622394000|\"Mozilla/5.0 (Win...|1472649|1543622394|2018-11-30 23:59:54|\n",
            "|      Alejandro Sanz| Logged In|     Dane|     M|           45| Nicholson| 277.2371| paid|         Jackson, MS|   PUT|       NextSong|1536448862000|   202983|Y solo se me ocur...|   200|1543622393000|\"Mozilla/5.0 (iPh...|1511309|1543622393|2018-11-30 23:59:53|\n",
            "|             Athlete| Logged In|     Maya|     F|          175|     Myers|301.71383| paid|Washington-Arling...|   PUT|       NextSong|1537540240000|   234116|   Twenty Four Hours|   200|1543622393000|\"Mozilla/5.0 (Mac...|1019424|1543622393|2018-11-30 23:59:53|\n",
            "|     Michael Jackson| Logged In| Kristian|     M|          194|  Gonzales|225.01832| paid|Birmingham-Hoover...|   PUT|       NextSong|1536304936000|   234042|    In Our Small Way|   200|1543622393000|\"Mozilla/5.0 (Win...|1640786|1543622393|2018-11-30 23:59:53|\n",
            "| Death Cab for Cutie| Logged In|   Isaiah|     M|          119|  Robinson|225.20118| paid|     Terre Haute, IN|   PUT|       NextSong|1537693315000|   236654|The Ice Is Gettin...|   200|1543622393000|\"Mozilla/5.0 (Mac...|1213384|1543622393|2018-11-30 23:59:53|\n",
            "|              La Ley| Logged In| Chandler|     M|           92|     Knapp|194.92526| paid|Dallas-Fort Worth...|   PUT|       NextSong|1536839780000|   238716|            El duelo|   200|1543622393000|\"Mozilla/5.0 (Win...|1901797|1543622393|2018-11-30 23:59:53|\n",
            "|               Train| Logged In|   Hannah|     F|           63|    Foster|216.76363| paid|    Fayetteville, NC|   PUT|       NextSong|1537493280000|   239984|    Hey_ Soul Sister|   200|1543622393000|Mozilla/5.0 (Wind...|1554108|1543622393|2018-11-30 23:59:53|\n",
            "|     Alliance Ethnik| Logged In|    Amara|     F|          138|     Ellis|195.94404| paid|     Albuquerque, NM|   PUT|       NextSong|1537888796000|   207253|SinceritÃÂ© Et J...|   200|1543622393000|\"Mozilla/5.0 (Mac...|1413610|1543622393|2018-11-30 23:59:53|\n",
            "|     matchbox twenty| Logged In|    Nixon|     M|           77|   Clayton|340.16608| paid|Phoenix-Mesa-Scot...|   PUT|       NextSong|1537863801000|   235686|Back 2 Good (LP V...|   200|1543622392000|\"Mozilla/5.0 (Win...|1575270|1543622392|2018-11-30 23:59:52|\n",
            "|  The Crystal Method| Logged In|Alexandra|     F|          119|   Hancock|306.52036| paid|           Akron, OH|   PUT|       NextSong|1537181768000|    32624|           True Grit|   200|1543622392000|\"Mozilla/5.0 (Win...|1784179|1543622392|2018-11-30 23:59:52|\n",
            "|                null| Logged In|Brooklynn|     F|          100|    Howard|     null| paid|Tampa-St. Petersb...|   PUT|Add to Playlist|1536788793000|   228091|                null|   200|1543622392000|Mozilla/5.0 (X11;...|1738211|1543622392|2018-11-30 23:59:52|\n",
            "|    The Swell Season| Logged In|    Maeve|     F|           12|   Garrett|271.51628| paid|Greenville-Anders...|   PUT|       NextSong|1533545026000|   237571|            The Verb|   200|1543622392000|\"Mozilla/5.0 (Win...|1395333|1543622392|2018-11-30 23:59:52|\n",
            "|        Joshua Radin| Logged In|   Zahira|     F|          117|  Schaefer|153.46893| paid|      Stillwater, OK|   PUT|       NextSong|1535657677000|   211763|            Only You|   200|1543622392000|\"Mozilla/5.0 (Mac...|1423054|1543622392|2018-11-30 23:59:52|\n",
            "|                null| Logged In|    Mayra|     F|           52|   Johnson|     null| paid|Minneapolis-St. P...|   GET|           Home|1537808540000|   236972|                null|   200|1543622391000|Mozilla/5.0 (Wind...|1682342|1543622391|2018-11-30 23:59:51|\n",
            "|                null| Logged In|    Riley|     M|           90|       Kim|     null| paid|        Muskogee, OK|   GET|      Downgrade|1534218534000|   237329|                null|   200|1543622391000|Mozilla/5.0 (Maci...|1220446|1543622391|2018-11-30 23:59:51|\n",
            "|                null| Logged In|   Nevaeh|     F|           20| Hendricks|     null| paid|Cleveland-Elyria, OH|   PUT|      Thumbs Up|1529788193000|   225355|                null|   307|1543622391000|\"Mozilla/5.0 (Mac...|1772823|1543622391|2018-11-30 23:59:51|\n",
            "| Angus & Julia Stone| Logged In|     Kyla|     F|           48|      Meza|229.58975| free|New York-Newark-J...|   PUT|       NextSong|1536886063000|   236761|           The Beast|   200|1543622390000|\"Mozilla/5.0 (Win...|1464599|1543622390|2018-11-30 23:59:50|\n",
            "|            It Bites| Logged In|   Nevaeh|     F|           19| Hendricks|243.93098| paid|Cleveland-Elyria, OH|   PUT|       NextSong|1529788193000|   225355|Calling All The H...|   200|1543622390000|\"Mozilla/5.0 (Mac...|1772823|1543622390|2018-11-30 23:59:50|\n",
            "|         Bad Manners| Logged In|   Harlen|     M|          119|  Franklin|105.69098| paid|Indianapolis-Carm...|   PUT|       NextSong|1537873865000|   237294|Skinhead Love Affair|   200|1543622390000|\"Mozilla/5.0 (Win...|1708349|1543622390|2018-11-30 23:59:50|\n",
            "|         Limp Bizkit| Logged In|    Macee|     F|           89|     Logan|143.38567| paid|Detroit-Warren-De...|   PUT|       NextSong|1537589030000|    44039|         Indigo Flow|   200|1543622390000|\"Mozilla/5.0 (Win...|1521799|1543622390|2018-11-30 23:59:50|\n",
            "|         Johnny Gill| Logged In|   Ariana|     F|          265|       Lee|288.70485| paid|Mankato-North Man...|   PUT|       NextSong|1534940775000|   237750|           Chemistry|   200|1543622389000|\"Mozilla/5.0 (Win...|1905026|1543622389|2018-11-30 23:59:49|\n",
            "|          Joe Arroyo| Logged In|   Alyzae|     F|           58|    Lowery| 133.8771| free|        Somerset, KY|   PUT|       NextSong|1532520033000|    32106|            Rebelion|   200|1543622389000|Mozilla/5.0 (X11;...|1600416|1543622389|2018-11-30 23:59:49|\n",
            "|     Plain White T's| Logged In|   Summer|     F|           70|  Martinez|  232.202| paid|         Jackson, MS|   PUT|       NextSong|1525231417000|   233182|   Hey There Delilah|   200|1543622389000|\"Mozilla/5.0 (Win...|1682924|1543622389|2018-11-30 23:59:49|\n",
            "|       Dwight Yoakam| Logged In| Estrella|     F|          485|     Perez| 239.3073| paid|Philadelphia-Camd...|   PUT|       NextSong|1538296467000|   151739|      You're The One|   200|1543622389000|\"Mozilla/5.0 (Mac...|1767627|1543622389|2018-11-30 23:59:49|\n",
            "|                null|Logged Out|     null|  null|            0|      null|     null| free|                null|   PUT|          Login|         null|   240121|                null|   307|1543622389000|                null|1261737|1543622389|2018-11-30 23:59:49|\n",
            "|        Warren Zevon| Logged In|   Peyton|     M|           31|      Huff|206.54975| paid|Seattle-Tacoma-Be...|   PUT|       NextSong|1530020763000|   239965|Werewolves Of Lon...|   200|1543622389000|Mozilla/5.0 (Wind...|1962734|1543622389|2018-11-30 23:59:49|\n",
            "|          Shearwater| Logged In|  Maximus|     M|           99|   Montoya|352.02567| paid|Indianapolis-Carm...|   PUT|       NextSong|1536081204000|   211460|        My Good Deed|   200|1543622388000|\"Mozilla/5.0 (Mac...|1414566|1543622388|2018-11-30 23:59:48|\n",
            "|         Miley Cyrus| Logged In|    Damir|     M|           60|      Wade|230.79138| paid|Dallas-Fort Worth...|   PUT|       NextSong|1537166534000|    44536|             Goodbye|   200|1543622388000|Mozilla/5.0 (Wind...|1197612|1543622388|2018-11-30 23:59:48|\n",
            "|           TiÃÂ«sto| Logged In|    Fenix|     F|           44|    Hughes|163.81342| paid|Detroit-Warren-De...|   PUT|       NextSong|1537286774000|    44646|     Lethal Industry|   200|1543622388000|Mozilla/5.0 (Wind...|1161751|1543622388|2018-11-30 23:59:48|\n",
            "|     matchbox twenty| Logged In|   Irelyn|     F|          100|      Wade|229.14567| paid|        Aberdeen, WA|   PUT|       NextSong|1536592853000|   221725|Unwell (Album Ver...|   200|1543622387000|Mozilla/5.0 (X11;...|1009018|1543622387|2018-11-30 23:59:47|\n",
            "|Karen O And The Kids| Logged In|  Greyson|     M|          208|     Price|158.30159| paid|Miami-Fort Lauder...|   PUT|       NextSong|1536704566000|   232439|             Capsize|   200|1543622387000|\"Mozilla/5.0 (Mac...|1285700|1543622387|2018-11-30 23:59:47|\n",
            "|         Alicia Keys| Logged In|   Jordan|     M|           93|      Kirk|455.52281| paid|Cincinnati, OH-KY-IN|   PUT|       NextSong|1538149159000|   185365|Streets Of New Yo...|   200|1543622387000|Mozilla/5.0 (X11;...|1955684|1543622387|2018-11-30 23:59:47|\n",
            "|            Fabolous| Logged In|     Emma|     F|           40|  Jacobson|278.04689| free|         Holland, MI|   PUT|       NextSong|1533182327000|   232180|Tit 4 Tat (Featur...|   200|1543622387000|\"Mozilla/5.0 (Mac...|1005829|1543622387|2018-11-30 23:59:47|\n",
            "|              Pepper| Logged In| Caroline|     F|           37|     Lyons|182.93506| free|Washington-Arling...|   PUT|       NextSong|1537991610000|   238522|Sitting On The Cu...|   200|1543622387000|Mozilla/5.0 (Wind...|1824887|1543622387|2018-11-30 23:59:47|\n",
            "|  El Poder del Norte| Logged In|  Abigail|     F|          118|    Lawson|171.88526| paid|         Roanoke, VA|   PUT|       NextSong|1535042123000|   238687|        En Tu Balcon|   200|1543622387000|Mozilla/5.0 (Wind...|1049296|1543622387|2018-11-30 23:59:47|\n",
            "|                null| Logged In|   Sharod|     M|           41|   Bonilla|     null| free|San Jose-Sunnyval...|   GET|        Upgrade|1539179271000|    20000|                null|   200|1543622387000|\"Mozilla/5.0 (Mac...|1293972|1543622387|2018-11-30 23:59:47|\n",
            "|                null| Logged In|    James|     M|          204|     Mckee|     null| paid|         Brenham, TX|   PUT|    Thumbs Down|1536128142000|   238689|                null|   307|1543622387000|Mozilla/5.0 (Wind...|1617874|1543622387|2018-11-30 23:59:47|\n",
            "|        James Taylor| Logged In|   Alicja|     F|           77|    Taylor|418.66404| free|Ogden-Clearfield, UT|   PUT|       NextSong|1536275615000|   219339|     How Sweet It Is|   200|1543622387000|\"Mozilla/5.0 (Win...|1538966|1543622387|2018-11-30 23:59:47|\n",
            "|     Ten Years After| Logged In|    James|     M|          203|     Mckee|292.64934| paid|         Brenham, TX|   PUT|       NextSong|1536128142000|   238689|As The Sun Still ...|   200|1543622386000|Mozilla/5.0 (Wind...|1617874|1543622386|2018-11-30 23:59:46|\n",
            "|Rolando Villazon/...| Logged In|      Ava|     F|           27|   Stewart|293.11955| paid|Riverside-San Ber...|   PUT|       NextSong|1534930470000|   238194|Le Cid_ Act 3: Ah...|   200|1543622386000|Mozilla/5.0 (Wind...|1380462|1543622386|2018-11-30 23:59:46|\n",
            "|            Bon Iver| Logged In|   Aakash|     M|           22|  Reynolds|238.49751| free|Washington-Arling...|   PUT|       NextSong|1537488773000|   146716|         Skinny Love|   200|1543622386000|\"Mozilla/5.0 (Mac...|1740343|1543622386|2018-11-30 23:59:46|\n",
            "|                null| Logged In|  Carmelo|     M|          143|   Walters|     null| paid|Chicago-Napervill...|   PUT|     Add Friend|1537717058000|   229308|                null|   307|1543622386000|Mozilla/5.0 (Wind...|1595943|1543622386|2018-11-30 23:59:46|\n",
            "|           John Parr| Logged In|    Micah|     M|          136|      Huff|251.79383| paid|San Diego-Carlsba...|   PUT|       NextSong|1536533459000|   226271|St. Elmos Fire ( ...|   200|1543622386000|\"Mozilla/5.0 (Win...|1073361|1543622386|2018-11-30 23:59:46|\n",
            "|           The Dodos| Logged In|  Allyson|     F|           48|     Lewis| 55.01342| paid|Phoenix-Mesa-Scot...|   PUT|       NextSong|1537215469000|   238230|             Eyelids|   200|1543622386000|\"Mozilla/5.0 (Win...|1478936|1543622386|2018-11-30 23:59:46|\n",
            "|     Blue Foundation| Logged In|    Aayan|     M|           52|    Palmer|302.13179| free|San Diego-Carlsba...|   PUT|       NextSong|1536503060000|   236362|        Eyes On Fire|   200|1543622385000|\"Mozilla/5.0 (Mac...|1228483|1543622385|2018-11-30 23:59:45|\n",
            "|                null| Logged In|     Luke|     M|            8|     Clark|     null| paid|Chicago-Napervill...|   PUT|     Add Friend|1536835438000|   236378|                null|   307|1543622385000|\"Mozilla/5.0 (Mac...|1779438|1543622385|2018-11-30 23:59:45|\n",
            "|        Rise Against| Logged In| Savannah|     F|            0|     Gomez|199.18322| paid|San Francisco-Oak...|   PUT|       NextSong|1533255046000|   238353|           Injection|   200|1543622385000|\"Mozilla/5.0 (Mac...|1269821|1543622385|2018-11-30 23:59:45|\n",
            "|      Wisin & Yandel| Logged In|   Kailyn|     F|          376|      Kerr|232.46322| paid|Phoenix-Mesa-Scot...|   PUT|       NextSong|1537028474000|   235666|               Pegao|   200|1543622385000|\"Mozilla/5.0 (Win...|1129660|1543622385|2018-11-30 23:59:45|\n",
            "|Florence + The Ma...| Logged In|  Carmelo|     M|          142|   Walters|219.66322| paid|Chicago-Napervill...|   PUT|       NextSong|1537717058000|   229308|Dog Days Are Over...|   200|1543622385000|Mozilla/5.0 (Wind...|1595943|1543622385|2018-11-30 23:59:45|\n",
            "|Prince & The Revo...| Logged In|    Ethan|     M|           93|     Stark|280.00608| free|Detroit-Warren-De...|   PUT|       NextSong|1535606292000|   195602|Let's Go Crazy (L...|   200|1543622384000|\"Mozilla/5.0 (Win...|1990326|1543622384|2018-11-30 23:59:44|\n",
            "|         Mark Farina| Logged In|  Natalie|     F|          198|    Foster|325.38077| paid|       Johnstown, PA|   PUT|       NextSong|1537654002000|   237578|       Dream Machine|   200|1543622384000|Mozilla/5.0 (comp...|1457427|1543622384|2018-11-30 23:59:44|\n",
            "|                null| Logged In|     Luke|     M|            7|     Clark|     null| paid|Chicago-Napervill...|   PUT|     Add Friend|1536835438000|   236378|                null|   307|1543622384000|\"Mozilla/5.0 (Mac...|1779438|1543622384|2018-11-30 23:59:44|\n",
            "|Selena Gomez & Th...| Logged In|   Sharod|     M|           40|   Bonilla|241.91955| free|San Jose-Sunnyval...|   PUT|       NextSong|1539179271000|    20000|           Naturally|   200|1543622384000|\"Mozilla/5.0 (Mac...|1293972|1543622384|2018-11-30 23:59:44|\n",
            "|           Rob Sonic| Logged In|   Emilia|     F|          201|     House|288.62649| paid|New York-Newark-J...|   PUT|       NextSong|1538336771000|    44052| Macomb's Dam Bridge|   200|1543622384000|Mozilla/5.0 (comp...|1047199|1543622384|2018-11-30 23:59:44|\n",
            "|           Grown Ups| Logged In|    Katie|     F|          145| Contreras|180.34893| paid|Tampa-St. Petersb...|   PUT|       NextSong|1538348388000|   191688|        Weed Science|   200|1543622383000|\"Mozilla/5.0 (Win...|1151997|1543622383|2018-11-30 23:59:43|\n",
            "|         Cat Stevens| Logged In|    Sarah|     F|          111|      Hays|223.32036| paid|  Urban Honolulu, HI|   PUT|       NextSong|1536670277000|    43942|   Lady D'Arbanville|   200|1543622383000|\"Mozilla/5.0 (Win...|1500075|1543622383|2018-11-30 23:59:43|\n",
            "|            Megadeth| Logged In|     Luke|     M|            6|     Clark|318.17098| paid|Chicago-Napervill...|   PUT|       NextSong|1536835438000|   236378| Washington Is Next!|   200|1543622383000|\"Mozilla/5.0 (Mac...|1779438|1543622383|2018-11-30 23:59:43|\n",
            "|              Eminem| Logged In|  Ezekiel|     M|           64|    Rogers|284.18567| paid|Riverside-San Ber...|   PUT|       NextSong|1535806816000|   232713| The Real Slim Shady|   200|1543622383000|\"Mozilla/5.0 (Mac...|1994780|1543622383|2018-11-30 23:59:43|\n",
            "|           Blink-182| Logged In|    Galia|     F|          111|   Schmitt|257.69751| paid|        Cheyenne, WY|   PUT|       NextSong|1535574494000|   238215|              Always|   200|1543622383000|Mozilla/5.0 (Wind...|1089821|1543622383|2018-11-30 23:59:43|\n",
            "|Los Cadetes de Li...| Logged In|   Brooke|     F|          198|     Scott|138.86649| paid|        Richmond, VA|   PUT|       NextSong|1528744656000|   233775|Dos Coronas A Mi ...|   200|1543622383000|\"Mozilla/5.0 (Mac...|1268344|1543622383|2018-11-30 23:59:43|\n",
            "|  DAVE MATTHEWS BAND| Logged In|    Avery|     F|           40|    Garcia|220.47302| free|Riverside-San Ber...|   PUT|       NextSong|1538113779000|   218103|     Out Of My Hands|   200|1543622382000|\"Mozilla/5.0 (Mac...|1966122|1543622382|2018-11-30 23:59:42|\n",
            "|         Iron Maiden| Logged In|   Sophia|     F|          155| Armstrong|399.15057| paid|Atlanta-Sandy Spr...|   PUT|       NextSong|1537387731000|    44435|The Edge Of Darkness|   200|1543622382000|Mozilla/5.0 (X11;...|1898251|1543622382|2018-11-30 23:59:42|\n",
            "|                null| Logged In|Annabelle|     F|           51|    Miller|     null| paid|   Bowling Green, KY|   GET|          About|1534124400000|   237546|                null|   200|1543622382000|\"Mozilla/5.0 (X11...|1113656|1543622382|2018-11-30 23:59:42|\n",
            "|      Diamanda Galas| Logged In|     Jase|     M|           44|     Clark|391.26159| paid|         Wichita, KS|   PUT|       NextSong|1532850797000|   217041|See That My Grave...|   200|1543622382000|\"Mozilla/5.0 (Mac...|1254827|1543622382|2018-11-30 23:59:42|\n",
            "|             Gyptian| Logged In|     Alan|     M|           73|  Figueroa|211.04281| paid|Phoenix-Mesa-Scot...|   PUT|       NextSong|1533157748000|    42359|Love Against the ...|   200|1543622381000|\"Mozilla/5.0 (Win...|1524966|1543622381|2018-11-30 23:59:41|\n",
            "|            Sea Wolf| Logged In|   Corbin|     M|           19|     Ortiz|207.67302| free|New York-Newark-J...|   PUT|       NextSong|1532345856000|   232865|Middle Distance R...|   200|1543622381000|\"Mozilla/5.0 (Win...|1146733|1543622381|2018-11-30 23:59:41|\n",
            "|               Tycho| Logged In|  Sabryna|     F|          150|     Welch|371.53914| paid|Denver-Aurora-Lak...|   PUT|       NextSong|1536428442000|    44421|      The Disconnect|   200|1543622381000|Mozilla/5.0 (Maci...|1994489|1543622381|2018-11-30 23:59:41|\n",
            "|          Kanye West| Logged In|   Fatima|     F|          107|       Liu|311.84934| paid|Washington-Arling...|   PUT|       NextSong|1533353711000|   239103|            Stronger|   200|1543622381000|\"Mozilla/5.0 (X11...|1939860|1543622381|2018-11-30 23:59:41|\n",
            "|         Linkin Park| Logged In| Isabella|     F|           55|     Clark|197.51138| paid|       Flagstaff, AZ|   PUT|       NextSong|1531496626000|   221796|Figure.09 (Album ...|   200|1543622380000|\"Mozilla/5.0 (Mac...|1031571|1543622380|2018-11-30 23:59:40|\n",
            "|           Radiohead| Logged In|  Anthony|     M|           60| Hernandez| 235.7024| paid|New Haven-Milford...|   PUT|       NextSong|1537850867000|   231536|    Creep (Explicit)|   200|1543622380000|Mozilla/5.0 (comp...|1510781|1543622380|2018-11-30 23:59:40|\n",
            "+--------------------+----------+---------+------+-------------+----------+---------+-----+--------------------+------+---------------+-------------+---------+--------------------+------+-------------+--------------------+-------+----------+-------------------+\n",
            "only showing top 100 rows\n",
            "\n"
          ],
          "name": "stdout"
        }
      ]
    },
    {
      "cell_type": "code",
      "metadata": {
        "id": "-fXUtNk0Hay8",
        "colab": {
          "base_uri": "https://localhost:8080/"
        },
        "outputId": "4b3868b3-6651-4f21-a7d3-e38414c4b5cd"
      },
      "source": [
        "df.filter(df.userId == 1517899) \\\r\n",
        "  .select([\"page\", \"song\", \"length\", \"ts\", \"itemInSession\", \"sessionId\"]) \\\r\n",
        "  .withColumn(\"date\", F.col(\"ts\").cast(T.TimestampType())) \\\r\n",
        "  .sort(df.ts) \\\r\n",
        "  .show(200)"
      ],
      "execution_count": null,
      "outputs": [
        {
          "output_type": "stream",
          "text": [
            "+---------------+--------------------+---------+-------------+-------------+---------+--------------------+\n",
            "|           page|                song|   length|           ts|itemInSession|sessionId|                date|\n",
            "+---------------+--------------------+---------+-------------+-------------+---------+--------------------+\n",
            "|           Home|                null|     null|1538652632000|            1|      445|+50727-12-18 12:5...|\n",
            "|       NextSong|           Auto Rock|260.64934|1538652649000|            2|      445|+50727-12-18 17:3...|\n",
            "|Add to Playlist|                null|     null|1538652653000|            3|      445|+50727-12-18 18:4...|\n",
            "|       NextSong|Love Gone To Wast...|253.88363|1538652909000|            4|      445|+50727-12-21 17:5...|\n",
            "|       NextSong|         Ups & Downs|207.25506|1538653162000|            5|      445|+50727-12-24 16:0...|\n",
            "|      Thumbs Up|                null|     null|1538653163000|            6|      445|+50727-12-24 16:2...|\n",
            "|       NextSong|     Heads Will Roll|220.96934|1538653369000|            7|      445|+50727-12-27 01:3...|\n",
            "|       NextSong|            The Word|225.67138|1538653589000|            8|      445|+50727-12-29 14:4...|\n",
            "|       NextSong|           White Sky| 178.6771|1538653814000|            9|      445|+50728-01-01 05:1...|\n",
            "|       NextSong|Are We In Trouble...|360.38485|1538653992000|           10|      445|+50728-01-03 06:4...|\n",
            "|      Thumbs Up|                null|     null|1538653993000|           11|      445|+50728-01-03 06:5...|\n",
            "|       NextSong|Voices On A Strin...|214.43873|1538654352000|           12|      445|+50728-01-07 10:4...|\n",
            "|       NextSong|I Want To Know Wh...|301.11302|1538654566000|           13|      445|+50728-01-09 22:0...|\n",
            "|       NextSong|                XRDS|300.19873|1538654867000|           14|      445|+50728-01-13 09:4...|\n",
            "|       NextSong|          Tighten Up|211.01669|1538655167000|           15|      445|+50728-01-16 21:0...|\n",
            "|    Roll Advert|                null|     null|1538655225000|           16|      445|+50728-01-17 13:1...|\n",
            "|       NextSong|            Everlong|250.14812|1538655378000|           17|      445|+50728-01-19 07:4...|\n",
            "|       NextSong|                K.O.| 233.1424|1538655628000|           18|      445|+50728-01-22 05:0...|\n",
            "|       NextSong|Now I'm High_ Rea...| 261.0673|1538655861000|           19|      445|+50728-01-24 21:5...|\n",
            "|Add to Playlist|                null|     null|1538655943000|           20|      445|+50728-01-25 20:3...|\n",
            "|       NextSong|   Puntos Cardinales|284.62975|1538656122000|           21|      445|+50728-01-27 22:2...|\n",
            "|       NextSong|        Soul Drummer|229.58975|1538656406000|           22|      445|+50728-01-31 05:1...|\n",
            "|       NextSong|DÃÂ©jenme si est...|260.70159|1538656635000|           23|      445|+50728-02-02 20:5...|\n",
            "|       NextSong|    Lips Of An Angel|262.05995|1538656895000|           24|      445|+50728-02-05 21:0...|\n",
            "|    Roll Advert|                null|     null|1538656914000|           25|      445|+50728-02-06 02:2...|\n",
            "|       NextSong|    Ein Teil von Mir|213.44608|1538657157000|           26|      445|+50728-02-08 21:5...|\n",
            "|       NextSong|Anomaly: Calling ...|394.26567|1538657370000|           27|      445|+50728-02-11 09:0...|\n",
            "|         Logout|                null|     null|1538657371000|           28|      445|+50728-02-11 09:1...|\n",
            "|           Home|                null|     null|1538657585000|           33|      445|+50728-02-13 20:4...|\n",
            "|       NextSong|   This Charming Man|163.05587|1538657764000|           34|      445|+50728-02-15 22:2...|\n",
            "|       NextSong|       Soulful Dress|169.50812|1538657927000|           35|      445|+50728-02-17 19:4...|\n",
            "|      Thumbs Up|                null|     null|1538657928000|           36|      445|+50728-02-17 20:0...|\n",
            "|Add to Playlist|                null|     null|1538657934000|           37|      445|+50728-02-17 21:4...|\n",
            "|       NextSong|Don't Close Your ...|251.42812|1538658096000|           38|      445|+50728-02-19 18:4...|\n",
            "|       NextSong|How Do You Like I...|273.68444|1538658347000|           39|      445|+50728-02-22 16:2...|\n",
            "|    Roll Advert|                null|     null|1538658399000|           40|      445|+50728-02-23 06:5...|\n",
            "|       NextSong|Walzer Nr. 7 op. ...|208.03873|1538658620000|           41|      445|+50728-02-25 20:1...|\n",
            "|       NextSong|Voices On A Strin...|214.43873|1538658828000|           42|      445|+50728-02-28 06:0...|\n",
            "|       NextSong|Try Sleeping With...|249.02485|1538659042000|           43|      445|+50728-03-01 17:2...|\n",
            "|       NextSong|    Hotel California|372.29669|1538659291000|           44|      445|+50728-03-04 14:3...|\n",
            "|       NextSong|     What Up Gangsta|179.51302|1538659663000|           45|      445|+50728-03-08 21:5...|\n",
            "|    Roll Advert|                null|     null|1538659776000|           46|      445|+50728-03-10 05:2...|\n",
            "|         Logout|                null|     null|1538659777000|           47|      445|+50728-03-10 05:3...|\n",
            "|           Home|                null|     null|1538659905000|           51|      445|+50728-03-11 17:1...|\n",
            "|       NextSong|          Days Go By|428.01587|1539009714000|            0|     6202|+50739-04-12 10:2...|\n",
            "|       NextSong|Rain Is A Good Thing|175.17669|1539010142000|            1|     6202|+50739-04-17 09:1...|\n",
            "|          About|                null|     null|1539010152000|            2|     6202|+50739-04-17 12:0...|\n",
            "|       NextSong| I Will Not Reap ...|238.13179|1539733122000|            0|     8017|+50762-03-15 05:0...|\n",
            "|        Upgrade|                null|     null|1539733153000|            1|     8017|+50762-03-15 13:3...|\n",
            "| Submit Upgrade|                null|     null|1539733154000|            2|     8017|+50762-03-15 13:5...|\n",
            "|           Home|                null|     null|1539733235000|            3|     8017|+50762-03-16 12:2...|\n",
            "|       NextSong|Un Poco De Diente...|178.52036|1539733360000|            4|     8017|+50762-03-17 23:0...|\n",
            "|       NextSong|             Revelry|201.79546|1539733538000|            5|     8017|+50762-03-20 00:3...|\n",
            "|       NextSong|           Boom Boom| 147.1473|1539733739000|            6|     8017|+50762-03-22 08:2...|\n",
            "|       NextSong|  We Are All We Have|186.61832|1539733886000|            7|     8017|+50762-03-24 01:1...|\n",
            "|       NextSong|A Beggar On A Bea...|275.12118|1539763721000|            0|    11320|+50763-03-04 08:4...|\n",
            "|       NextSong|                 Yes|426.55302|1539763996000|            1|    11320|+50763-03-07 13:0...|\n",
            "|       NextSong|        Running Away|222.56281|1539764422000|            2|    11320|+50763-03-12 11:2...|\n",
            "|       NextSong|    Tears Don't Fall|348.39465|1539764644000|            3|    11320|+50763-03-15 01:0...|\n",
            "|       NextSong|       I'll Be There|263.94077|1539764992000|            4|    11320|+50763-03-19 01:4...|\n",
            "|       NextSong|Father_ I Put My ...|229.53751|1539765255000|            5|    11320|+50763-03-22 02:5...|\n",
            "|       NextSong|     Who Can Compare|266.86649|1539765484000|            6|    11320|+50763-03-24 18:2...|\n",
            "|       NextSong|             Paraiso| 257.4624|1539765750000|            7|    11320|+50763-03-27 20:2...|\n",
            "|       NextSong|I Don't Wanna Kno...|257.35791|1539766007000|            8|    11320|+50763-03-30 19:4...|\n",
            "|       NextSong|      Rayando el sol|252.86485|1539766264000|            9|    11320|+50763-04-02 19:0...|\n",
            "|       NextSong|      Hasta La Vista|155.01016|1539766516000|           10|    11320|+50763-04-05 17:0...|\n",
            "|       NextSong|  City Of The Angels|557.16526|1539766671000|           11|    11320|+50763-04-07 12:1...|\n",
            "|       NextSong|        High On Life|231.36608|1539767228000|           12|    11320|+50763-04-13 22:5...|\n",
            "|    Thumbs Down|                null|     null|1539767229000|           13|    11320|+50763-04-13 23:1...|\n",
            "|           Help|                null|     null|1539767238000|           14|    11320|+50763-04-14 01:4...|\n",
            "|       NextSong|          You Got Me|259.26485|1539767459000|           15|    11320|+50763-04-16 15:0...|\n",
            "|       NextSong|          Wrong Love|208.03873|1539767718000|           16|    11320|+50763-04-19 15:0...|\n",
            "|       NextSong|The Bachelor and ...|252.81261|1539767926000|           17|    11320|+50763-04-22 00:4...|\n",
            "|       NextSong|   Judith (Explicit)|247.32689|1539768178000|           18|    11320|+50763-04-24 22:4...|\n",
            "|       NextSong|Love For The Unde...| 97.04444|1539768425000|           19|    11320|+50763-04-27 19:2...|\n",
            "|       Settings|                null|     null|1539768539000|           20|    11320|+50763-04-29 03:0...|\n",
            "|      Downgrade|                null|     null|1539768634000|           21|    11320|+50763-04-30 05:2...|\n",
            "|         Logout|                null|     null|1539768635000|           22|    11320|+50763-04-30 05:4...|\n",
            "|           Home|                null|     null|1539946637000|            2|    11434|+50768-12-19 10:4...|\n",
            "|       NextSong|The Garden You Pl...|241.76281|1540221568000|            0|    12196|+50777-09-05 12:2...|\n",
            "|       NextSong|                5.45|222.53669|1540221809000|            1|    12196|+50777-09-08 07:2...|\n",
            "|       NextSong|     Who Can Compare|266.86649|1540222031000|            2|    12196|+50777-09-10 21:0...|\n",
            "|       NextSong|        Birthday Sex|227.26485|1540222297000|            3|    12196|+50777-09-13 22:5...|\n",
            "|       NextSong|                Halo|261.74649|1540222524000|            4|    12196|+50777-09-16 14:0...|\n",
            "|       NextSong|    PortÃÂ© Disparu|234.78812|1540222785000|            5|    12196|+50777-09-19 14:3...|\n",
            "|       NextSong|           Too Young|198.03383|1540223019000|            6|    12196|+50777-09-22 07:3...|\n",
            "|       NextSong|The (Shipped) Gol...|198.76526|1540223217000|            7|    12196|+50777-09-24 14:3...|\n",
            "|       NextSong|  King Of The Stereo|222.56281|1540223415000|            8|    12196|+50777-09-26 21:3...|\n",
            "|       NextSong|Dans Ma Bulle (Ed...|250.72281|1540223637000|            9|    12196|+50777-09-29 11:1...|\n",
            "|       Settings|                null|     null|1540223833000|           10|    12196|+50777-10-01 17:3...|\n",
            "|  Save Settings|                null|     null|1540223834000|           11|    12196|+50777-10-01 17:5...|\n",
            "|       Settings|                null|     null|1540223978000|           12|    12196|+50777-10-03 09:5...|\n",
            "|           Home|                null|     null|1540224015000|           13|    12196|+50777-10-03 20:1...|\n",
            "|       NextSong|           O Hosanna|294.47791|1540224090000|           14|    12196|+50777-10-04 17:0...|\n",
            "|       NextSong|King Without A Crown|222.37995|1540224384000|           15|    12196|+50777-10-08 02:4...|\n",
            "|       NextSong| California Dreamin'|157.70077|1540224606000|           16|    12196|+50777-10-10 16:2...|\n",
            "|       NextSong|                 Kid|190.87628|1540224763000|           17|    12196|+50777-10-12 11:5...|\n",
            "|       NextSong|         Crown Royal|108.69506|1540224953000|           18|    12196|+50777-10-14 16:4...|\n",
            "|       NextSong|          Carries On|271.43791|1540225061000|           19|    12196|+50777-10-15 22:4...|\n",
            "|       NextSong| The Ecstasy Of Gold|152.60689|1540225332000|           20|    12196|+50777-10-19 02:0...|\n",
            "|       NextSong|         SeminarÃÂ©|207.01995|1540225484000|           21|    12196|+50777-10-20 20:1...|\n",
            "|       NextSong|     No Woman No Cry|340.63628|1540225691000|           22|    12196|+50777-10-23 05:4...|\n",
            "|       NextSong|           Shakawkaw|248.92036|1540226031000|           23|    12196|+50777-10-27 04:1...|\n",
            "|       NextSong|     When I Get Home| 99.60444|1540226279000|           24|    12196|+50777-10-30 01:0...|\n",
            "|       NextSong|I Need You (Album...|247.97995|1540226378000|           25|    12196|+50777-10-31 04:3...|\n",
            "|       NextSong|    It's Not My Time|241.91955|1540226625000|           26|    12196|+50777-11-03 01:1...|\n",
            "|     Add Friend|                null|     null|1540226626000|           27|    12196|+50777-11-03 01:2...|\n",
            "|     Add Friend|                null|     null|1540226627000|           28|    12196|+50777-11-03 01:4...|\n",
            "|       NextSong|Life Could Be So ...|281.39057|1540226866000|           29|    12196|+50777-11-05 20:0...|\n",
            "|       NextSong|I'm In The Mood F...|149.18485|1540227147000|           30|    12196|+50777-11-09 02:1...|\n",
            "|      Thumbs Up|                null|     null|1540227148000|           31|    12196|+50777-11-09 02:2...|\n",
            "|       NextSong|           I Like Me|185.57342|1540227296000|           32|    12196|+50777-11-10 19:3...|\n",
            "|       NextSong|   All Men Are Liars|203.75465|1540227481000|           33|    12196|+50777-11-12 22:5...|\n",
            "|       NextSong|              Oregon| 234.9971|1540227684000|           34|    12196|+50777-11-15 07:2...|\n",
            "|       NextSong|           Hong Kong|141.24363|1540227918000|           35|    12196|+50777-11-18 00:2...|\n",
            "|       NextSong|Heaven Must Be Mi...|394.00444|1540228059000|           36|    12196|+50777-11-19 15:3...|\n",
            "|       NextSong|             Revelry|201.79546|1540228453000|           37|    12196|+50777-11-24 04:5...|\n",
            "|       NextSong|Superman (It's No...|221.09995|1540228654000|           38|    12196|+50777-11-26 12:4...|\n",
            "|Add to Playlist|                null|     null|1540228760000|           39|    12196|+50777-11-27 18:1...|\n",
            "|       NextSong|       Sehr kosmisch|655.77751|1540228875000|           40|    12196|+50777-11-29 02:1...|\n",
            "|       NextSong|                Undo|348.57751|1540229530000|           41|    12196|+50777-12-06 16:0...|\n",
            "|       NextSong|Disease (Album Ve...|218.72281|1540229878000|           42|    12196|+50777-12-10 16:4...|\n",
            "|       NextSong|              Piedad|230.76526|1540230096000|           43|    12196|+50777-12-13 05:2...|\n",
            "|       NextSong|     Run_ Don't Walk|222.98077|1540230326000|           44|    12196|+50777-12-15 21:1...|\n",
            "|       NextSong|        Dance_ Dance|180.24444|1540230548000|           45|    12196|+50777-12-18 10:5...|\n",
            "|       NextSong|         Bulletproof|205.60934|1540230728000|           46|    12196|+50777-12-20 12:5...|\n",
            "|       NextSong|     Ch-Check It Out|190.06649|1540230933000|           47|    12196|+50777-12-22 21:5...|\n",
            "|       NextSong|             Revelry|201.79546|1540504242000|            0|    13057|+50786-08-21 05:0...|\n",
            "|Add to Playlist|                null|     null|1540504633000|            1|    13057|+50786-08-25 17:3...|\n",
            "|       NextSong|Reason I'm Alive ...|229.35465|1540504869000|            2|    13057|+50786-08-28 11:1...|\n",
            "|      Thumbs Up|                null|     null|1540504870000|            3|    13057|+50786-08-28 11:2...|\n",
            "|       NextSong|Dude (Looks Like ...|263.65342|1540505098000|            4|    13057|+50786-08-31 02:4...|\n",
            "|       NextSong|         One One One|214.09914|1540505361000|            5|    13057|+50786-09-03 03:5...|\n",
            "|       NextSong|            Bluebird|190.11873|1540505575000|            6|    13057|+50786-09-05 15:1...|\n",
            "|       NextSong|                  Up|234.91873|1540505765000|            7|    13057|+50786-09-07 20:0...|\n",
            "|       NextSong|             Invalid|233.69098|1540505999000|            8|    13057|+50786-09-10 13:0...|\n",
            "|       NextSong| Dejando Atras A Mas|296.85506|1540506232000|            9|    13057|+50786-09-13 05:4...|\n",
            "|       NextSong|   Master Of Puppets|515.21261|1540506528000|           10|    13057|+50786-09-16 16:0...|\n",
            "|       NextSong|Chelsea Burns (Li...|255.32036|1540507043000|           11|    13057|+50786-09-22 15:0...|\n",
            "|       NextSong|     Walcott (Album)|221.64853|1540507298000|           12|    13057|+50786-09-25 13:5...|\n",
            "|       Settings|                null|     null|1540507309000|           13|    13057|+50786-09-25 16:5...|\n",
            "|       NextSong|    A Thousand Years|181.81179|1540507519000|           14|    13057|+50786-09-28 03:1...|\n",
            "|       NextSong|          Substitute|207.96036|1540507700000|           15|    13057|+50786-09-30 05:3...|\n",
            "|       NextSong|Unite (2009 Digit...|  211.722|1540507907000|           16|    13057|+50786-10-02 15:0...|\n",
            "|       NextSong|           Damn Girl|312.42404|1540508118000|           17|    13057|+50786-10-05 01:4...|\n",
            "|       NextSong|             Toy Box| 46.99383|1540543759000|            0|    14093|+50787-11-21 13:5...|\n",
            "|       NextSong|Always On My Mind...|269.53098|1540543805000|            1|    14093|+50787-11-22 02:4...|\n",
            "|       NextSong|           Hora Zero|324.51873|1540544074000|            2|    14093|+50787-11-25 05:2...|\n",
            "|       NextSong|  In Orbem Universum|330.91873|1540544398000|            3|    14093|+50787-11-28 23:2...|\n",
            "|       NextSong|I'll Try Anything...| 195.7873|1540544728000|            4|    14093|+50787-12-02 19:0...|\n",
            "|       NextSong|Ye Ying Qu (Album...|167.44444|1540544923000|            5|    14093|+50787-12-05 01:1...|\n",
            "|       NextSong|   Hey There Delilah|  232.202|1540545090000|            6|    14093|+50787-12-06 23:4...|\n",
            "|       NextSong|   Lady On the Water|146.46812|1540545322000|            7|    14093|+50787-12-09 16:0...|\n",
            "|       NextSong|          Tighten Up|211.01669|1540545468000|            8|    14093|+50787-12-11 08:4...|\n",
            "|       NextSong|Love Walks In (Re...|311.61424|1540545679000|            9|    14093|+50787-12-13 19:1...|\n",
            "|       NextSong|Marrakesh Express...|159.11138|1540545990000|           10|    14093|+50787-12-17 09:4...|\n",
            "|      Thumbs Up|                null|     null|1540545991000|           11|    14093|+50787-12-17 09:5...|\n",
            "|       NextSong| Think About The Way|261.01506|1540546149000|           12|    14093|+50787-12-19 05:5...|\n",
            "|       NextSong|God's Got An Army...|262.81751|1540546410000|           13|    14093|+50787-12-22 06:2...|\n",
            "|      Thumbs Up|                null|     null|1540546411000|           14|    14093|+50787-12-22 06:3...|\n",
            "|Add to Playlist|                null|     null|1540546711000|           15|    14093|+50787-12-25 17:5...|\n",
            "|       NextSong|         AlevosÃÂ­a| 383.4771|1540546741000|           16|    14093|+50787-12-26 02:1...|\n",
            "|          Error|                null|     null|1540546846000|           17|    14093|+50787-12-27 07:2...|\n",
            "|       NextSong|Betrayed (Album V...| 406.5171|1540547124000|           18|    14093|+50787-12-30 12:4...|\n",
            "|       NextSong|  LDN (Switch Remix)| 377.3122|1540547530000|           19|    14093|+50788-01-04 05:2...|\n",
            "|       NextSong|        Are You Down|235.80689|1540547907000|           20|    14093|+50788-01-08 14:1...|\n",
            "|       NextSong|Un-thinkable (I'm...|249.23383|1540548142000|           21|    14093|+50788-01-11 07:2...|\n",
            "|       NextSong|        Eenie Meenie| 201.9522|1540548391000|           22|    14093|+50788-01-14 04:3...|\n",
            "|       NextSong|         Double Soul|225.59302|1540548592000|           23|    14093|+50788-01-16 12:2...|\n",
            "|       NextSong|              S.O.S.|153.46893|1540548817000|           24|    14093|+50788-01-19 02:5...|\n",
            "|       NextSong|    Killing For Love|182.93506|1540548970000|           25|    14093|+50788-01-20 21:2...|\n",
            "|       NextSong|             Breathe|282.27873|1540549152000|           26|    14093|+50788-01-23 00:0...|\n",
            "|       NextSong|Empty Rooms (Live...|506.01751|1540549434000|           27|    14093|+50788-01-26 06:2...|\n",
            "|       NextSong|Cearc Agus Coilea...|142.81098|1540549940000|           28|    14093|+50788-02-01 02:5...|\n",
            "|       NextSong|             Omstart|  278.282|1540550082000|           29|    14093|+50788-02-02 18:2...|\n",
            "|       NextSong|Secret Kingdom (G...|200.54159|1540550360000|           30|    14093|+50788-02-05 23:3...|\n",
            "|       NextSong|Children Of The N...|285.04771|1540550560000|           31|    14093|+50788-02-08 07:0...|\n",
            "|       NextSong|   My Body Is A Cage|287.26812|1540550845000|           32|    14093|+50788-02-11 14:1...|\n",
            "|       NextSong|              Drawer|240.79628|1540551132000|           33|    14093|+50788-02-14 22:0...|\n",
            "|       NextSong|     Yuppie Cadillac|271.33342|1540551372000|           34|    14093|+50788-02-17 16:4...|\n",
            "|       NextSong|Forever in Ebony ...|360.17587|1540551643000|           35|    14093|+50788-02-20 19:5...|\n",
            "|       NextSong|     Don't Hold Back|194.53342|1540552003000|           36|    14093|+50788-02-24 23:5...|\n",
            "|       NextSong|    Me Demoro (vivo)|255.92118|1540552197000|           37|    14093|+50788-02-27 05:5...|\n",
            "|       NextSong|      Drop The World|229.58975|1540552452000|           38|    14093|+50788-03-01 04:4...|\n",
            "|       NextSong|     Doctor! Doctor!|277.68118|1540552681000|           39|    14093|+50788-03-03 20:1...|\n",
            "|       NextSong|Feiticeira (LP Ve...|189.75302|1540552958000|           40|    14093|+50788-03-07 01:1...|\n",
            "|       NextSong|            Float On|209.52771|1540553147000|           41|    14093|+50788-03-09 05:4...|\n",
            "|       NextSong|     Naked As We Can|153.05098|1540553356000|           42|    14093|+50788-03-11 15:4...|\n",
            "|       NextSong|Favorite Son [fea...|160.23465|1540553509000|           43|    14093|+50788-03-13 10:1...|\n",
            "|       NextSong|           Dollhouse|248.34567|1540553669000|           44|    14093|+50788-03-15 06:4...|\n",
            "|       NextSong|Waters Of Nazaret...|265.16853|1540553917000|           45|    14093|+50788-03-18 03:3...|\n",
            "|       NextSong|Broken Compass (A...|233.69098|1540554182000|           46|    14093|+50788-03-21 05:1...|\n",
            "|       NextSong|      Kick The Chair|237.60934|1540554415000|           47|    14093|+50788-03-23 21:5...|\n",
            "|       NextSong|Reason I'm Alive ...|229.35465|1540554652000|           48|    14093|+50788-03-26 15:4...|\n",
            "|      Thumbs Up|                null|     null|1540554653000|           49|    14093|+50788-03-26 16:0...|\n",
            "|       NextSong|        Already Gone| 281.5473|1540554881000|           50|    14093|+50788-03-29 07:2...|\n",
            "|       NextSong|                Body|371.33016|1540555162000|           51|    14093|+50788-04-01 13:2...|\n",
            "|       NextSong|Right Now (Remast...|322.61179|1540555533000|           52|    14093|+50788-04-05 20:3...|\n",
            "|       NextSong|    Johnny Come Home|215.74485|1540555855000|           53|    14093|+50788-04-09 13:5...|\n",
            "|       NextSong|        Use Somebody|231.26159|1540556070000|           54|    14093|+50788-04-12 01:4...|\n",
            "+---------------+--------------------+---------+-------------+-------------+---------+--------------------+\n",
            "only showing top 200 rows\n",
            "\n"
          ],
          "name": "stdout"
        }
      ]
    },
    {
      "cell_type": "code",
      "metadata": {
        "id": "WKWyW2dC7FU4",
        "colab": {
          "base_uri": "https://localhost:8080/"
        },
        "outputId": "b75701d9-501c-491a-c34a-25a01f49d809"
      },
      "source": [
        "df.select(\"user\").filter(df.page == \"Submit Upgrade\")."
      ],
      "execution_count": null,
      "outputs": [
        {
          "output_type": "execute_result",
          "data": {
            "text/plain": [
              "159"
            ]
          },
          "metadata": {
            "tags": []
          },
          "execution_count": 17
        }
      ]
    },
    {
      "cell_type": "code",
      "metadata": {
        "id": "VroNWfQXF79e",
        "colab": {
          "base_uri": "https://localhost:8080/"
        },
        "outputId": "01e686a4-4269-4363-9142-9ffb4742355b"
      },
      "source": [
        "df.select([\"userId\",\"page\",\"ts\", \"song\"]) \\\r\n",
        "  .filter(df.userId == 30) \\\r\n",
        "  .filter(df.page != 'NextSong') \\\r\n",
        "  .sort(\"ts\").show(150)"
      ],
      "execution_count": null,
      "outputs": [
        {
          "output_type": "stream",
          "text": [
            "+------+----------------+-------------+----+\n",
            "|userId|            page|           ts|song|\n",
            "+------+----------------+-------------+----+\n",
            "|    30| Add to Playlist|1538352905000|null|\n",
            "|    30|     Thumbs Down|1538356524000|null|\n",
            "|    30|       Thumbs Up|1538357649000|null|\n",
            "|    30|       Thumbs Up|1538357991000|null|\n",
            "|    30|     Roll Advert|1538360737000|null|\n",
            "|    30| Add to Playlist|1538361575000|null|\n",
            "|    30|      Add Friend|1538810631000|null|\n",
            "|    30|            Home|1538948226000|null|\n",
            "|    30|            Help|1538950549000|null|\n",
            "|    30|            Home|1538950593000|null|\n",
            "|    30|       Downgrade|1538953526000|null|\n",
            "|    30|       Thumbs Up|1538962841000|null|\n",
            "|    30|       Thumbs Up|1538963113000|null|\n",
            "|    30|            Home|1538965154000|null|\n",
            "|    30| Add to Playlist|1538966961000|null|\n",
            "|    30|       Thumbs Up|1538967448000|null|\n",
            "|    30| Add to Playlist|1538967453000|null|\n",
            "|    30|       Thumbs Up|1538967968000|null|\n",
            "|    30| Add to Playlist|1538967976000|null|\n",
            "|    30| Add to Playlist|1538968181000|null|\n",
            "|    30|       Thumbs Up|1538970478000|null|\n",
            "|    30|            Home|1538971191000|null|\n",
            "|    30|      Add Friend|1538971737000|null|\n",
            "|    30|       Thumbs Up|1538972604000|null|\n",
            "|    30|       Thumbs Up|1538977053000|null|\n",
            "|    30|            Home|1538977336000|null|\n",
            "|    30|       Thumbs Up|1538978501000|null|\n",
            "|    30|       Thumbs Up|1538985043000|null|\n",
            "|    30|      Add Friend|1538985421000|null|\n",
            "|    30|      Add Friend|1538985422000|null|\n",
            "|    30| Add to Playlist|1538985666000|null|\n",
            "|    30|        Settings|1538986292000|null|\n",
            "|    30|       Thumbs Up|1538987268000|null|\n",
            "|    30| Add to Playlist|1538990355000|null|\n",
            "|    30|           Error|1538990811000|null|\n",
            "|    30|       Downgrade|1538994201000|null|\n",
            "|    30|       Downgrade|1538995453000|null|\n",
            "|    30|Submit Downgrade|1538995454000|null|\n",
            "|    30|            Home|1538995509000|null|\n",
            "|    30| Add to Playlist|1538996261000|null|\n",
            "|    30|            Home|1538996870000|null|\n",
            "|    30|       Thumbs Up|1538997825000|null|\n",
            "|    30| Add to Playlist|1538998114000|null|\n",
            "|    30|         Upgrade|1539000958000|null|\n",
            "|    30|         Upgrade|1539001077000|null|\n",
            "|    30| Add to Playlist|1539001513000|null|\n",
            "|    30|       Thumbs Up|1539003011000|null|\n",
            "|    30|       Thumbs Up|1539003842000|null|\n",
            "|    30|     Roll Advert|1539004502000|null|\n",
            "|    30| Add to Playlist|1539005525000|null|\n",
            "|    30|            Home|1539005788000|null|\n",
            "|    30|       Thumbs Up|1539006315000|null|\n",
            "|    30|      Add Friend|1539007238000|null|\n",
            "|    30|      Add Friend|1539007239000|null|\n",
            "|    30|            Home|1539007249000|null|\n",
            "|    30|     Roll Advert|1539007439000|null|\n",
            "|    30|            Home|1539008217000|null|\n",
            "|    30|            Home|1539158867000|null|\n",
            "|    30|            Home|1539273182000|null|\n",
            "|    30|            Home|1539273245000|null|\n",
            "|    30|            Home|1539275685000|null|\n",
            "|    30|     Roll Advert|1539276951000|null|\n",
            "|    30|         Upgrade|1539277261000|null|\n",
            "|    30|       Thumbs Up|1539279893000|null|\n",
            "|    30|     Roll Advert|1539280865000|null|\n",
            "|    30|     Roll Advert|1539280873000|null|\n",
            "|    30|     Roll Advert|1539296131000|null|\n",
            "|    30|       Thumbs Up|1539296796000|null|\n",
            "|    30|     Roll Advert|1539297701000|null|\n",
            "|    30|       Thumbs Up|1539298966000|null|\n",
            "|    30|       Thumbs Up|1539300791000|null|\n",
            "|    30|         Upgrade|1539301073000|null|\n",
            "|    30|          Logout|1539301491000|null|\n",
            "|    30|            Home|1539615637000|null|\n",
            "|    30| Add to Playlist|1539615704000|null|\n",
            "|    30|     Roll Advert|1539617871000|null|\n",
            "|    30|            Home|1539618210000|null|\n",
            "|    30|       Thumbs Up|1539619820000|null|\n",
            "|    30|     Roll Advert|1539620841000|null|\n",
            "|    30|          Logout|1539620842000|null|\n",
            "|    30|            Home|1539620843000|null|\n",
            "|    30|     Roll Advert|1539621468000|null|\n",
            "|    30|     Roll Advert|1539621525000|null|\n",
            "|    30|       Thumbs Up|1539622196000|null|\n",
            "|    30|     Roll Advert|1539625118000|null|\n",
            "|    30| Add to Playlist|1539625638000|null|\n",
            "|    30| Add to Playlist|1539626977000|null|\n",
            "|    30|       Thumbs Up|1539628057000|null|\n",
            "|    30|          Logout|1539628620000|null|\n",
            "|    30|            Home|1539628843000|null|\n",
            "|    30|            Help|1539629166000|null|\n",
            "|    30|            Home|1539629830000|null|\n",
            "|    30|      Add Friend|1539629831000|null|\n",
            "|    30|        Settings|1539629845000|null|\n",
            "|    30|            Home|1539731438000|null|\n",
            "|    30|          Logout|1539731439000|null|\n",
            "|    30|            Home|1540070969000|null|\n",
            "|    30| Add to Playlist|1540271765000|null|\n",
            "|    30|     Roll Advert|1540272903000|null|\n",
            "|    30| Add to Playlist|1540273497000|null|\n",
            "|    30|     Roll Advert|1540273724000|null|\n",
            "|    30|     Thumbs Down|1540273893000|null|\n",
            "|    30|     Roll Advert|1540274147000|null|\n",
            "|    30|       Thumbs Up|1540549424000|null|\n",
            "|    30|            Home|1540549897000|null|\n",
            "|    30|       Thumbs Up|1540551210000|null|\n",
            "|    30|        Settings|1540554078000|null|\n",
            "|    30|     Roll Advert|1540554315000|null|\n",
            "|    30|      Add Friend|1540555328000|null|\n",
            "|    30|     Thumbs Down|1540653230000|null|\n",
            "|    30|     Roll Advert|1540654790000|null|\n",
            "|    30|     Roll Advert|1540656011000|null|\n",
            "|    30|     Roll Advert|1540657103000|null|\n",
            "|    30|            Home|1540658715000|null|\n",
            "|    30|     Roll Advert|1540658966000|null|\n",
            "|    30| Add to Playlist|1540659661000|null|\n",
            "|    30|          Logout|1540660819000|null|\n",
            "|    30|            Home|1540660921000|null|\n",
            "|    30|        Settings|1540662083000|null|\n",
            "|    30|     Roll Advert|1540662539000|null|\n",
            "|    30|        Settings|1540663929000|null|\n",
            "|    30|     Roll Advert|1540988576000|null|\n",
            "|    30|       Thumbs Up|1540989776000|null|\n",
            "|    30| Add to Playlist|1540989791000|null|\n",
            "|    30|          Logout|1540990827000|null|\n",
            "|    30|            Home|1540990864000|null|\n",
            "|    30|     Roll Advert|1540991842000|null|\n",
            "|    30|     Roll Advert|1540992218000|null|\n",
            "|    30|         Upgrade|1540993621000|null|\n",
            "|    30|      Add Friend|1540993622000|null|\n",
            "|    30|           About|1540993705000|null|\n",
            "|    30|       Thumbs Up|1540994382000|null|\n",
            "|    30|            Home|1540995277000|null|\n",
            "|    30|       Thumbs Up|1540996000000|null|\n",
            "|    30|     Roll Advert|1541000594000|null|\n",
            "|    30|     Roll Advert|1541000604000|null|\n",
            "|    30|     Roll Advert|1541001815000|null|\n",
            "|    30|         Upgrade|1541004043000|null|\n",
            "|    30| Add to Playlist|1541006779000|null|\n",
            "|    30|     Thumbs Down|1541006835000|null|\n",
            "|    30|       Thumbs Up|1541006996000|null|\n",
            "|    30|          Logout|1541007452000|null|\n",
            "|    30|            Home|1541007500000|null|\n",
            "|    30|     Roll Advert|1541008829000|null|\n",
            "|    30|     Roll Advert|1541009041000|null|\n",
            "|    30|     Roll Advert|1541044761000|null|\n",
            "|    30|          Logout|1541045013000|null|\n",
            "|    30|            Home|1541045078000|null|\n",
            "|    30|        Settings|1541045342000|null|\n",
            "|    30|         Upgrade|1541047271000|null|\n",
            "+------+----------------+-------------+----+\n",
            "only showing top 150 rows\n",
            "\n"
          ],
          "name": "stdout"
        }
      ]
    },
    {
      "cell_type": "code",
      "metadata": {
        "id": "FmiCVTU5yke6",
        "colab": {
          "base_uri": "https://localhost:8080/"
        },
        "outputId": "ea5164eb-1a23-441d-dff1-d4ba5d0237f3"
      },
      "source": [
        "df.filter(df.page == 'Submit Downgrade').count()"
      ],
      "execution_count": null,
      "outputs": [
        {
          "output_type": "execute_result",
          "data": {
            "text/plain": [
              "63"
            ]
          },
          "metadata": {
            "tags": []
          },
          "execution_count": 41
        }
      ]
    },
    {
      "cell_type": "code",
      "metadata": {
        "id": "zBBViT3PuRAJ",
        "colab": {
          "base_uri": "https://localhost:8080/"
        },
        "outputId": "892da6b8-aa99-473a-91d9-68023b59c9f7"
      },
      "source": [
        "df.filter(df.page.isin(\"Submit Downgrade\")).select([\"userId\"]).distinct().show(100)"
      ],
      "execution_count": null,
      "outputs": [
        {
          "output_type": "stream",
          "text": [
            "+------+\n",
            "|userId|\n",
            "+------+\n",
            "|    54|\n",
            "|    11|\n",
            "|    30|\n",
            "|    59|\n",
            "|    85|\n",
            "|    35|\n",
            "|100008|\n",
            "|100025|\n",
            "|300002|\n",
            "|    96|\n",
            "|   100|\n",
            "|    61|\n",
            "|   131|\n",
            "|   140|\n",
            "|300004|\n",
            "|300015|\n",
            "|    77|\n",
            "|100009|\n",
            "|300011|\n",
            "|100004|\n",
            "|200003|\n",
            "|100015|\n",
            "|300023|\n",
            "|100016|\n",
            "|    95|\n",
            "|    38|\n",
            "|   103|\n",
            "|    25|\n",
            "|200009|\n",
            "|200023|\n",
            "|    92|\n",
            "|    81|\n",
            "|100012|\n",
            "|200025|\n",
            "|200020|\n",
            "|   141|\n",
            "|     9|\n",
            "|    24|\n",
            "|    20|\n",
            "|200011|\n",
            "|    49|\n",
            "|300021|\n",
            "|    39|\n",
            "|    12|\n",
            "|   109|\n",
            "|    13|\n",
            "|200019|\n",
            "|    74|\n",
            "|100018|\n",
            "+------+\n",
            "\n"
          ],
          "name": "stdout"
        }
      ]
    },
    {
      "cell_type": "code",
      "metadata": {
        "id": "FllrGBGdKlC-",
        "colab": {
          "base_uri": "https://localhost:8080/"
        },
        "outputId": "eb5e6c22-2e64-4dde-ba69-dfbc9fe0f592"
      },
      "source": [
        "!gcloud auth login"
      ],
      "execution_count": null,
      "outputs": [
        {
          "output_type": "stream",
          "text": [
            "Go to the following link in your browser:\n",
            "\n",
            "    https://accounts.google.com/o/oauth2/auth?response_type=code&client_id=32555940559.apps.googleusercontent.com&redirect_uri=urn%3Aietf%3Awg%3Aoauth%3A2.0%3Aoob&scope=openid+https%3A%2F%2Fwww.googleapis.com%2Fauth%2Fuserinfo.email+https%3A%2F%2Fwww.googleapis.com%2Fauth%2Fcloud-platform+https%3A%2F%2Fwww.googleapis.com%2Fauth%2Fappengine.admin+https%3A%2F%2Fwww.googleapis.com%2Fauth%2Fcompute+https%3A%2F%2Fwww.googleapis.com%2Fauth%2Faccounts.reauth&state=L5hRywgsOtrjcwAGDfeMgF4QfW0NTW&prompt=consent&access_type=offline&code_challenge=nLreFFNWDBJjodvpR1cohN6ehdlb9OCQPmIKP9YmJ_E&code_challenge_method=S256\n",
            "\n",
            "Enter verification code: 4/1AY0e-g4GJKg3KXunOKbchK4S0qF0x-rtIfm8gPUrO_c3GLX4nLWK1E_mYDU\n",
            "\n",
            "You are now logged in as [afahmi13@gmail.com].\n",
            "Your current project is [None].  You can change this setting by running:\n",
            "  $ gcloud config set project PROJECT_ID\n"
          ],
          "name": "stdout"
        }
      ]
    },
    {
      "cell_type": "code",
      "metadata": {
        "id": "XI1CjLhUKeYt",
        "colab": {
          "base_uri": "https://localhost:8080/"
        },
        "outputId": "9078d3f3-0fb8-414b-c080-f6406f0c51ba"
      },
      "source": [
        "!gsutil cp gs://udacity-dsnd/sparkify_event_data.json /content/drive/MyDrive/datasets/sparkify_event_data.json"
      ],
      "execution_count": null,
      "outputs": [
        {
          "output_type": "stream",
          "text": [
            "Copying gs://udacity-dsnd/sparkify_event_data.json...\n",
            "/ [1 files][ 11.9 GiB/ 11.9 GiB]   50.1 MiB/s                                   \n",
            "Operation completed over 1 objects/11.9 GiB.                                     \n"
          ],
          "name": "stdout"
        }
      ]
    }
  ]
}