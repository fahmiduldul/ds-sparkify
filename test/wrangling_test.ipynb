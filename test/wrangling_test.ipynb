{
  "nbformat": 4,
  "nbformat_minor": 0,
  "metadata": {
    "orig_nbformat": 2,
    "colab": {
      "name": "wrangling_test.ipynb",
      "provenance": []
    },
    "kernelspec": {
      "name": "python3",
      "display_name": "Python 3"
    }
  },
  "cells": [
    {
      "cell_type": "code",
      "metadata": {
        "id": "Oc9tSch3AS3N",
        "outputId": "48e72401-6891-422c-b030-9c4a050de1c9",
        "colab": {
          "base_uri": "https://localhost:8080/"
        }
      },
      "source": [
        "!python3 -m pip install pyspark"
      ],
      "execution_count": 1,
      "outputs": [
        {
          "output_type": "stream",
          "text": [
            "Requirement already satisfied: pyspark in /usr/local/lib/python3.7/dist-packages (3.0.2)\n",
            "Requirement already satisfied: py4j==0.10.9 in /usr/local/lib/python3.7/dist-packages (from pyspark) (0.10.9)\n"
          ],
          "name": "stdout"
        }
      ]
    },
    {
      "cell_type": "code",
      "metadata": {
        "id": "YC9i2CoYAaSP",
        "outputId": "407742ae-5000-4661-800a-fcc8430c8f6c",
        "colab": {
          "base_uri": "https://localhost:8080/"
        }
      },
      "source": [
        "from google.colab import drive\r\n",
        "drive.mount('/content/drive')"
      ],
      "execution_count": 2,
      "outputs": [
        {
          "output_type": "stream",
          "text": [
            "Drive already mounted at /content/drive; to attempt to forcibly remount, call drive.mount(\"/content/drive\", force_remount=True).\n"
          ],
          "name": "stdout"
        }
      ]
    },
    {
      "cell_type": "code",
      "metadata": {
        "id": "1zhdm4S9ApGB"
      },
      "source": [
        "from pyspark.sql import SparkSession"
      ],
      "execution_count": 3,
      "outputs": []
    },
    {
      "cell_type": "code",
      "metadata": {
        "id": "KcMI--DSAsoF"
      },
      "source": [
        "spark = SparkSession.builder \\\r\n",
        "  .appName('test') \\\r\n",
        "  .getOrCreate()"
      ],
      "execution_count": 4,
      "outputs": []
    },
    {
      "cell_type": "code",
      "metadata": {
        "id": "4V6NaynFAyZd"
      },
      "source": [
        "df = spark.read.json('/content/drive/MyDrive/datasets/mini_sparkify_event_data.json')"
      ],
      "execution_count": 5,
      "outputs": []
    },
    {
      "cell_type": "code",
      "metadata": {
        "id": "8XfP0QkoOPaq"
      },
      "source": [
        "df1 = spark.read.json('/content/drive/MyDrive/datasets/sparkify_event_data.json')"
      ],
      "execution_count": 30,
      "outputs": []
    },
    {
      "cell_type": "code",
      "metadata": {
        "id": "ChYaclHFPimd"
      },
      "source": [
        "df1.write.parquet(\"/content/drive/MyDrive/datasets/sparkify_event_data.parquet\")"
      ],
      "execution_count": 31,
      "outputs": []
    },
    {
      "cell_type": "code",
      "metadata": {
        "id": "El8g4MHOPcyk"
      },
      "source": [
        "df3 = spark.read.parquet(\"/content/drive/MyDrive/datasets/sparkify_event_data.parquet\")"
      ],
      "execution_count": 33,
      "outputs": []
    },
    {
      "cell_type": "code",
      "metadata": {
        "id": "8GC2L_0vS1Ll",
        "outputId": "2c5b3711-2172-42bd-95f4-1a3e2d71a02e",
        "colab": {
          "base_uri": "https://localhost:8080/"
        }
      },
      "source": [
        "df3.count()"
      ],
      "execution_count": 35,
      "outputs": [
        {
          "output_type": "execute_result",
          "data": {
            "text/plain": [
              "26259199"
            ]
          },
          "metadata": {
            "tags": []
          },
          "execution_count": 35
        }
      ]
    },
    {
      "cell_type": "code",
      "metadata": {
        "id": "0V9agjmYTopn",
        "outputId": "cb88cf1a-1614-4227-dcf7-b95c8262c426",
        "colab": {
          "base_uri": "https://localhost:8080/"
        }
      },
      "source": [
        "df3.printSchema()"
      ],
      "execution_count": 36,
      "outputs": [
        {
          "output_type": "stream",
          "text": [
            "root\n",
            " |-- artist: string (nullable = true)\n",
            " |-- auth: string (nullable = true)\n",
            " |-- firstName: string (nullable = true)\n",
            " |-- gender: string (nullable = true)\n",
            " |-- itemInSession: long (nullable = true)\n",
            " |-- lastName: string (nullable = true)\n",
            " |-- length: double (nullable = true)\n",
            " |-- level: string (nullable = true)\n",
            " |-- location: string (nullable = true)\n",
            " |-- method: string (nullable = true)\n",
            " |-- page: string (nullable = true)\n",
            " |-- registration: long (nullable = true)\n",
            " |-- sessionId: long (nullable = true)\n",
            " |-- song: string (nullable = true)\n",
            " |-- status: long (nullable = true)\n",
            " |-- ts: long (nullable = true)\n",
            " |-- userAgent: string (nullable = true)\n",
            " |-- userId: string (nullable = true)\n",
            "\n"
          ],
          "name": "stdout"
        }
      ]
    },
    {
      "cell_type": "code",
      "metadata": {
        "id": "AK2uW_5IA_fI",
        "outputId": "da8f5743-1002-43e9-8bc2-0af98ea5f495",
        "colab": {
          "base_uri": "https://localhost:8080/"
        }
      },
      "source": [
        "df.printSchema()"
      ],
      "execution_count": 6,
      "outputs": [
        {
          "output_type": "stream",
          "text": [
            "root\n",
            " |-- artist: string (nullable = true)\n",
            " |-- auth: string (nullable = true)\n",
            " |-- firstName: string (nullable = true)\n",
            " |-- gender: string (nullable = true)\n",
            " |-- itemInSession: long (nullable = true)\n",
            " |-- lastName: string (nullable = true)\n",
            " |-- length: double (nullable = true)\n",
            " |-- level: string (nullable = true)\n",
            " |-- location: string (nullable = true)\n",
            " |-- method: string (nullable = true)\n",
            " |-- page: string (nullable = true)\n",
            " |-- registration: long (nullable = true)\n",
            " |-- sessionId: long (nullable = true)\n",
            " |-- song: string (nullable = true)\n",
            " |-- status: long (nullable = true)\n",
            " |-- ts: long (nullable = true)\n",
            " |-- userAgent: string (nullable = true)\n",
            " |-- userId: string (nullable = true)\n",
            "\n"
          ],
          "name": "stdout"
        }
      ]
    },
    {
      "cell_type": "code",
      "metadata": {
        "id": "utzqEa8UDiNG"
      },
      "source": [
        "up_df = df3.select([\"userId\", \"ts\", \"page\"]).filter(df3.page == \"Submit Upgrade\")\r\n",
        "down_df = df3.select([\"userId\", \"ts\", \"page\"]).filter(df3.page == \"Submit Downgrade\")"
      ],
      "execution_count": 39,
      "outputs": []
    },
    {
      "cell_type": "code",
      "metadata": {
        "id": "Gg7suqWGXTCH",
        "outputId": "fa2d07b4-8a9a-4f34-b7b3-26d79bd83fd2",
        "colab": {
          "base_uri": "https://localhost:8080/"
        }
      },
      "source": [
        "user_up_df.show()"
      ],
      "execution_count": 45,
      "outputs": [
        {
          "output_type": "stream",
          "text": [
            "+-------+-------------+--------------+\n",
            "| userId|           ts|          page|\n",
            "+-------+-------------+--------------+\n",
            "|1000280|1539913798000|Submit Upgrade|\n",
            "|1030587|1539712344000|Submit Upgrade|\n",
            "|1033297|1543250688000|Submit Upgrade|\n",
            "|1057724|1540466602000|Submit Upgrade|\n",
            "|1069552|1541044964000|Submit Upgrade|\n",
            "|1071308|1538504533000|Submit Upgrade|\n",
            "|1083324|1538383967000|Submit Upgrade|\n",
            "|1083324|1543324771000|Submit Upgrade|\n",
            "|1114507|1539774588000|Submit Upgrade|\n",
            "|1133196|1542767440000|Submit Upgrade|\n",
            "|1133196|1540323757000|Submit Upgrade|\n",
            "|1151194|1542238475000|Submit Upgrade|\n",
            "|1200956|1541516443000|Submit Upgrade|\n",
            "|1200956|1538640235000|Submit Upgrade|\n",
            "|1271218|1538993088000|Submit Upgrade|\n",
            "|1271218|1542263004000|Submit Upgrade|\n",
            "|1271218|1539946427000|Submit Upgrade|\n",
            "|1311711|1539018790000|Submit Upgrade|\n",
            "|1338783|1538757622000|Submit Upgrade|\n",
            "|1339632|1543035592000|Submit Upgrade|\n",
            "+-------+-------------+--------------+\n",
            "only showing top 20 rows\n",
            "\n"
          ],
          "name": "stdout"
        }
      ]
    },
    {
      "cell_type": "code",
      "metadata": {
        "id": "HbBoICGHJPCK",
        "outputId": "04bbea2e-dea5-46cd-ca3b-bb28df225b1e",
        "colab": {
          "base_uri": "https://localhost:8080/"
        }
      },
      "source": [
        "user_df = df3.select(\"userId\").distinct()\r\n",
        "user_up_df = user_df.join(up_df, up_df.userId == user_df.userId)\r\n",
        "user_up_df = user_up_df.drop(up_df.userId)\r\n"
      ],
      "execution_count": 47,
      "outputs": [
        {
          "output_type": "stream",
          "text": [
            "+-------+-------------+--------------+-------+-------------+----------------+\n",
            "| userId|           ts|          page| userId|           ts|            page|\n",
            "+-------+-------------+--------------+-------+-------------+----------------+\n",
            "|1000280|1539913798000|Submit Upgrade|1000280|1539974239000|Submit Downgrade|\n",
            "+-------+-------------+--------------+-------+-------------+----------------+\n",
            "\n"
          ],
          "name": "stdout"
        }
      ]
    },
    {
      "cell_type": "code",
      "metadata": {
        "id": "wh_BNEDAcg_D"
      },
      "source": [
        "import pyspark.sql.functions as F"
      ],
      "execution_count": 48,
      "outputs": []
    },
    {
      "cell_type": "code",
      "metadata": {
        "id": "1ZR5kseycYE3",
        "outputId": "f34f81d4-7c84-42c7-9b8e-0d9887ee5837",
        "colab": {
          "base_uri": "https://localhost:8080/"
        }
      },
      "source": [
        "up_df.groupby(up_df.userId).agg(F.count(up_df.userId)).show()"
      ],
      "execution_count": 59,
      "outputs": [
        {
          "output_type": "stream",
          "text": [
            "+-------+-------------+\n",
            "| userId|count(userId)|\n",
            "+-------+-------------+\n",
            "|1133196|            2|\n",
            "|1690101|            1|\n",
            "|1658815|            1|\n",
            "|1770964|            1|\n",
            "|1828442|            1|\n",
            "|1880560|            1|\n",
            "|1349958|            1|\n",
            "|1000280|            1|\n",
            "|1853227|            4|\n",
            "|1627009|            1|\n",
            "|1775420|            1|\n",
            "|1339632|            1|\n",
            "|1517899|            2|\n",
            "|1633577|            2|\n",
            "|1863821|            1|\n",
            "|1311711|            1|\n",
            "|1803077|            1|\n",
            "|1994878|            2|\n",
            "|1359175|            2|\n",
            "|1875484|            2|\n",
            "+-------+-------------+\n",
            "only showing top 20 rows\n",
            "\n"
          ],
          "name": "stdout"
        }
      ]
    },
    {
      "cell_type": "code",
      "metadata": {
        "id": "GKbFFQZZdB4E",
        "outputId": "e57eba21-7a12-4323-aaf8-45754bd53142",
        "colab": {
          "base_uri": "https://localhost:8080/"
        }
      },
      "source": [
        "user_up_df.filter(user_up_df.userId == 1133196).show()"
      ],
      "execution_count": 60,
      "outputs": [
        {
          "output_type": "stream",
          "text": [
            "+-------+-------------+--------------+\n",
            "| userId|           ts|          page|\n",
            "+-------+-------------+--------------+\n",
            "|1133196|1542767440000|Submit Upgrade|\n",
            "|1133196|1540323757000|Submit Upgrade|\n",
            "+-------+-------------+--------------+\n",
            "\n"
          ],
          "name": "stdout"
        }
      ]
    },
    {
      "cell_type": "code",
      "metadata": {
        "id": "2aBW_DAzdSYO"
      },
      "source": [
        "down_df = down_df.withColumnRenamed(\"ts\", \"down_ts\")"
      ],
      "execution_count": 53,
      "outputs": []
    },
    {
      "cell_type": "code",
      "metadata": {
        "id": "Qfl53YoBcXG0",
        "outputId": "892930bb-c4bf-4ba2-88d9-716bd09b0733",
        "colab": {
          "base_uri": "https://localhost:8080/"
        }
      },
      "source": [
        "user_up_df.filter(user_up_df.userId == 1133196).join(down_df,\r\n",
        "  (down_df.userId == user_up_df.userId) & \r\n",
        "  (down_df.down_ts > user_up_df.ts), how=\"left\") \\\r\n",
        "  .show()"
      ],
      "execution_count": 61,
      "outputs": [
        {
          "output_type": "stream",
          "text": [
            "+-------+-------------+--------------+-------+-------------+----------------+\n",
            "| userId|           ts|          page| userId|      down_ts|            page|\n",
            "+-------+-------------+--------------+-------+-------------+----------------+\n",
            "|1133196|1542767440000|Submit Upgrade|   null|         null|            null|\n",
            "|1133196|1540323757000|Submit Upgrade|1133196|1541503005000|Submit Downgrade|\n",
            "+-------+-------------+--------------+-------+-------------+----------------+\n",
            "\n"
          ],
          "name": "stdout"
        }
      ]
    },
    {
      "cell_type": "code",
      "metadata": {
        "id": "-fXUtNk0Hay8",
        "outputId": "2f20308a-132a-4641-d455-7e1d239a521a",
        "colab": {
          "base_uri": "https://localhost:8080/"
        }
      },
      "source": [
        "df.select([\"page\", \"song\", \"registration\", \"itemInSession\"]).show(50)"
      ],
      "execution_count": 15,
      "outputs": [
        {
          "output_type": "stream",
          "text": [
            "+---------------+--------------------+-------------+-------------+\n",
            "|           page|                song| registration|itemInSession|\n",
            "+---------------+--------------------+-------------+-------------+\n",
            "|       NextSong|           Rockpools|1538173362000|           50|\n",
            "|       NextSong|              Canada|1538331630000|           79|\n",
            "|       NextSong|   Time For Miracles|1538173362000|           51|\n",
            "|       NextSong|Knocking On Forbi...|1538331630000|           80|\n",
            "|       NextSong|Harder Better Fas...|1538173362000|           52|\n",
            "|       NextSong|      Don't Leave Me|1538331630000|           81|\n",
            "|       NextSong|         Run Run Run|1538331630000|           82|\n",
            "|       NextSong|Passengers (Old A...|1538173362000|           53|\n",
            "|Add to Playlist|                null|1538173362000|           54|\n",
            "|       NextSong|          Fuck Kitty|1538173362000|           55|\n",
            "|       NextSong|   Walk On The Water|1538331630000|           83|\n",
            "|    Roll Advert|                null|1538331630000|           84|\n",
            "|       NextSong|                Jade|1538173362000|           56|\n",
            "|       NextSong|      Gettin' Better|1538331630000|           85|\n",
            "|      Thumbs Up|                null|1538331630000|           86|\n",
            "|       NextSong|   So-Called Friends|1538173362000|           57|\n",
            "|       NextSong| You've Got The Love|1538331630000|           87|\n",
            "|       NextSong|Citizens Of Tomorrow|1537365219000|            0|\n",
            "|       NextSong|           Represent|1538173362000|           58|\n",
            "|       NextSong|              Swisha|1538331630000|           88|\n",
            "|       NextSong|Carbon Y Ramas Secas|1537365219000|            1|\n",
            "|       NextSong|           Here I Am|1538173362000|           59|\n",
            "|       NextSong|         What I Mean|1532482662000|            0|\n",
            "|       NextSong|        Sticky Sweet|1538331630000|           89|\n",
            "|       NextSong|Sorrow (1997 Digi...|1537365219000|            2|\n",
            "|       NextSong|Rebirthing (Album...|1538173362000|           60|\n",
            "|       NextSong|You'll Never Know...|1532482662000|            1|\n",
            "|       NextSong|               Smile|1538331630000|           90|\n",
            "|       NextSong|          I Want You|1537365219000|            3|\n",
            "|       NextSong|Dog Days Are Over...|1538173362000|           61|\n",
            "|       NextSong|             For You|1532482662000|            2|\n",
            "|       NextSong|              Closer|1538331630000|           91|\n",
            "|       NextSong|Tomorrow Is A Lon...|1538173362000|           62|\n",
            "|       NextSong|       Mi CorazÃÂ³n|1537365219000|            4|\n",
            "|       NextSong|          Girl Money|1532482662000|            3|\n",
            "|      Downgrade|                null|1532482662000|            4|\n",
            "|       NextSong|    Halloween Spooks|1538173362000|           63|\n",
            "|       NextSong|     Demasiado Bueno|1538331630000|           92|\n",
            "|       NextSong|            Stronger|1538173362000|           64|\n",
            "|       NextSong|          My Name Is|1532482662000|            5|\n",
            "|       NextSong|           Fireflies|1537365219000|            5|\n",
            "|       NextSong|  Whoa! Shut It Down|1538331630000|           93|\n",
            "|       NextSong| Spiritual Holocaust|1537365219000|            6|\n",
            "|       NextSong|The Kids Don\u0019t St...|1532482662000|            6|\n",
            "|      Thumbs Up|                null|1532482662000|            7|\n",
            "|       NextSong|   Dis Iz Brick City|1538173362000|           65|\n",
            "|       NextSong|     World Long Gone|1538331630000|           94|\n",
            "|    Thumbs Down|                null|1538331630000|           95|\n",
            "|       NextSong|               Mamma|1537365219000|            7|\n",
            "|       NextSong|          Move Along|1538173362000|           66|\n",
            "+---------------+--------------------+-------------+-------------+\n",
            "only showing top 50 rows\n",
            "\n"
          ],
          "name": "stdout"
        }
      ]
    },
    {
      "cell_type": "code",
      "metadata": {
        "id": "WKWyW2dC7FU4",
        "outputId": "b75701d9-501c-491a-c34a-25a01f49d809",
        "colab": {
          "base_uri": "https://localhost:8080/"
        }
      },
      "source": [
        "df.select(\"user\").filter(df.page == \"Submit Upgrade\")."
      ],
      "execution_count": 17,
      "outputs": [
        {
          "output_type": "execute_result",
          "data": {
            "text/plain": [
              "159"
            ]
          },
          "metadata": {
            "tags": []
          },
          "execution_count": 17
        }
      ]
    },
    {
      "cell_type": "code",
      "metadata": {
        "id": "VroNWfQXF79e",
        "outputId": "01e686a4-4269-4363-9142-9ffb4742355b",
        "colab": {
          "base_uri": "https://localhost:8080/"
        }
      },
      "source": [
        "df.select([\"userId\",\"page\",\"ts\", \"song\"]) \\\r\n",
        "  .filter(df.userId == 30) \\\r\n",
        "  .filter(df.page != 'NextSong') \\\r\n",
        "  .sort(\"ts\").show(150)"
      ],
      "execution_count": 24,
      "outputs": [
        {
          "output_type": "stream",
          "text": [
            "+------+----------------+-------------+----+\n",
            "|userId|            page|           ts|song|\n",
            "+------+----------------+-------------+----+\n",
            "|    30| Add to Playlist|1538352905000|null|\n",
            "|    30|     Thumbs Down|1538356524000|null|\n",
            "|    30|       Thumbs Up|1538357649000|null|\n",
            "|    30|       Thumbs Up|1538357991000|null|\n",
            "|    30|     Roll Advert|1538360737000|null|\n",
            "|    30| Add to Playlist|1538361575000|null|\n",
            "|    30|      Add Friend|1538810631000|null|\n",
            "|    30|            Home|1538948226000|null|\n",
            "|    30|            Help|1538950549000|null|\n",
            "|    30|            Home|1538950593000|null|\n",
            "|    30|       Downgrade|1538953526000|null|\n",
            "|    30|       Thumbs Up|1538962841000|null|\n",
            "|    30|       Thumbs Up|1538963113000|null|\n",
            "|    30|            Home|1538965154000|null|\n",
            "|    30| Add to Playlist|1538966961000|null|\n",
            "|    30|       Thumbs Up|1538967448000|null|\n",
            "|    30| Add to Playlist|1538967453000|null|\n",
            "|    30|       Thumbs Up|1538967968000|null|\n",
            "|    30| Add to Playlist|1538967976000|null|\n",
            "|    30| Add to Playlist|1538968181000|null|\n",
            "|    30|       Thumbs Up|1538970478000|null|\n",
            "|    30|            Home|1538971191000|null|\n",
            "|    30|      Add Friend|1538971737000|null|\n",
            "|    30|       Thumbs Up|1538972604000|null|\n",
            "|    30|       Thumbs Up|1538977053000|null|\n",
            "|    30|            Home|1538977336000|null|\n",
            "|    30|       Thumbs Up|1538978501000|null|\n",
            "|    30|       Thumbs Up|1538985043000|null|\n",
            "|    30|      Add Friend|1538985421000|null|\n",
            "|    30|      Add Friend|1538985422000|null|\n",
            "|    30| Add to Playlist|1538985666000|null|\n",
            "|    30|        Settings|1538986292000|null|\n",
            "|    30|       Thumbs Up|1538987268000|null|\n",
            "|    30| Add to Playlist|1538990355000|null|\n",
            "|    30|           Error|1538990811000|null|\n",
            "|    30|       Downgrade|1538994201000|null|\n",
            "|    30|       Downgrade|1538995453000|null|\n",
            "|    30|Submit Downgrade|1538995454000|null|\n",
            "|    30|            Home|1538995509000|null|\n",
            "|    30| Add to Playlist|1538996261000|null|\n",
            "|    30|            Home|1538996870000|null|\n",
            "|    30|       Thumbs Up|1538997825000|null|\n",
            "|    30| Add to Playlist|1538998114000|null|\n",
            "|    30|         Upgrade|1539000958000|null|\n",
            "|    30|         Upgrade|1539001077000|null|\n",
            "|    30| Add to Playlist|1539001513000|null|\n",
            "|    30|       Thumbs Up|1539003011000|null|\n",
            "|    30|       Thumbs Up|1539003842000|null|\n",
            "|    30|     Roll Advert|1539004502000|null|\n",
            "|    30| Add to Playlist|1539005525000|null|\n",
            "|    30|            Home|1539005788000|null|\n",
            "|    30|       Thumbs Up|1539006315000|null|\n",
            "|    30|      Add Friend|1539007238000|null|\n",
            "|    30|      Add Friend|1539007239000|null|\n",
            "|    30|            Home|1539007249000|null|\n",
            "|    30|     Roll Advert|1539007439000|null|\n",
            "|    30|            Home|1539008217000|null|\n",
            "|    30|            Home|1539158867000|null|\n",
            "|    30|            Home|1539273182000|null|\n",
            "|    30|            Home|1539273245000|null|\n",
            "|    30|            Home|1539275685000|null|\n",
            "|    30|     Roll Advert|1539276951000|null|\n",
            "|    30|         Upgrade|1539277261000|null|\n",
            "|    30|       Thumbs Up|1539279893000|null|\n",
            "|    30|     Roll Advert|1539280865000|null|\n",
            "|    30|     Roll Advert|1539280873000|null|\n",
            "|    30|     Roll Advert|1539296131000|null|\n",
            "|    30|       Thumbs Up|1539296796000|null|\n",
            "|    30|     Roll Advert|1539297701000|null|\n",
            "|    30|       Thumbs Up|1539298966000|null|\n",
            "|    30|       Thumbs Up|1539300791000|null|\n",
            "|    30|         Upgrade|1539301073000|null|\n",
            "|    30|          Logout|1539301491000|null|\n",
            "|    30|            Home|1539615637000|null|\n",
            "|    30| Add to Playlist|1539615704000|null|\n",
            "|    30|     Roll Advert|1539617871000|null|\n",
            "|    30|            Home|1539618210000|null|\n",
            "|    30|       Thumbs Up|1539619820000|null|\n",
            "|    30|     Roll Advert|1539620841000|null|\n",
            "|    30|          Logout|1539620842000|null|\n",
            "|    30|            Home|1539620843000|null|\n",
            "|    30|     Roll Advert|1539621468000|null|\n",
            "|    30|     Roll Advert|1539621525000|null|\n",
            "|    30|       Thumbs Up|1539622196000|null|\n",
            "|    30|     Roll Advert|1539625118000|null|\n",
            "|    30| Add to Playlist|1539625638000|null|\n",
            "|    30| Add to Playlist|1539626977000|null|\n",
            "|    30|       Thumbs Up|1539628057000|null|\n",
            "|    30|          Logout|1539628620000|null|\n",
            "|    30|            Home|1539628843000|null|\n",
            "|    30|            Help|1539629166000|null|\n",
            "|    30|            Home|1539629830000|null|\n",
            "|    30|      Add Friend|1539629831000|null|\n",
            "|    30|        Settings|1539629845000|null|\n",
            "|    30|            Home|1539731438000|null|\n",
            "|    30|          Logout|1539731439000|null|\n",
            "|    30|            Home|1540070969000|null|\n",
            "|    30| Add to Playlist|1540271765000|null|\n",
            "|    30|     Roll Advert|1540272903000|null|\n",
            "|    30| Add to Playlist|1540273497000|null|\n",
            "|    30|     Roll Advert|1540273724000|null|\n",
            "|    30|     Thumbs Down|1540273893000|null|\n",
            "|    30|     Roll Advert|1540274147000|null|\n",
            "|    30|       Thumbs Up|1540549424000|null|\n",
            "|    30|            Home|1540549897000|null|\n",
            "|    30|       Thumbs Up|1540551210000|null|\n",
            "|    30|        Settings|1540554078000|null|\n",
            "|    30|     Roll Advert|1540554315000|null|\n",
            "|    30|      Add Friend|1540555328000|null|\n",
            "|    30|     Thumbs Down|1540653230000|null|\n",
            "|    30|     Roll Advert|1540654790000|null|\n",
            "|    30|     Roll Advert|1540656011000|null|\n",
            "|    30|     Roll Advert|1540657103000|null|\n",
            "|    30|            Home|1540658715000|null|\n",
            "|    30|     Roll Advert|1540658966000|null|\n",
            "|    30| Add to Playlist|1540659661000|null|\n",
            "|    30|          Logout|1540660819000|null|\n",
            "|    30|            Home|1540660921000|null|\n",
            "|    30|        Settings|1540662083000|null|\n",
            "|    30|     Roll Advert|1540662539000|null|\n",
            "|    30|        Settings|1540663929000|null|\n",
            "|    30|     Roll Advert|1540988576000|null|\n",
            "|    30|       Thumbs Up|1540989776000|null|\n",
            "|    30| Add to Playlist|1540989791000|null|\n",
            "|    30|          Logout|1540990827000|null|\n",
            "|    30|            Home|1540990864000|null|\n",
            "|    30|     Roll Advert|1540991842000|null|\n",
            "|    30|     Roll Advert|1540992218000|null|\n",
            "|    30|         Upgrade|1540993621000|null|\n",
            "|    30|      Add Friend|1540993622000|null|\n",
            "|    30|           About|1540993705000|null|\n",
            "|    30|       Thumbs Up|1540994382000|null|\n",
            "|    30|            Home|1540995277000|null|\n",
            "|    30|       Thumbs Up|1540996000000|null|\n",
            "|    30|     Roll Advert|1541000594000|null|\n",
            "|    30|     Roll Advert|1541000604000|null|\n",
            "|    30|     Roll Advert|1541001815000|null|\n",
            "|    30|         Upgrade|1541004043000|null|\n",
            "|    30| Add to Playlist|1541006779000|null|\n",
            "|    30|     Thumbs Down|1541006835000|null|\n",
            "|    30|       Thumbs Up|1541006996000|null|\n",
            "|    30|          Logout|1541007452000|null|\n",
            "|    30|            Home|1541007500000|null|\n",
            "|    30|     Roll Advert|1541008829000|null|\n",
            "|    30|     Roll Advert|1541009041000|null|\n",
            "|    30|     Roll Advert|1541044761000|null|\n",
            "|    30|          Logout|1541045013000|null|\n",
            "|    30|            Home|1541045078000|null|\n",
            "|    30|        Settings|1541045342000|null|\n",
            "|    30|         Upgrade|1541047271000|null|\n",
            "+------+----------------+-------------+----+\n",
            "only showing top 150 rows\n",
            "\n"
          ],
          "name": "stdout"
        }
      ]
    },
    {
      "cell_type": "code",
      "metadata": {
        "id": "FmiCVTU5yke6",
        "outputId": "ea5164eb-1a23-441d-dff1-d4ba5d0237f3",
        "colab": {
          "base_uri": "https://localhost:8080/"
        }
      },
      "source": [
        "df.filter(df.page == 'Submit Downgrade').count()"
      ],
      "execution_count": 41,
      "outputs": [
        {
          "output_type": "execute_result",
          "data": {
            "text/plain": [
              "63"
            ]
          },
          "metadata": {
            "tags": []
          },
          "execution_count": 41
        }
      ]
    },
    {
      "cell_type": "code",
      "metadata": {
        "id": "zBBViT3PuRAJ",
        "outputId": "892da6b8-aa99-473a-91d9-68023b59c9f7",
        "colab": {
          "base_uri": "https://localhost:8080/"
        }
      },
      "source": [
        "df.filter(df.page.isin(\"Submit Downgrade\")).select([\"userId\"]).distinct().show(100)"
      ],
      "execution_count": 36,
      "outputs": [
        {
          "output_type": "stream",
          "text": [
            "+------+\n",
            "|userId|\n",
            "+------+\n",
            "|    54|\n",
            "|    11|\n",
            "|    30|\n",
            "|    59|\n",
            "|    85|\n",
            "|    35|\n",
            "|100008|\n",
            "|100025|\n",
            "|300002|\n",
            "|    96|\n",
            "|   100|\n",
            "|    61|\n",
            "|   131|\n",
            "|   140|\n",
            "|300004|\n",
            "|300015|\n",
            "|    77|\n",
            "|100009|\n",
            "|300011|\n",
            "|100004|\n",
            "|200003|\n",
            "|100015|\n",
            "|300023|\n",
            "|100016|\n",
            "|    95|\n",
            "|    38|\n",
            "|   103|\n",
            "|    25|\n",
            "|200009|\n",
            "|200023|\n",
            "|    92|\n",
            "|    81|\n",
            "|100012|\n",
            "|200025|\n",
            "|200020|\n",
            "|   141|\n",
            "|     9|\n",
            "|    24|\n",
            "|    20|\n",
            "|200011|\n",
            "|    49|\n",
            "|300021|\n",
            "|    39|\n",
            "|    12|\n",
            "|   109|\n",
            "|    13|\n",
            "|200019|\n",
            "|    74|\n",
            "|100018|\n",
            "+------+\n",
            "\n"
          ],
          "name": "stdout"
        }
      ]
    },
    {
      "cell_type": "code",
      "metadata": {
        "id": "FllrGBGdKlC-",
        "outputId": "eb5e6c22-2e64-4dde-ba69-dfbc9fe0f592",
        "colab": {
          "base_uri": "https://localhost:8080/"
        }
      },
      "source": [
        "!gcloud auth login"
      ],
      "execution_count": 27,
      "outputs": [
        {
          "output_type": "stream",
          "text": [
            "Go to the following link in your browser:\n",
            "\n",
            "    https://accounts.google.com/o/oauth2/auth?response_type=code&client_id=32555940559.apps.googleusercontent.com&redirect_uri=urn%3Aietf%3Awg%3Aoauth%3A2.0%3Aoob&scope=openid+https%3A%2F%2Fwww.googleapis.com%2Fauth%2Fuserinfo.email+https%3A%2F%2Fwww.googleapis.com%2Fauth%2Fcloud-platform+https%3A%2F%2Fwww.googleapis.com%2Fauth%2Fappengine.admin+https%3A%2F%2Fwww.googleapis.com%2Fauth%2Fcompute+https%3A%2F%2Fwww.googleapis.com%2Fauth%2Faccounts.reauth&state=L5hRywgsOtrjcwAGDfeMgF4QfW0NTW&prompt=consent&access_type=offline&code_challenge=nLreFFNWDBJjodvpR1cohN6ehdlb9OCQPmIKP9YmJ_E&code_challenge_method=S256\n",
            "\n",
            "Enter verification code: 4/1AY0e-g4GJKg3KXunOKbchK4S0qF0x-rtIfm8gPUrO_c3GLX4nLWK1E_mYDU\n",
            "\n",
            "You are now logged in as [afahmi13@gmail.com].\n",
            "Your current project is [None].  You can change this setting by running:\n",
            "  $ gcloud config set project PROJECT_ID\n"
          ],
          "name": "stdout"
        }
      ]
    },
    {
      "cell_type": "code",
      "metadata": {
        "id": "XI1CjLhUKeYt",
        "outputId": "9078d3f3-0fb8-414b-c080-f6406f0c51ba",
        "colab": {
          "base_uri": "https://localhost:8080/"
        }
      },
      "source": [
        "!gsutil cp gs://udacity-dsnd/sparkify_event_data.json /content/drive/MyDrive/datasets/sparkify_event_data.json"
      ],
      "execution_count": 29,
      "outputs": [
        {
          "output_type": "stream",
          "text": [
            "Copying gs://udacity-dsnd/sparkify_event_data.json...\n",
            "/ [1 files][ 11.9 GiB/ 11.9 GiB]   50.1 MiB/s                                   \n",
            "Operation completed over 1 objects/11.9 GiB.                                     \n"
          ],
          "name": "stdout"
        }
      ]
    }
  ]
}